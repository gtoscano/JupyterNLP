{
 "cells": [
  {
   "cell_type": "code",
   "execution_count": 1,
   "id": "0034f16a",
   "metadata": {},
   "outputs": [],
   "source": [
    "import matplotlib.pyplot as plt\n",
    "import numpy as np\n",
    "from scipy.cluster.vq import kmeans2\n",
    "from numpy.linalg import *\n"
   ]
  },
  {
   "cell_type": "markdown",
   "id": "49a858b5",
   "metadata": {},
   "source": [
    "![](iris.png)\n"
   ]
  },
  {
   "cell_type": "code",
   "execution_count": 5,
   "id": "fd6c5ce0",
   "metadata": {},
   "outputs": [
    {
     "data": {
      "text/plain": [
       "'.. _iris_dataset:\\n\\nIris plants dataset\\n--------------------\\n\\n**Data Set Characteristics:**\\n\\n:Number of Instances: 150 (50 in each of three classes)\\n:Number of Attributes: 4 numeric, predictive attributes and the class\\n:Attribute Information:\\n    - sepal length in cm\\n    - sepal width in cm\\n    - petal length in cm\\n    - petal width in cm\\n    - class:\\n            - Iris-Setosa\\n            - Iris-Versicolour\\n            - Iris-Virginica\\n\\n:Summary Statistics:\\n\\n============== ==== ==== ======= ===== ====================\\n                Min  Max   Mean    SD   Class Correlation\\n============== ==== ==== ======= ===== ====================\\nsepal length:   4.3  7.9   5.84   0.83    0.7826\\nsepal width:    2.0  4.4   3.05   0.43   -0.4194\\npetal length:   1.0  6.9   3.76   1.76    0.9490  (high!)\\npetal width:    0.1  2.5   1.20   0.76    0.9565  (high!)\\n============== ==== ==== ======= ===== ====================\\n\\n:Missing Attribute Values: None\\n:Class Distribution: 33.3% for each of 3 classes.\\n:Creator: R.A. Fisher\\n:Donor: Michael Marshall (MARSHALL%PLU@io.arc.nasa.gov)\\n:Date: July, 1988\\n\\nThe famous Iris database, first used by Sir R.A. Fisher. The dataset is taken\\nfrom Fisher\\'s paper. Note that it\\'s the same as in R, but not as in the UCI\\nMachine Learning Repository, which has two wrong data points.\\n\\nThis is perhaps the best known database to be found in the\\npattern recognition literature.  Fisher\\'s paper is a classic in the field and\\nis referenced frequently to this day.  (See Duda & Hart, for example.)  The\\ndata set contains 3 classes of 50 instances each, where each class refers to a\\ntype of iris plant.  One class is linearly separable from the other 2; the\\nlatter are NOT linearly separable from each other.\\n\\n.. dropdown:: References\\n\\n  - Fisher, R.A. \"The use of multiple measurements in taxonomic problems\"\\n    Annual Eugenics, 7, Part II, 179-188 (1936); also in \"Contributions to\\n    Mathematical Statistics\" (John Wiley, NY, 1950).\\n  - Duda, R.O., & Hart, P.E. (1973) Pattern Classification and Scene Analysis.\\n    (Q327.D83) John Wiley & Sons.  ISBN 0-471-22361-1.  See page 218.\\n  - Dasarathy, B.V. (1980) \"Nosing Around the Neighborhood: A New System\\n    Structure and Classification Rule for Recognition in Partially Exposed\\n    Environments\".  IEEE Transactions on Pattern Analysis and Machine\\n    Intelligence, Vol. PAMI-2, No. 1, 67-71.\\n  - Gates, G.W. (1972) \"The Reduced Nearest Neighbor Rule\".  IEEE Transactions\\n    on Information Theory, May 1972, 431-433.\\n  - See also: 1988 MLC Proceedings, 54-64.  Cheeseman et al\"s AUTOCLASS II\\n    conceptual clustering system finds 3 classes in the data.\\n  - Many, many more ...\\n'"
      ]
     },
     "execution_count": 5,
     "metadata": {},
     "output_type": "execute_result"
    }
   ],
   "source": [
    "from sklearn.datasets import load_iris\n",
    "data = load_iris()\n",
    "X = data.data[:150]\n",
    "y = data.target[:150]\n",
    "data.DESCR"
   ]
  },
  {
   "cell_type": "code",
   "execution_count": 6,
   "id": "df64fad8",
   "metadata": {},
   "outputs": [],
   "source": [
    "from sklearn.preprocessing import StandardScaler\n",
    "from sklearn.model_selection import train_test_split\n",
    "from sklearn.preprocessing import MinMaxScaler\n",
    "\n",
    "# Standardize features\n",
    "scaler = MinMaxScaler(feature_range=(-1, 1))\n",
    "X_scaled = scaler.fit_transform(X)\n",
    "\n",
    "# Split data into training and testing sets\n",
    "X_train, X_test, y_train, y_test = train_test_split(X_scaled, y, test_size=0.2, random_state=42)\n"
   ]
  },
  {
   "cell_type": "code",
   "execution_count": 9,
   "id": "2cb7b28d",
   "metadata": {},
   "outputs": [
    {
     "name": "stdout",
     "output_type": "stream",
     "text": [
      "For i = 0:\n",
      "For i = 1:\n",
      "For i = 2:\n"
     ]
    },
    {
     "data": {
      "image/png": "[encoded data removed]",
      "text/plain": [
       "<Figure size 640x480 with 1 Axes>"
      ]
     },
     "metadata": {},
     "output_type": "display_data"
    }
   ],
   "source": [
    "for i in range(3):\n",
    "    print(f'For i = {i}:')\n",
    "    new_X = X_test[y_test==i]\n",
    "    plt.plot(new_X[:,1], new_X[:,2], 'o', c=np.random.random(3))\n",
    "    \n"
   ]
  },
  {
   "cell_type": "code",
   "execution_count": 21,
   "id": "484aa5dc",
   "metadata": {},
   "outputs": [],
   "source": [
    "import numpy as np\n",
    "import matplotlib.pyplot  as plt\n",
    "\n",
    "\n",
    "def forward(z, v, w):\n",
    "    n, m = v.shape\n",
    "    x = np.ones((m, 1)) * -1.0 \n",
    "    h = np.ones((n+1, 1)) * -1.0\n",
    "\n",
    "    x[:-1, 0] = z\n",
    "\n",
    "    hNet = np.dot(v, x)\n",
    "    h[:-1, :] = 1.0 / (1.0 + np.e**(-hNet))\n",
    "\n",
    "    oNet = np.dot(w, h)\n",
    "    y = 1.0/(1.0 + np.e**(-oNet))\n",
    "    return x, h, y\n",
    "\n",
    "def backward(x, t, h, y, v, w, eta, hDelta_p, oDelta_p):\n",
    "    error = t - y\n",
    "    odelta = error * (1.0 - y) * y\n",
    "    oDelta = eta * np.dot(odelta, h.T)\n",
    "    \n",
    "    hdelta = np.dot(w.T,odelta) * (1.0 - h)* h\n",
    "    hdelta = hdelta[:-1,:]\n",
    "\n",
    "    hDelta = eta * np.dot(hdelta, x.T)\n",
    "    \n",
    "    w += oDelta + alpha * oDelta_p\n",
    "    v += hDelta + alpha * hDelta_p\n",
    "    \n",
    "    return hDelta, oDelta\n",
    "\n",
    "def ffbp(z, t, v, w, eta, train = False):\n",
    "    count = 0\n",
    "    o,_ = w.shape\n",
    "    outputs = np.zeros((len(t), 1))\n",
    "    hDelta, oDelta = 0,0\n",
    "    identity = np.identity(o , dtype=int).tolist()\n",
    "    MSEr = np.zeros((len(t), o))\n",
    "    if o > 1:\n",
    "        ta = np.array([identity[j[0]] for j in t])\n",
    "    else:\n",
    "        ta = t\n",
    "    for i in range(len(t)):\n",
    "        x, h, y = forward(z[i], v, w)\n",
    "        if o > 1:\n",
    "            tb = np.array([identity[j] for j in t[i]])\n",
    "            tb.shape = (o,1)\n",
    "            MSEr[i,:] = (tb - y)[:,0]\n",
    "            outputs[i] = np.argmax(y)\n",
    "        else:\n",
    "            tb = t[i]\n",
    "            MSEr[i,:] = tb - y[0]\n",
    "            outputs[i] = 0 if y[0] < 0.5 else 1\n",
    "            #outputs[i] = y[0]\n",
    "            \n",
    "        if train == True:\n",
    "            hDelta, oDelta = backward(x, tb, h, y, v, w, eta, hDelta, oDelta)\n",
    "    \n",
    "    MSEi = norm(t - outputs)/float(len(t))\n",
    "    MSEr = norm(MSEr)/ float(len(t))\n",
    "    missClass = t - outputs\n",
    "    missClass[missClass != 0 ] = 1\n",
    "    return MSEi, MSEr, missClass.sum()\n",
    "\n",
    "\n",
    "\n",
    "\n",
    "def training(m, n, o, eta, alpha, epochs, min_error):\n",
    "    v = -2.0 + np.random.random((n, m + 1)) * 4.0\n",
    "    w = -2.0 + np.random.random((o, n + 1)) * 4.0\n",
    "    MSErList = []\n",
    "    idx = np.arange(len(t))\n",
    "    min_MSEr = 100\n",
    "    v_best = None\n",
    "    w_best = None\n",
    "    for i in range(epochs):\n",
    "        np.random.shuffle(idx)\n",
    "        MSEi, MSEr, missClass = ffbp(z[idx], t[idx], v, w, eta,  True)\n",
    "        MSErList.append(MSEr)\n",
    "        \n",
    "        if min_MSEr > MSEr: \n",
    "            min_MSEr = MSEr\n",
    "            v_best = v.copy()\n",
    "            w_best = w.copy()\n",
    "        if MSEr < min_error or missClass ==0 : break   \n",
    "    print('min_MSEr', min_MSEr)\n",
    "    return v_best, w_best, MSErList, missClass\n",
    "        "
   ]
  },
  {
   "cell_type": "code",
   "execution_count": 22,
   "id": "feba35b8",
   "metadata": {},
   "outputs": [
    {
     "name": "stdout",
     "output_type": "stream",
     "text": [
      "min_MSEr 0.022704896607830642\n"
     ]
    },
    {
     "data": {
      "image/png": "[encoded data removed]",
      "text/plain": [
       "<Figure size 640x480 with 1 Axes>"
      ]
     },
     "metadata": {},
     "output_type": "display_data"
    },
    {
     "name": "stdout",
     "output_type": "stream",
     "text": [
      "0.03333333333333333 0.039765811363546906 1.0 0.9666666666666667\n",
      "30\n"
     ]
    }
   ],
   "source": [
    "z = X_train\n",
    "t = y_train\n",
    "#t = np.eye(np.max(y_train) + 1)[y_train.ravel()]\n",
    "\n",
    "t.shape = (len(t),1)\n",
    "alpha = 0.01\n",
    "\n",
    "m = 4\n",
    "n = 6\n",
    "o = 3\n",
    "min_error = 0.01\n",
    "epochs = 100\n",
    "eta = 0.1\n",
    "v, w, MSErList, missClass = training(m, n, o, eta, alpha, epochs, min_error)\n",
    "\n",
    "plt.plot(np.arange(len(MSErList)),np.array(MSErList),\"o\")\n",
    "plt.show()\n",
    "\n",
    "z = X_test\n",
    "t = y_test\n",
    "t.shape = (len(t),1)\n",
    "MSEi, MSEr, missClass = ffbp(z, t, v, w, eta)\n",
    "\n",
    "print (MSEi, MSEr, missClass, 1.0-missClass/len(t))\n",
    "print (len(t))\n"
   ]
  },
  {
   "cell_type": "code",
   "execution_count": null,
   "id": "a161146d-0b14-44b6-82e5-39c2ea5361cd",
   "metadata": {},
   "outputs": [],
   "source": []
  }
 ],
 "metadata": {
  "kernelspec": {
   "display_name": "Python 3 (ipykernel)",
   "language": "python",
   "name": "python3"
  },
  "language_info": {
   "codemirror_mode": {
    "name": "ipython",
    "version": 3
   },
   "file_extension": ".py",
   "mimetype": "text/x-python",
   "name": "python",
   "nbconvert_exporter": "python",
   "pygments_lexer": "ipython3",
   "version": "3.13.5"
  }
 },
 "nbformat": 4,
 "nbformat_minor": 5
}
