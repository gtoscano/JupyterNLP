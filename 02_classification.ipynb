{
 "cells": [
  {
   "cell_type": "code",
   "execution_count": 1,
   "metadata": {},
   "outputs": [
    {
     "name": "stdout",
     "output_type": "stream",
     "text": [
      "Using transformers v4.56.2\n",
      "Using datasets v4.1.1\n"
     ]
    }
   ],
   "source": [
    "import logging\n",
    "import sys\n",
    "from textwrap import TextWrapper\n",
    "\n",
    "import datasets\n",
    "import huggingface_hub\n",
    "import matplotlib.font_manager as font_manager\n",
    "import matplotlib.pyplot as plt\n",
    "import torch\n",
    "import transformers\n",
    "\n",
    "\n",
    "is_colab = \"google.colab\" in sys.modules\n",
    "is_gpu_available = torch.cuda.is_available()\n",
    "\n",
    "def install_mpl_fonts():\n",
    "    font_dir = [\"./orm_fonts/\"]\n",
    "    for font in font_manager.findSystemFonts(font_dir):\n",
    "        font_manager.fontManager.addfont(font)\n",
    "\n",
    "\n",
    "def set_plot_style():\n",
    "    install_mpl_fonts()\n",
    "    set_matplotlib_formats(\"pdf\", \"svg\")\n",
    "    plt.style.use(\"plotting.mplstyle\")\n",
    "    logging.getLogger(\"matplotlib\").setLevel(level=logging.ERROR)\n",
    "\n",
    "\n",
    "def display_library_version(library):\n",
    "    print(f\"Using {library.__name__} v{library.__version__}\")\n",
    "\n",
    "\n",
    "\n",
    "\n",
    "# Check if we have a GPU\n",
    "if not is_gpu_available:\n",
    "    print(\"No GPU was detected! This notebook can be *very* slow without a GPU 🐢\")\n",
    "    if is_colab:\n",
    "        print(\"Go to Runtime > Change runtime type and select a GPU hardware accelerator.\")\n",
    "    if is_kaggle:\n",
    "        print(\"Go to Settings > Accelerator and select GPU.\")\n",
    "# Give visibility on versions of the core libraries\n",
    "display_library_version(transformers)\n",
    "display_library_version(datasets)\n",
    "# Disable all info / warning messages\n",
    "transformers.logging.set_verbosity_error()\n",
    "datasets.logging.set_verbosity_error()\n",
    "# Logging is only available for the chapters that don't depend on Haystack\n",
    "if huggingface_hub.__version__ == \"0.0.19\":\n",
    "    huggingface_hub.logging.set_verbosity_error()\n"
   ]
  },
  {
   "cell_type": "code",
   "execution_count": 2,
   "metadata": {},
   "outputs": [
    {
     "name": "stderr",
     "output_type": "stream",
     "text": [
      "2025-09-29 14:01:48.390822: I tensorflow/core/util/port.cc:113] oneDNN custom operations are on. You may see slightly different numerical results due to floating-point round-off errors from different computation orders. To turn them off, set the environment variable `TF_ENABLE_ONEDNN_OPTS=0`.\n",
      "2025-09-29 14:01:48.417576: E external/local_xla/xla/stream_executor/cuda/cuda_dnn.cc:9261] Unable to register cuDNN factory: Attempting to register factory for plugin cuDNN when one has already been registered\n",
      "2025-09-29 14:01:48.417604: E external/local_xla/xla/stream_executor/cuda/cuda_fft.cc:607] Unable to register cuFFT factory: Attempting to register factory for plugin cuFFT when one has already been registered\n",
      "2025-09-29 14:01:48.418347: E external/local_xla/xla/stream_executor/cuda/cuda_blas.cc:1515] Unable to register cuBLAS factory: Attempting to register factory for plugin cuBLAS when one has already been registered\n",
      "2025-09-29 14:01:48.422654: I tensorflow/core/platform/cpu_feature_guard.cc:182] This TensorFlow binary is optimized to use available CPU instructions in performance-critical operations.\n",
      "To enable the following instructions: AVX2 AVX512F AVX512_VNNI AVX512_BF16 FMA, in other operations, rebuild TensorFlow with the appropriate compiler flags.\n",
      "2025-09-29 14:01:49.131012: W tensorflow/compiler/tf2tensorrt/utils/py_utils.cc:38] TF-TRT Warning: Could not find TensorRT\n"
     ]
    },
    {
     "name": "stdout",
     "output_type": "stream",
     "text": [
      "cuda\n"
     ]
    }
   ],
   "source": [
    "#hide_output\n",
    "import os, random, numpy as np, torch\n",
    "from transformers.utils import logging\n",
    "\n",
    "from transformers import (\n",
    "    pipeline, set_seed, AutoTokenizer, AutoModel, AutoModelForSequenceClassification\n",
    ")\n",
    "from datasets import load_dataset\n",
    "import evaluate\n",
    "\n",
    "logging.set_verbosity_error()\n",
    "\n",
    "device = \"cuda\" if torch.cuda.is_available() else \"cpu\"\n",
    "set_seed(42)\n",
    "print(device)\n"
   ]
  },
  {
   "cell_type": "markdown",
   "metadata": {},
   "source": [
    "# Text Classification"
   ]
  },
  {
   "cell_type": "markdown",
   "metadata": {},
   "source": [
    "Text classification is one of the most common tasks in NLP; it can be used for a broad range of applications, such as tagging customer feedback into categories or routing support tickets according to their language. Chances are that your email program's spam filter is using text classification to protect your inbox from a deluge of unwanted junk!"
   ]
  },
  {
   "cell_type": "markdown",
   "metadata": {},
   "source": [
    "Now imagine that you are a data scientist who needs to build a system that can automatically identify emotional states such as \"anger\" or \"joy\" that people express about your company's product on X. Below, we'll tackle this task using a variant of BERT called DistilBERT.footnote:[V. Sanh et al., [\"DistilBERT, a Distilled Version of BERT: Smaller, Faster, Cheaper and Lighter\"](https://arxiv.org/abs/1910.01108), (2019).] The main advantage of this model is that it achieves comparable performance to BERT, while being significantly smaller and more efficient. This enables us to train a classifier in a few minutes, and if you want to train a larger BERT model you can simply change the checkpoint of the pretrained model. A _checkpoint_ corresponds to the set of weights that are loaded into a given transformer architecture.\n"
   ]
  },
  {
   "cell_type": "markdown",
   "metadata": {},
   "source": [
    "<img alt=\"Hugging Face Pipeline\" caption=\"A typical pipeline for training transformer models with the image:images/logo.png[hf,13,13] Datasets, image:images/logo.png[hf,13,13] Tokenizers, and image:images/logo.png[hf,13,13] Transformers libraries\" src=\"images/chapter02_hf-libraries.png\" id=\"hf-libraries\"/>"
   ]
  },
  {
   "cell_type": "markdown",
   "metadata": {},
   "source": [
    "## The Dataset"
   ]
  },
  {
   "cell_type": "markdown",
   "metadata": {},
   "source": [
    "To build our emotion detector we'll use a great dataset from an article that explored how emotions are represented in English Twitter messages.footnote:[E. Saravia et al., \"CARER: Contextualized Affect Representations for Emotion Recognition,\" _Proceedings of the 2018 Conference on Empirical Methods in Natural Language Processing_ (Oct–Nov 2018): 3687–3697, http://dx.doi.org/10.18653/v1/D18-1404.] Unlike most sentiment analysis datasets that involve just \"positive\" and \"negative\" polarities, this dataset contains six basic emotions: anger, disgust, fear, joy, sadness, and surprise. Given a tweet, our task will be to train a model that can classify it into one of these emotions."
   ]
  },
  {
   "cell_type": "markdown",
   "metadata": {},
   "source": [
    "### A First Look at Hugging Face Datasets"
   ]
  },
  {
   "cell_type": "markdown",
   "metadata": {},
   "source": [
    "We will use image:images/logo.png[hf,13,13] Datasets to download the data from the [Hugging Face Hub](https://huggingface.co/datasets). We can use the `list_datasets()` function to see what datasets are available on the Hub:"
   ]
  },
  {
   "cell_type": "code",
   "execution_count": 4,
   "metadata": {},
   "outputs": [
    {
     "data": {
      "application/vnd.jupyter.widget-view+json": {
       "model_id": "0d666ff2da864cf7bf9935aced69a283",
       "version_major": 2,
       "version_minor": 0
      },
      "text/plain": [
       "VBox(children=(HTML(value='<center> <img\\nsrc=https://huggingface.co/front/assets/huggingface_logo-noborder.sv…"
      ]
     },
     "metadata": {},
     "output_type": "display_data"
    }
   ],
   "source": [
    "import os\n",
    "from huggingface_hub import notebook_login\n",
    "from huggingface_hub import login\n",
    "from huggingface_hub import list_datasets\n",
    "# In the terminal do huggingface-cli login\n",
    "# or login(\"your_token_here\")\n",
    "# or\n",
    "notebook_login()\n"
   ]
  },
  {
   "cell_type": "markdown",
   "metadata": {},
   "source": [
    "We see that each dataset is given a name, so let's load the `emotion` dataset with the `load_dataset()` function:"
   ]
  },
  {
   "cell_type": "code",
   "execution_count": 46,
   "metadata": {},
   "outputs": [
    {
     "name": "stdout",
     "output_type": "stream",
     "text": [
      "There are 512295 datasets currently available on the Hub\n",
      "The first 10 are: [DatasetInfo(id='openai/gdpval', author='openai', sha='a3848a2a812d5d4d0f08003fac3c8eac40805962', created_at=datetime.datetime(2025, 9, 25, 9, 33, 23, tzinfo=datetime.timezone.utc), last_modified=datetime.datetime(2025, 9, 25, 16, 21, 20, tzinfo=datetime.timezone.utc), private=False, gated=False, disabled=False, downloads=6583, downloads_all_time=None, likes=114, paperswithcode_id=None, tags=['size_categories:n<1K', 'format:parquet', 'modality:audio', 'modality:document', 'modality:image', 'modality:text', 'modality:video', 'library:datasets', 'library:pandas', 'library:mlcroissant', 'library:polars', 'region:us'], trending_score=114, card_data=None, siblings=None, xet_enabled=None), DatasetInfo(id='fka/awesome-chatgpt-prompts', author='fka', sha='68ba7694e23014788dcc8ab5afe613824f45a05c', created_at=datetime.datetime(2022, 12, 13, 23, 47, 45, tzinfo=datetime.timezone.utc), last_modified=datetime.datetime(2025, 1, 6, 0, 2, 53, tzinfo=datetime.timezone.utc), private=False, gated=False, disabled=False, downloads=49392, downloads_all_time=None, likes=9163, paperswithcode_id=None, tags=['task_categories:question-answering', 'license:cc0-1.0', 'size_categories:n<1K', 'format:csv', 'modality:text', 'library:datasets', 'library:pandas', 'library:mlcroissant', 'library:polars', 'region:us', 'ChatGPT'], trending_score=66, card_data=None, siblings=None, xet_enabled=None), DatasetInfo(id='nvidia/Nemotron-Personas-Japan', author='nvidia', sha='1f0fd597e28766ac8a4a8fc1f56e46286505eee8', created_at=datetime.datetime(2025, 9, 20, 2, 14, 15, tzinfo=datetime.timezone.utc), last_modified=datetime.datetime(2025, 9, 24, 0, 2, 54, tzinfo=datetime.timezone.utc), private=False, gated=False, disabled=False, downloads=6871, downloads_all_time=None, likes=65, paperswithcode_id=None, tags=['task_categories:text-generation', 'language:ja', 'license:cc-by-4.0', 'size_categories:1M<n<10M', 'format:parquet', 'modality:image', 'modality:text', 'library:datasets', 'library:dask', 'library:mlcroissant', 'library:polars', 'region:us', 'synthetic', 'personas', 'NVIDIA'], trending_score=65, card_data=None, siblings=None, xet_enabled=None), DatasetInfo(id='HuggingFaceFW/finepdfs', author='HuggingFaceFW', sha='909850e0d03f191dced336f4e07d85f0fd1b9528', created_at=datetime.datetime(2025, 9, 5, 20, 8, 33, tzinfo=datetime.timezone.utc), last_modified=datetime.datetime(2025, 9, 8, 13, 36, 38, tzinfo=datetime.timezone.utc), private=False, gated=False, disabled=False, downloads=94381, downloads_all_time=None, likes=581, paperswithcode_id=None, tags=['task_categories:text-generation', 'language:aai', 'language:aak', 'language:aau', 'language:aaz', 'language:aba', 'language:abi', 'language:abk', 'language:abn', 'language:abq', 'language:abs', 'language:abt', 'language:abx', 'language:aby', 'language:abz', 'language:aca', 'language:acd', 'language:ace', 'language:acf', 'language:ach', 'language:acm', 'language:acn', 'language:acr', 'language:acu', 'language:ada', 'language:ade', 'language:adh', 'language:adi', 'language:adj', 'language:adl', 'language:ady', 'language:adz', 'language:aeb', 'language:aer', 'language:aeu', 'language:aey', 'language:afr', 'language:agd', 'language:agg', 'language:agm', 'language:agn', 'language:agr', 'language:agt', 'language:agu', 'language:agw', 'language:agx', 'language:aha', 'language:ahk', 'language:aia', 'language:aii', 'language:aim', 'language:ain', 'language:ajg', 'language:aji', 'language:ajz', 'language:akb', 'language:ake', 'language:akh', 'language:akp', 'language:alj', 'language:aln', 'language:alp', 'language:alq', 'language:als', 'language:alt', 'language:aly', 'language:alz', 'language:ame', 'language:amf', 'language:amh', 'language:ami', 'language:amk', 'language:amm', 'language:amn', 'language:amp', 'language:amr', 'language:amu', 'language:amx', 'language:ang', 'language:anm', 'language:ann', 'language:anp', 'language:anv', 'language:any', 'language:aoi', 'language:aoj', 'language:aom', 'language:aoz', 'language:apb', 'language:apc', 'language:ape', 'language:apn', 'language:apr', 'language:apt', 'language:apu', 'language:apw', 'language:apy', 'language:apz', 'language:arb', 'language:are', 'language:arg', 'language:arl', 'language:arn', 'language:arp', 'language:arq', 'language:ars', 'language:ary', 'language:arz', 'language:asg', 'language:asm', 'language:aso', 'language:ast', 'language:ata', 'language:atb', 'language:atd', 'language:atg', 'language:ati', 'language:atj', 'language:atq', 'language:att', 'language:auc', 'language:aui', 'language:auy', 'language:ava', 'language:avk', 'language:avn', 'language:avt', 'language:avu', 'language:awa', 'language:awb', 'language:awx', 'language:ayo', 'language:ayp', 'language:ayr', 'language:azb', 'language:azg', 'language:azj', 'language:azz', 'language:bak', 'language:bam', 'language:ban', 'language:bao', 'language:bar', 'language:bas', 'language:bav', 'language:bba', 'language:bbb', 'language:bbc', 'language:bbj', 'language:bbk', 'language:bbo', 'language:bbr', 'language:bch', 'language:bci', 'language:bcl', 'language:bco', 'language:bcw', 'language:bdd', 'language:bdh', 'language:bdq', 'language:bea', 'language:bef', 'language:bel', 'language:bem', 'language:ben', 'language:beq', 'language:bew', 'language:bex', 'language:bfd', 'language:bfo', 'language:bgr', 'language:bgs', 'language:bgt', 'language:bgz', 'language:bhg', 'language:bhl', 'language:bho', 'language:bhp', 'language:bhw', 'language:bhz', 'language:bib', 'language:big', 'language:bim', 'language:bin', 'language:bis', 'language:biu', 'language:biv', 'language:bjn', 'language:bjp', 'language:bjr', 'language:bjv', 'language:bkd', 'language:bkl', 'language:bkq', 'language:bku', 'language:bkv', 'language:bla', 'language:blh', 'language:blk', 'language:blw', 'language:blz', 'language:bmh', 'language:bmk', 'language:bmq', 'language:bmr', 'language:bmu', 'language:bmv', 'language:bno', 'language:bnp', 'language:boa', 'language:bod', 'language:boj', 'language:bom', 'language:bon', 'language:bos', 'language:bov', 'language:box', 'language:bpr', 'language:bps', 'language:bpy', 'language:bqc', 'language:bqj', 'language:bqp', 'language:bre', 'language:brh', 'language:bru', 'language:brx', 'language:bsc', 'language:bsn', 'language:bsp', 'language:bsq', 'language:bss', 'language:btd', 'language:bth', 'language:bts', 'language:btt', 'language:btx', 'language:bud', 'language:bug', 'language:buk', 'language:bul', 'language:bum', 'language:bus', 'language:bvc', 'language:bvd', 'language:bvr', 'language:bvz', 'language:bwd', 'language:bwi', 'language:bwq', 'language:bwu', 'language:bxh', 'language:bxr', 'language:byr', 'language:byv', 'language:byx', 'language:bzd', 'language:bzh', 'language:bzi', 'language:bzj', 'language:caa', 'language:cab', 'language:cac', 'language:caf', 'language:cag', 'language:cak', 'language:cao', 'language:cap', 'language:caq', 'language:car', 'language:cas', 'language:cat', 'language:cav', 'language:cax', 'language:cbc', 'language:cbi', 'language:cbk', 'language:cbr', 'language:cbs', 'language:cbt', 'language:cbu', 'language:cbv', 'language:cce', 'language:cco', 'language:ccp', 'language:ceb', 'language:ceg', 'language:cek', 'language:ces', 'language:cfm', 'language:cgc', 'language:cgg', 'language:cha', 'language:chd', 'language:che', 'language:chf', 'language:chj', 'language:chk', 'language:cho', 'language:chq', 'language:chr', 'language:chu', 'language:chv', 'language:chw', 'language:chz', 'language:cjk', 'language:cjo', 'language:cjp', 'language:cjs', 'language:cjv', 'language:ckb', 'language:cko', 'language:ckt', 'language:cle', 'language:clu', 'language:cly', 'language:cme', 'language:cmn', 'language:cmo', 'language:cmr', 'language:cnh', 'language:cni', 'language:cnk', 'language:cnl', 'language:cnt', 'language:cnw', 'language:coe', 'language:cof', 'language:cok', 'language:con', 'language:cop', 'language:cor', 'language:cos', 'language:cot', 'language:cou', 'language:cpa', 'language:cpb', 'language:cpc', 'language:cpu', 'language:cpy', 'language:crh', 'language:crj', 'language:crk', 'language:crl', 'language:crm', 'language:crn', 'language:crs', 'language:crt', 'language:crx', 'language:csb', 'language:csk', 'language:cso', 'language:csw', 'language:csy', 'language:cta', 'language:ctd', 'language:cto', 'language:ctp', 'language:ctu', 'language:cub', 'language:cuc', 'language:cui', 'language:cuk', 'language:cul', 'language:cut', 'language:cux', 'language:cwe', 'language:cwt', 'language:cya', 'language:cym', 'language:czt', 'language:daa', 'language:dad', 'language:daf', 'language:dag', 'language:dah', 'language:dak', 'language:dan', 'language:dar', 'language:ddg', 'language:ddn', 'language:ded', 'language:des', 'language:deu', 'language:dga', 'language:dgc', 'language:dgi', 'language:dgr', 'language:dgz', 'language:dhg', 'language:dhm', 'language:dhv', 'language:did', 'language:dig', 'language:dik', 'language:diq', 'language:dis', 'language:diu', 'language:div', 'language:dje', 'language:djk', 'language:djr', 'language:dks', 'language:dln', 'language:dng', 'language:dnj', 'language:dnw', 'language:dob', 'language:doi', 'language:dop', 'language:dos', 'language:dow', 'language:drg', 'language:dru', 'language:dsb', 'language:dtb', 'language:dtp', 'language:dts', 'language:dty', 'language:dua', 'language:due', 'language:dug', 'language:duo', 'language:dur', 'language:dwr', 'language:dww', 'language:dyi', 'language:dyo', 'language:dyu', 'language:dzo', 'language:ebk', 'language:efi', 'language:eka', 'language:ekk', 'language:eko', 'language:ell', 'language:emi', 'language:eml', 'language:emp', 'language:enb', 'language:enl', 'language:enm', 'language:enq', 'language:enx', 'language:epo', 'language:eri', 'language:ese', 'language:esi', 'language:esk', 'language:ess', 'language:esu', 'language:eto', 'language:etr', 'language:etu', 'language:eus', 'language:eve', 'language:ewe', 'language:ewo', 'language:ext', 'language:eza', 'language:faa', 'language:fad', 'language:fai', 'language:fal', 'language:fan', 'language:fao', 'language:far', 'language:fas', 'language:fat', 'language:ffm', 'language:fij', 'language:fil', 'language:fin', 'language:fit', 'language:fkv', 'language:fmu', 'language:fon', 'language:for', 'language:fra', 'language:frd', 'language:fro', 'language:frp', 'language:frr', 'language:fry', 'language:fub', 'language:fud', 'language:fue', 'language:fuf', 'language:fuh', 'language:fuq', 'language:fur', 'language:fuv', 'language:gaa', 'language:gag', 'language:gah', 'language:gai', 'language:gam', 'language:gaw', 'language:gaz', 'language:gbi', 'language:gbo', 'language:gbr', 'language:gcf', 'language:gcr', 'language:gde', 'language:gdg', 'language:gdn', 'language:gdr', 'language:geb', 'language:gej', 'language:gfk', 'language:ghs', 'language:gid', 'language:gil', 'language:giz', 'language:gjn', 'language:gkn', 'language:gla', 'language:gle', 'language:glg', 'language:glk', 'language:glv', 'language:gmh', 'language:gmv', 'language:gna', 'language:gnb', 'language:gnd', 'language:gng', 'language:gnn', 'language:gnw', 'language:goa', 'language:gof', 'language:gog', 'language:goh', 'language:gom', 'language:gor', 'language:gos', 'language:got', 'language:gqr', 'language:grc', 'language:grt', 'language:gso', 'language:gsw', 'language:gub', 'language:guc', 'language:gud', 'language:gug', 'language:guh', 'language:gui', 'language:guj', 'language:guk', 'language:gul', 'language:gum', 'language:gun', 'language:guo', 'language:guq', 'language:gur', 'language:guu', 'language:guw', 'language:gux', 'language:guz', 'language:gvc', 'language:gvf', 'language:gvl', 'language:gvn', 'language:gwi', 'language:gwr', 'language:gya', 'language:gym', 'language:gyr', 'language:hac', 'language:hae', 'language:hag', 'language:hak', 'language:hat', 'language:hav', 'language:haw', 'language:hay', 'language:hbo', 'language:hch', 'language:heb', 'language:heg', 'language:heh', 'language:her', 'language:hif', 'language:hig', 'language:hil', 'language:hin', 'language:hix', 'language:hla', 'language:hmo', 'language:hmr', 'language:hne', 'language:hnj', 'language:hnn', 'language:hns', 'language:hop', 'language:hot', 'language:hra', 'language:hrv', 'language:hrx', 'language:hsb', 'language:hto', 'language:hub', 'language:hui', 'language:hun', 'language:hus', 'language:huu', 'language:huv', 'language:hvn', 'language:hwc', 'language:hye', 'language:hyw', 'language:ian', 'language:iba', 'language:ibg', 'language:ibo', 'language:icr', 'language:ido', 'language:idu', 'language:ifa', 'language:ifb', 'language:ife', 'language:ifk', 'language:ifu', 'language:ify', 'language:ige', 'language:ign', 'language:ike', 'language:ikk', 'language:ikt', 'language:ikw', 'language:ilb', 'language:ile', 'language:ilo', 'language:imo', 'language:ina', 'language:inb', 'language:ind', 'language:inh', 'language:ino', 'language:iou', 'language:ipi', 'language:iqw', 'language:iri', 'language:irk', 'language:iry', 'language:isd', 'language:ish', 'language:isl', 'language:iso', 'language:ita', 'language:itv', 'language:ium', 'language:ivb', 'language:ivv', 'language:iws', 'language:ixl', 'language:izr', 'language:izz', 'language:jaa', 'language:jac', 'language:jae', 'language:jam', 'language:jav', 'language:jbo', 'language:jbu', 'language:jic', 'language:jiv', 'language:jmc', 'language:jpn', 'language:jra', 'language:jun', 'language:jvn', 'language:kaa', 'language:kab', 'language:kac', 'language:kak', 'language:kal', 'language:kam', 'language:kan', 'language:kao', 'language:kaq', 'language:kas', 'language:kat', 'language:kaz', 'language:kbc', 'language:kbd', 'language:kbh', 'language:kbm', 'language:kbo', 'language:kbp', 'language:kbq', 'language:kbr', 'language:kby', 'language:kca', 'language:kcg', 'language:kck', 'language:kdc', 'language:kde', 'language:kdh', 'language:kdi', 'language:kdj', 'language:kdl', 'language:kdr', 'language:kea', 'language:kei', 'language:kek', 'language:ken', 'language:keo', 'language:ker', 'language:kew', 'language:kez', 'language:kff', 'language:kgf', 'language:kgk', 'language:kgp', 'language:kgr', 'language:kha', 'language:khk', 'language:khm', 'language:khs', 'language:khz', 'language:kia', 'language:kij', 'language:kik', 'language:kin', 'language:kir', 'language:kiu', 'language:kix', 'language:kjb', 'language:kje', 'language:kjh', 'language:kjs', 'language:kkc', 'language:kki', 'language:kkj', 'language:kkl', 'language:kle', 'language:klt', 'language:klv', 'language:kmb', 'language:kmg', 'language:kmh', 'language:kmk', 'language:kmm', 'language:kmo', 'language:kmr', 'language:kms', 'language:kmu', 'language:kmy', 'language:knc', 'language:kne', 'language:knf', 'language:kng', 'language:knj', 'language:knk', 'language:kno', 'language:knv', 'language:knx', 'language:kny', 'language:kog', 'language:koi', 'language:koo', 'language:kor', 'language:kos', 'language:kpe', 'language:kpf', 'language:kpg', 'language:kpj', 'language:kpq', 'language:kpr', 'language:kpv', 'language:kpw', 'language:kpx', 'language:kpz', 'language:kqc', 'language:kqe', 'language:kqf', 'language:kql', 'language:kqn', 'language:kqo', 'language:kqp', 'language:kqs', 'language:kqw', 'language:kqy', 'language:krc', 'language:kri', 'language:krj', 'language:krl', 'language:kru', 'language:krx', 'language:ksb', 'language:ksc', 'language:ksd', 'language:ksf', 'language:ksh', 'language:ksj', 'language:ksp', 'language:ksr', 'language:kss', 'language:ksw', 'language:ktb', 'language:ktj', 'language:ktm', 'language:kto', 'language:ktu', 'language:ktz', 'language:kua', 'language:kub', 'language:kud', 'language:kue', 'language:kuj', 'language:kum', 'language:kup', 'language:kus', 'language:kvg', 'language:kvj', 'language:kvn', 'language:kwd', 'language:kwf', 'language:kwi', 'language:kwj', 'language:kwn', 'language:kwy', 'language:kxc', 'language:kxm', 'language:kxw', 'language:kyc', 'language:kyf', 'language:kyg', 'language:kyq', 'language:kyu', 'language:kyz', 'language:kze', 'language:kzf', 'language:kzj', 'language:lac', 'language:lad', 'language:lai', 'language:laj', 'language:lam', 'language:lao', 'language:lap', 'language:lat', 'language:lbb', 'language:lbe', 'language:lbj', 'language:lbk', 'language:lcm', 'language:lcp', 'language:ldi', 'language:ldn', 'language:lee', 'language:lef', 'language:leh', 'language:lem', 'language:leu', 'language:lew', 'language:lex', 'language:lez', 'language:lfn', 'language:lgg', 'language:lgl', 'language:lgm', 'language:lhi', 'language:lhu', 'language:lia', 'language:lid', 'language:lif', 'language:lij', 'language:lim', 'language:lin', 'language:lip', 'language:lis', 'language:lit', 'language:liv', 'language:ljp', 'language:lki', 'language:llb', 'language:lld', 'language:llg', 'language:lln', 'language:lmk', 'language:lmo', 'language:lmp', 'language:lnd', 'language:lob', 'language:loe', 'language:log', 'language:lok', 'language:lol', 'language:lom', 'language:loq', 'language:loz', 'language:lrc', 'language:lsi', 'language:lsm', 'language:ltg', 'language:ltz', 'language:lua', 'language:lub', 'language:luc', 'language:lud', 'language:lue', 'language:lug', 'language:lun', 'language:luo', 'language:lus', 'language:lvs', 'language:lwg', 'language:lwo', 'language:lww', 'language:lzh', 'language:maa', 'language:mad', 'language:maf', 'language:mag', 'language:mah', 'language:mai', 'language:maj', 'language:mak', 'language:mal', 'language:mam', 'language:maq', 'language:mar', 'language:mas', 'language:mau', 'language:mav', 'language:maw', 'language:maz', 'language:mbb', 'language:mbc', 'language:mbd', 'language:mbf', 'language:mbh', 'language:mbi', 'language:mbj', 'language:mbl', 'language:mbs', 'language:mbt', 'language:mca', 'language:mcb', 'language:mcd', 'language:mcf', 'language:mck', 'language:mcn', 'language:mco', 'language:mcp', 'language:mcq', 'language:mcu', 'language:mda', 'language:mdf', 'language:mdy', 'language:med', 'language:mee', 'language:mej', 'language:mek', 'language:men', 'language:meq', 'language:mer', 'language:met', 'language:meu', 'language:mev', 'language:mfe', 'language:mfg', 'language:mfh', 'language:mfi', 'language:mfk', 'language:mfq', 'language:mfy', 'language:mfz', 'language:mgc', 'language:mgh', 'language:mgo', 'language:mgr', 'language:mhi', 'language:mhl', 'language:mhr', 'language:mhw', 'language:mhx', 'language:mhy', 'language:mib', 'language:mic', 'language:mie', 'language:mif', 'language:mig', 'language:mih', 'language:mil', 'language:mim', 'language:min', 'language:mio', 'language:mip', 'language:miq', 'language:mir', 'language:mit', 'language:miy', 'language:miz', 'language:mjc', 'language:mjw', 'language:mkd', 'language:mkl', 'language:mkn', 'language:mks', 'language:mkz', 'language:mlh', 'language:mlp', 'language:mlt', 'language:mlu', 'language:mmn', 'language:mmo', 'language:mmx', 'language:mna', 'language:mnb', 'language:mnf', 'language:mni', 'language:mnk', 'language:mns', 'language:mnw', 'language:mnx', 'language:mny', 'language:moa', 'language:moc', 'language:mog', 'language:moh', 'language:mop', 'language:mor', 'language:mos', 'language:mox', 'language:mpg', 'language:mph', 'language:mpm', 'language:mpp', 'language:mps', 'language:mpt', 'language:mpx', 'language:mqb', 'language:mqj', 'language:mqy', 'language:mrg', 'language:mri', 'language:mrj', 'language:mrq', 'language:mrv', 'language:mrw', 'language:msb', 'language:msc', 'language:mse', 'language:msk', 'language:msy', 'language:mta', 'language:mtg', 'language:mti', 'language:mto', 'language:mtp', 'language:mua', 'language:mug', 'language:muh', 'language:mui', 'language:mup', 'language:mur', 'language:mus', 'language:mux', 'language:muy', 'language:mva', 'language:mvn', 'language:mvp', 'language:mwc', 'language:mwf', 'language:mwl', 'language:mwm', 'language:mwn', 'language:mwp', 'language:mwq', 'language:mwv', 'language:mww', 'language:mxb', 'language:mxp', 'language:mxq', 'language:mxt', 'language:mxv', 'language:mya', 'language:myb', 'language:myk', 'language:myu', 'language:myv', 'language:myw', 'language:myx', 'language:myy', 'language:mza', 'language:mzh', 'language:mzk', 'language:mzl', 'language:mzm', 'language:mzn', 'language:mzw', 'language:mzz', 'language:nab', 'language:naf', 'language:nah', 'language:nak', 'language:nap', 'language:naq', 'language:nas', 'language:nav', 'language:naw', 'language:nba', 'language:nbc', 'language:nbe', 'language:nbl', 'language:nbq', 'language:nbu', 'language:nca', 'language:nch', 'language:ncj', 'language:ncl', 'language:ncq', 'language:nct', 'language:ncu', 'language:ncx', 'language:ndc', 'language:nde', 'language:ndh', 'language:ndi', 'language:ndj', 'language:ndo', 'language:nds', 'language:ndz', 'language:neb', 'language:new', 'language:nfa', 'language:nfr', 'language:ngb', 'language:ngc', 'language:ngl', 'language:ngp', 'language:ngu', 'language:nhd', 'language:nhe', 'language:nhg', 'language:nhi', 'language:nhk', 'language:nho', 'language:nhr', 'language:nhu', 'language:nhw', 'language:nhx', 'language:nhy', 'language:nia', 'language:nif', 'language:nii', 'language:nij', 'language:nim', 'language:nin', 'language:nio', 'language:niu', 'language:niy', 'language:njb', 'language:njm', 'language:njn', 'language:njo', 'language:njz', 'language:nkf', 'language:nko', 'language:nld', 'language:nlg', 'language:nma', 'language:nmf', 'language:nmh', 'language:nmo', 'language:nmw', 'language:nmz', 'language:nnb', 'language:nng', 'language:nnh', 'language:nnl', 'language:nno', 'language:nnp', 'language:nnq', 'language:nnw', 'language:noa', 'language:nob', 'language:nod', 'language:nog', 'language:non', 'language:nop', 'language:not', 'language:nou', 'language:nov', 'language:nph', 'language:npi', 'language:npl', 'language:npo', 'language:npy', 'language:nqo', 'language:nre', 'language:nrf', 'language:nri', 'language:nrm', 'language:nsa', 'language:nse', 'language:nsm', 'language:nsn', 'language:nso', 'language:nss', 'language:nst', 'language:nsu', 'language:ntp', 'language:ntr', 'language:ntu', 'language:nuj', 'language:nus', 'language:nuy', 'language:nvm', 'language:nwb', 'language:nwi', 'language:nwx', 'language:nxd', 'language:nya', 'language:nyf', 'language:nyk', 'language:nyn', 'language:nyo', 'language:nyu', 'language:nyy', 'language:nza', 'language:nzi', 'language:nzm', 'language:obo', 'language:oci', 'language:ogo', 'language:ojb', 'language:oke', 'language:oku', 'language:okv', 'language:old', 'language:olo', 'language:omb', 'language:omw', 'language:ong', 'language:ons', 'language:ood', 'language:opm', 'language:orv', 'language:ory', 'language:oss', 'language:ota', 'language:otd', 'language:ote', 'language:otm', 'language:otn', 'language:oto', 'language:otq', 'language:ots', 'language:otw', 'language:oym', 'language:ozm', 'language:pab', 'language:pad', 'language:pag', 'language:pah', 'language:pam', 'language:pan', 'language:pao', 'language:pap', 'language:pau', 'language:pbb', 'language:pbc', 'language:pbi', 'language:pbt', 'language:pcd', 'language:pck', 'language:pcm', 'language:pdc', 'language:pdt', 'language:pem', 'language:pfe', 'language:pfl', 'language:phm', 'language:pib', 'language:pio', 'language:pir', 'language:pis', 'language:pjt', 'language:pkb', 'language:plg', 'language:pls', 'language:plt', 'language:plu', 'language:plw', 'language:pma', 'language:pmf', 'language:pmq', 'language:pms', 'language:pmx', 'language:pnb', 'language:pne', 'language:pnt', 'language:pny', 'language:poe', 'language:poh', 'language:poi', 'language:pol', 'language:pon', 'language:por', 'language:pos', 'language:pot', 'language:pov', 'language:poy', 'language:ppk', 'language:ppo', 'language:pps', 'language:prf', 'language:prg', 'language:pri', 'language:prq', 'language:pse', 'language:pss', 'language:ptp', 'language:ptu', 'language:pui', 'language:pwg', 'language:pwn', 'language:pww', 'language:pxm', 'language:qub', 'language:quc', 'language:quf', 'language:qug', 'language:quh', 'language:qul', 'language:qup', 'language:qus', 'language:quw', 'language:quy', 'language:quz', 'language:qva', 'language:qvc', 'language:qve', 'language:qvh', 'language:qvi', 'language:qvm', 'language:qvn', 'language:qvo', 'language:qvs', 'language:qvw', 'language:qvz', 'language:qwh', 'language:qxh', 'language:qxl', 'language:qxn', 'language:qxo', 'language:qxr', 'language:rad', 'language:rai', 'language:rap', 'language:rar', 'language:rav', 'language:raw', 'language:rcf', 'language:rej', 'language:rel', 'language:rgu', 'language:rhg', 'language:ria', 'language:rim', 'language:rjs', 'language:rkb', 'language:rmc', 'language:rme', 'language:rml', 'language:rmn', 'language:rmo', 'language:rmq', 'language:rmy', 'language:rnd', 'language:rng', 'language:rnl', 'language:roh', 'language:ron', 'language:roo', 'language:rop', 'language:row', 'language:rro', 'language:rtm', 'language:rub', 'language:rue', 'language:ruf', 'language:rug', 'language:run', 'language:rup', 'language:rus', 'language:rwo', 'language:sab', 'language:sag', 'language:sah', 'language:san', 'language:sas', 'language:sat', 'language:sba', 'language:sbd', 'language:sbe', 'language:sbl', 'language:sbs', 'language:sby', 'language:sck', 'language:scn', 'language:sco', 'language:sda', 'language:sdc', 'language:sdh', 'language:sdo', 'language:sdq', 'language:seh', 'language:ses', 'language:sey', 'language:sfw', 'language:sgb', 'language:sgc', 'language:sgh', 'language:sgs', 'language:sgw', 'language:sgz', 'language:shi', 'language:shk', 'language:shn', 'language:shp', 'language:shu', 'language:sid', 'language:sig', 'language:sil', 'language:sim', 'language:sin', 'language:sja', 'language:sjo', 'language:sju', 'language:skg', 'language:skr', 'language:sld', 'language:slk', 'language:sll', 'language:slv', 'language:sma', 'language:sme', 'language:smj', 'language:smk', 'language:sml', 'language:smn', 'language:smo', 'language:sms', 'language:smt', 'language:sna', 'language:snc', 'language:snd', 'language:snf', 'language:snn', 'language:snp', 'language:snw', 'language:sny', 'language:soe', 'language:som', 'language:sop', 'language:soq', 'language:sot', 'language:soy', 'language:spa', 'language:spl', 'language:spm', 'language:spp', 'language:sps', 'language:spy', 'language:srd', 'language:sri', 'language:srm', 'language:srn', 'language:srp', 'language:srq', 'language:srr', 'language:ssd', 'language:ssg', 'language:ssw', 'language:ssx', 'language:stn', 'language:stp', 'language:stq', 'language:sua', 'language:suc', 'language:sue', 'language:suk', 'language:sun', 'language:sur', 'language:sus', 'language:suz', 'language:swb', 'language:swc', 'language:swe', 'language:swg', 'language:swh', 'language:swk', 'language:swp', 'language:sxb', 'language:sxn', 'language:syb', 'language:syc', 'language:syl', 'language:szl', 'language:szy', 'language:tab', 'language:tac', 'language:tah', 'language:taj', 'language:tam', 'language:tap', 'language:taq', 'language:tar', 'language:tat', 'language:tav', 'language:taw', 'language:tay', 'language:tbc', 'language:tbg', 'language:tbk', 'language:tbl', 'language:tbo', 'language:tbw', 'language:tby', 'language:tbz', 'language:tca', 'language:tcc', 'language:tcf', 'language:tcs', 'language:tcy', 'language:tcz', 'language:ted', 'language:tee', 'language:tel', 'language:tem', 'language:teo', 'language:ter', 'language:tet', 'language:tew', 'language:tfr', 'language:tgk', 'language:tgo', 'language:tgp', 'language:tha', 'language:thk', 'language:thl', 'language:tif', 'language:tig', 'language:tih', 'language:tik', 'language:tim', 'language:tir', 'language:tiv', 'language:tiy', 'language:tke', 'language:tkl', 'language:tkr', 'language:tku', 'language:tlb', 'language:tlf', 'language:tlh', 'language:tlj', 'language:tll', 'language:tly', 'language:tmc', 'language:tmd', 'language:tna', 'language:tnc', 'language:tnk', 'language:tnn', 'language:tnp', 'language:tnr', 'language:tob', 'language:toc', 'language:tod', 'language:tog', 'language:toh', 'language:toi', 'language:toj', 'language:tok', 'language:ton', 'language:too', 'language:top', 'language:tos', 'language:tpa', 'language:tpi', 'language:tpm', 'language:tpp', 'language:tpt', 'language:tpw', 'language:tpz', 'language:tqo', 'language:trc', 'language:trn', 'language:tro', 'language:trp', 'language:trq', 'language:trs', 'language:trv', 'language:tsc', 'language:tsg', 'language:tsn', 'language:tso', 'language:tsw', 'language:tsz', 'language:ttc', 'language:tte', 'language:ttj', 'language:ttq', 'language:tuc', 'language:tue', 'language:tuf', 'language:tui', 'language:tuk', 'language:tul', 'language:tum', 'language:tuo', 'language:tur', 'language:tuv', 'language:tvk', 'language:tvl', 'language:twi', 'language:twu', 'language:twx', 'language:txq', 'language:txu', 'language:tyv', 'language:tzh', 'language:tzj', 'language:tzl', 'language:tzm', 'language:tzo', 'language:ubr', 'language:ubu', 'language:udm', 'language:udu', 'language:uig', 'language:ukr', 'language:umb', 'language:upv', 'language:ura', 'language:urb', 'language:urd', 'language:urh', 'language:uri', 'language:urk', 'language:urt', 'language:urw', 'language:ury', 'language:usa', 'language:usp', 'language:uth', 'language:uvh', 'language:uvl', 'language:uzn', 'language:uzs', 'language:vag', 'language:vap', 'language:var', 'language:vec', 'language:ven', 'language:vep', 'language:vid', 'language:vie', 'language:viv', 'language:vls', 'language:vmk', 'language:vmw', 'language:vmy', 'language:vol', 'language:vot', 'language:vro', 'language:vun', 'language:vut', 'language:waj', 'language:wal', 'language:wap', 'language:war', 'language:wat', 'language:way', 'language:wba', 'language:wbm', 'language:wbp', 'language:wed', 'language:wer', 'language:wes', 'language:wew', 'language:whg', 'language:whk', 'language:wib', 'language:wim', 'language:wiu', 'language:wln', 'language:wls', 'language:wlv', 'language:wlx', 'language:wmt', 'language:wmw', 'language:wnc', 'language:wnu', 'language:wob', 'language:wol', 'language:wos', 'language:wrk', 'language:wrs', 'language:wsg', 'language:wsk', 'language:wuu', 'language:wuv', 'language:wwa', 'language:xal', 'language:xav', 'language:xbi', 'language:xbr', 'language:xed', 'language:xho', 'language:xla', 'language:xmf', 'language:xmm', 'language:xmv', 'language:xnn', 'language:xog', 'language:xon', 'language:xrb', 'language:xsb', 'language:xsi', 'language:xsm', 'language:xsr', 'language:xsu', 'language:xtd', 'language:xtm', 'language:xtn', 'language:xuo', 'language:yaa', 'language:yad', 'language:yal', 'language:yam', 'language:yan', 'language:yao', 'language:yap', 'language:yaq', 'language:yat', 'language:yaz', 'language:ybb', 'language:yby', 'language:ycn', 'language:ydd', 'language:yim', 'language:yka', 'language:yle', 'language:yli', 'language:yml', 'language:yom', 'language:yon', 'language:yor', 'language:yrb', 'language:yre', 'language:yrk', 'language:yrl', 'language:yss', 'language:yua', 'language:yue', 'language:yuj', 'language:yup', 'language:yut', 'language:yuw', 'language:yuz', 'language:yva', 'language:zaa', 'language:zab', 'language:zac', 'language:zad', 'language:zae', 'language:zai', 'language:zam', 'language:zao', 'language:zar', 'language:zas', 'language:zat', 'language:zav', 'language:zaw', 'language:zca', 'language:zdj', 'language:zea', 'language:zgh', 'language:zia', 'language:ziw', 'language:zne', 'language:zom', 'language:zos', 'language:zpa', 'language:zpc', 'language:zpg', 'language:zpi', 'language:zpj', 'language:zpl', 'language:zpm', 'language:zpo', 'language:zpq', 'language:zpt', 'language:zpu', 'language:zpv', 'language:zpz', 'language:zsm', 'language:zsr', 'language:ztq', 'language:zty', 'language:zul', 'language:zyb', 'language:zyp', 'license:odc-by', 'size_categories:100M<n<1B', 'format:parquet', 'modality:tabular', 'modality:text', 'library:datasets', 'library:dask', 'library:mlcroissant', 'library:polars', 'arxiv:2506.18421', 'arxiv:2109.07445', 'region:us'], trending_score=31, card_data=None, siblings=None, xet_enabled=None), DatasetInfo(id='tencent/WildSpeech-Bench', author='tencent', sha='a6f11d05f06e314644722a64eeac0e4e023bbe92', created_at=datetime.datetime(2025, 6, 25, 3, 30, 2, tzinfo=datetime.timezone.utc), last_modified=datetime.datetime(2025, 9, 29, 9, 45, 56, tzinfo=datetime.timezone.utc), private=False, gated=False, disabled=False, downloads=389, downloads_all_time=None, likes=28, paperswithcode_id=None, tags=['language:en', 'size_categories:1K<n<10K', 'format:parquet', 'modality:audio', 'modality:text', 'library:datasets', 'library:pandas', 'library:mlcroissant', 'library:polars', 'arxiv:2506.21875', 'region:us', 'speech', 'benchmark', 'LLM'], trending_score=24, card_data=None, siblings=None, xet_enabled=None), DatasetInfo(id='smolagents/aguvis-stage-2', author='smolagents', sha='348662ee4ea7232442da511fe4b384fc1e3dc288', created_at=datetime.datetime(2025, 9, 1, 15, 43, 23, tzinfo=datetime.timezone.utc), last_modified=datetime.datetime(2025, 9, 5, 0, 26, 50, tzinfo=datetime.timezone.utc), private=False, gated=False, disabled=False, downloads=9419, downloads_all_time=None, likes=17, paperswithcode_id=None, tags=['size_categories:100K<n<1M', 'format:parquet', 'modality:image', 'modality:text', 'library:datasets', 'library:dask', 'library:mlcroissant', 'library:polars', 'region:us'], trending_score=17, card_data=None, siblings=None, xet_enabled=None), DatasetInfo(id='lmms-lab/LLaVA-OneVision-1.5-Insturct-Data', author='lmms-lab', sha='edcfff77de8b459155d5ac2c9dc6ebd2fbdbb4e2', created_at=datetime.datetime(2025, 9, 8, 9, 0, 7, tzinfo=datetime.timezone.utc), last_modified=datetime.datetime(2025, 9, 29, 16, 42, 7, tzinfo=datetime.timezone.utc), private=False, gated=False, disabled=False, downloads=41837, downloads_all_time=None, likes=33, paperswithcode_id=None, tags=['license:apache-2.0', 'region:us'], trending_score=17, card_data=None, siblings=None, xet_enabled=None), DatasetInfo(id='t-tech/T-ECD', author='t-tech', sha='cabdd9bbb53ec2aaa79075a15f0904f9cadf2484', created_at=datetime.datetime(2025, 9, 22, 17, 44, 13, tzinfo=datetime.timezone.utc), last_modified=datetime.datetime(2025, 9, 26, 14, 29, 44, tzinfo=datetime.timezone.utc), private=False, gated=False, disabled=False, downloads=691, downloads_all_time=None, likes=16, paperswithcode_id=None, tags=['language:ru', 'language:en', 'license:cc-by-nc-sa-4.0', 'size_categories:100B<n<1T', 'region:us', 'recsys', 'e-commerce', 'retrieval', 'dataset', 'ranking', 'cross-domain'], trending_score=16, card_data=None, siblings=None, xet_enabled=None), DatasetInfo(id='ScaleAI/SWE-bench_Pro', author='ScaleAI', sha='9c13b199fe2d3195214e2f0c6bf3c7d6f81e3877', created_at=datetime.datetime(2025, 8, 26, 19, 58, 5, tzinfo=datetime.timezone.utc), last_modified=datetime.datetime(2025, 9, 25, 2, 25, 12, tzinfo=datetime.timezone.utc), private=False, gated=False, disabled=False, downloads=2653, downloads_all_time=None, likes=27, paperswithcode_id=None, tags=['size_categories:n<1K', 'format:csv', 'modality:text', 'library:datasets', 'library:pandas', 'library:mlcroissant', 'library:polars', 'region:us'], trending_score=15, card_data=None, siblings=None, xet_enabled=None), DatasetInfo(id='lmms-lab/LLaVA-One-Vision-1.5-Mid-Training-85M', author='lmms-lab', sha='f66c7eb7357ee39a08eb64a5d9b293b4a7572a00', created_at=datetime.datetime(2025, 9, 14, 14, 42, 33, tzinfo=datetime.timezone.utc), last_modified=datetime.datetime(2025, 9, 29, 15, 55, 58, tzinfo=datetime.timezone.utc), private=False, gated=False, disabled=False, downloads=44384, downloads_all_time=None, likes=26, paperswithcode_id=None, tags=['license:apache-2.0', 'size_categories:10M<n<100M', 'format:parquet', 'modality:image', 'modality:text', 'library:datasets', 'library:dask', 'library:mlcroissant', 'library:polars', 'region:us'], trending_score=13, card_data=None, siblings=None, xet_enabled=None)]\n"
     ]
    }
   ],
   "source": [
    "from huggingface_hub import list_datasets\n",
    "all_datasets = list(list_datasets())\n",
    "\n",
    "print(f\"There are {len(all_datasets)} datasets currently available on the Hub\")\n",
    "print(f\"The first 10 are: {all_datasets[:10]}\")"
   ]
  },
  {
   "cell_type": "code",
   "execution_count": 3,
   "metadata": {},
   "outputs": [],
   "source": [
    "from datasets import load_dataset\n",
    "emotions = load_dataset(\"dair-ai/emotion\")"
   ]
  },
  {
   "cell_type": "code",
   "execution_count": 4,
   "metadata": {},
   "outputs": [
    {
     "name": "stdout",
     "output_type": "stream",
     "text": [
      "DatasetDict({\n",
      "    train: Dataset({\n",
      "        features: ['text', 'label'],\n",
      "        num_rows: 16000\n",
      "    })\n",
      "    validation: Dataset({\n",
      "        features: ['text', 'label'],\n",
      "        num_rows: 2000\n",
      "    })\n",
      "    test: Dataset({\n",
      "        features: ['text', 'label'],\n",
      "        num_rows: 2000\n",
      "    })\n",
      "})\n",
      "dict_keys(['train', 'validation', 'test'])\n"
     ]
    }
   ],
   "source": [
    "print(emotions)\n",
    "print(emotions.keys())"
   ]
  },
  {
   "cell_type": "code",
   "execution_count": 5,
   "metadata": {},
   "outputs": [
    {
     "data": {
      "text/plain": [
       "Dataset({\n",
       "    features: ['text', 'label'],\n",
       "    num_rows: 16000\n",
       "})"
      ]
     },
     "execution_count": 5,
     "metadata": {},
     "output_type": "execute_result"
    }
   ],
   "source": [
    "train_ds = emotions[\"train\"]\n",
    "train_ds"
   ]
  },
  {
   "cell_type": "markdown",
   "metadata": {},
   "source": [
    "which returns an instance of the huggingface `Dataset` class. The `Dataset` object is one of the core data structures in huggingface Datasets. For starters, it behaves like an ordinary Python array or list, so we can query its length:"
   ]
  },
  {
   "cell_type": "code",
   "execution_count": 6,
   "metadata": {},
   "outputs": [
    {
     "data": {
      "text/plain": [
       "16000"
      ]
     },
     "execution_count": 6,
     "metadata": {},
     "output_type": "execute_result"
    }
   ],
   "source": [
    "len(train_ds)"
   ]
  },
  {
   "cell_type": "markdown",
   "metadata": {},
   "source": [
    "or access a single example by its index:"
   ]
  },
  {
   "cell_type": "code",
   "execution_count": 7,
   "metadata": {},
   "outputs": [
    {
     "data": {
      "text/plain": [
       "{'text': 'i feel like i have to make the suffering i m seeing mean something',\n",
       " 'label': 0}"
      ]
     },
     "execution_count": 7,
     "metadata": {},
     "output_type": "execute_result"
    }
   ],
   "source": [
    "train_ds[10]"
   ]
  },
  {
   "cell_type": "markdown",
   "metadata": {},
   "source": [
    "Here we see that a single row is represented as a dictionary, where the keys correspond to the column names:"
   ]
  },
  {
   "cell_type": "code",
   "execution_count": 8,
   "metadata": {},
   "outputs": [
    {
     "data": {
      "text/plain": [
       "['text', 'label']"
      ]
     },
     "execution_count": 8,
     "metadata": {},
     "output_type": "execute_result"
    }
   ],
   "source": [
    "train_ds.column_names"
   ]
  },
  {
   "cell_type": "markdown",
   "metadata": {},
   "source": [
    "and the values are the tweet and the emotion. This reflects the fact that Datasets is based on [_Apache Arrow_](https://arrow.apache.org/), which defines a typed columnar format that is more memory efficient than native Python. We can see what data types are being used under the hood by accessing the `features` attribute of a `Dataset` object:"
   ]
  },
  {
   "cell_type": "code",
   "execution_count": 9,
   "metadata": {},
   "outputs": [
    {
     "name": "stdout",
     "output_type": "stream",
     "text": [
      "{'text': Value('string'), 'label': ClassLabel(names=['sadness', 'joy', 'love', 'anger', 'fear', 'surprise'])}\n"
     ]
    }
   ],
   "source": [
    "print(train_ds.features)"
   ]
  },
  {
   "cell_type": "markdown",
   "metadata": {},
   "source": [
    "In this case, the data type of the `text` column is `string`, while the `label` column is a special `ClassLabel` object that contains information about the class names and their mapping to integers. We can also access several rows with a slice:"
   ]
  },
  {
   "cell_type": "code",
   "execution_count": 10,
   "metadata": {},
   "outputs": [
    {
     "name": "stdout",
     "output_type": "stream",
     "text": [
      "{'text': ['i didnt feel humiliated', 'i can go from feeling so hopeless to so damned hopeful just from being around someone who cares and is awake', 'im grabbing a minute to post i feel greedy wrong', 'i am ever feeling nostalgic about the fireplace i will know that it is still on the property', 'i am feeling grouchy'], 'label': [0, 0, 3, 2, 3]}\n"
     ]
    }
   ],
   "source": [
    "print(train_ds[:5])"
   ]
  },
  {
   "cell_type": "markdown",
   "metadata": {},
   "source": [
    "Note that in this case, the dictionary values are now lists instead of individual elements. We can also get the full column by name:"
   ]
  },
  {
   "cell_type": "code",
   "execution_count": 11,
   "metadata": {},
   "outputs": [
    {
     "name": "stdout",
     "output_type": "stream",
     "text": [
      "['i didnt feel humiliated', 'i can go from feeling so hopeless to so damned hopeful just from being around someone who cares and is awake', 'im grabbing a minute to post i feel greedy wrong', 'i am ever feeling nostalgic about the fireplace i will know that it is still on the property', 'i am feeling grouchy']\n"
     ]
    }
   ],
   "source": [
    "print(train_ds[\"text\"][:5])"
   ]
  },
  {
   "cell_type": "markdown",
   "metadata": {},
   "source": [
    "Now that we've seen how to load and inspect data with image:images/logo.png[hf,13,13] Datasets, let's do a few sanity checks about the content of our tweets."
   ]
  },
  {
   "cell_type": "markdown",
   "metadata": {},
   "source": [
    "### Sidebar 02_1 : What If My Dataset Is Not on the Hub?"
   ]
  },
  {
   "cell_type": "code",
   "execution_count": 12,
   "metadata": {},
   "outputs": [
    {
     "name": "stdout",
     "output_type": "stream",
     "text": [
      "✅ Conversion done. Saved as train.csv\n"
     ]
    }
   ],
   "source": [
    "import pandas as pd\n",
    "import requests\n",
    "\n",
    "dataset_url = \"https://huggingface.co/datasets/dair-ai/emotion/resolve/main/split/train-00000-of-00001.parquet\"\n",
    "local_file = \"train.parquet\"\n",
    "\n",
    "# Download with error check\n",
    "response = requests.get(dataset_url)\n",
    "response.raise_for_status()   # raises an error if download fails\n",
    "with open(local_file, \"wb\") as f:\n",
    "    f.write(response.content)\n",
    "\n",
    "# Read and save\n",
    "df = pd.read_parquet(local_file)\n",
    "df.to_csv(\"train.csv\", index=False)\n",
    "\n",
    "print(\"✅ Conversion done. Saved as train.csv\")\n"
   ]
  },
  {
   "cell_type": "code",
   "execution_count": 13,
   "metadata": {},
   "outputs": [
    {
     "name": "stdout",
     "output_type": "stream",
     "text": [
      "text,label\n",
      "i didnt feel humiliated,0\n"
     ]
    }
   ],
   "source": [
    "!head -n 2 train.csv"
   ]
  },
  {
   "cell_type": "markdown",
   "metadata": {},
   "source": [
    "we can see that here are no column headers and each tweet and emotion are separated by a semicolon. Nevertheless, this is quite similar to a CSV file, so we can load the dataset locally by using the `csv` script and pointing the `data_files` argument to the _train.txt_ file:"
   ]
  },
  {
   "cell_type": "code",
   "execution_count": 14,
   "metadata": {},
   "outputs": [
    {
     "data": {
      "application/vnd.jupyter.widget-view+json": {
       "model_id": "9f4ef3f8f5b24b22bfb6485c621c87f1",
       "version_major": 2,
       "version_minor": 0
      },
      "text/plain": [
       "Generating train split: 0 examples [00:00, ? examples/s]"
      ]
     },
     "metadata": {},
     "output_type": "display_data"
    }
   ],
   "source": [
    "#hide_output\n",
    "emotions_local = load_dataset(\"csv\", data_files=\"train.csv\", sep=\",\", \n",
    "                              names=[\"text\", \"label\"])"
   ]
  },
  {
   "cell_type": "markdown",
   "metadata": {},
   "source": [
    "### End sidebar"
   ]
  },
  {
   "cell_type": "markdown",
   "metadata": {},
   "source": [
    "### From Datasets to DataFrames"
   ]
  },
  {
   "cell_type": "markdown",
   "metadata": {},
   "source": [
    "Although huggingface Datasets provides a lot of low-level functionality to slice and dice our data, it is often convenient to convert a `Dataset` object to a Pandas `DataFrame` so we can access high-level APIs for data visualization. To enable the conversion, huggingface Datasets provides a `set_format()` method that allows us to change the _output format_ of the `Dataset`. Note that this does not change the underlying _data format_ (which is an Arrow table), and you can switch to another format later if needed:"
   ]
  },
  {
   "cell_type": "code",
   "execution_count": 15,
   "metadata": {},
   "outputs": [
    {
     "data": {
      "text/html": [
       "<div>\n",
       "<style scoped>\n",
       "    .dataframe tbody tr th:only-of-type {\n",
       "        vertical-align: middle;\n",
       "    }\n",
       "\n",
       "    .dataframe tbody tr th {\n",
       "        vertical-align: top;\n",
       "    }\n",
       "\n",
       "    .dataframe thead th {\n",
       "        text-align: right;\n",
       "    }\n",
       "</style>\n",
       "<table border=\"1\" class=\"dataframe\">\n",
       "  <thead>\n",
       "    <tr style=\"text-align: right;\">\n",
       "      <th></th>\n",
       "      <th>text</th>\n",
       "      <th>label</th>\n",
       "    </tr>\n",
       "  </thead>\n",
       "  <tbody>\n",
       "    <tr>\n",
       "      <th>0</th>\n",
       "      <td>i didnt feel humiliated</td>\n",
       "      <td>0</td>\n",
       "    </tr>\n",
       "    <tr>\n",
       "      <th>1</th>\n",
       "      <td>i can go from feeling so hopeless to so damned...</td>\n",
       "      <td>0</td>\n",
       "    </tr>\n",
       "    <tr>\n",
       "      <th>2</th>\n",
       "      <td>im grabbing a minute to post i feel greedy wrong</td>\n",
       "      <td>3</td>\n",
       "    </tr>\n",
       "    <tr>\n",
       "      <th>3</th>\n",
       "      <td>i am ever feeling nostalgic about the fireplac...</td>\n",
       "      <td>2</td>\n",
       "    </tr>\n",
       "    <tr>\n",
       "      <th>4</th>\n",
       "      <td>i am feeling grouchy</td>\n",
       "      <td>3</td>\n",
       "    </tr>\n",
       "  </tbody>\n",
       "</table>\n",
       "</div>"
      ],
      "text/plain": [
       "                                                text  label\n",
       "0                            i didnt feel humiliated      0\n",
       "1  i can go from feeling so hopeless to so damned...      0\n",
       "2   im grabbing a minute to post i feel greedy wrong      3\n",
       "3  i am ever feeling nostalgic about the fireplac...      2\n",
       "4                               i am feeling grouchy      3"
      ]
     },
     "execution_count": 15,
     "metadata": {},
     "output_type": "execute_result"
    }
   ],
   "source": [
    "import pandas as pd\n",
    "\n",
    "emotions.set_format(type=\"pandas\")\n",
    "df = emotions[\"train\"][:]\n",
    "df.head()"
   ]
  },
  {
   "cell_type": "markdown",
   "metadata": {},
   "source": [
    "As you can see, the column headers have been preserved and the first few rows match our previous views of the data. However, the labels are represented as integers, so let's use the `int2str()` method of the `label` feature to create a new column in our `DataFrame` with the corresponding label names:"
   ]
  },
  {
   "cell_type": "code",
   "execution_count": 16,
   "metadata": {},
   "outputs": [
    {
     "data": {
      "text/html": [
       "<div>\n",
       "<style scoped>\n",
       "    .dataframe tbody tr th:only-of-type {\n",
       "        vertical-align: middle;\n",
       "    }\n",
       "\n",
       "    .dataframe tbody tr th {\n",
       "        vertical-align: top;\n",
       "    }\n",
       "\n",
       "    .dataframe thead th {\n",
       "        text-align: right;\n",
       "    }\n",
       "</style>\n",
       "<table border=\"1\" class=\"dataframe\">\n",
       "  <thead>\n",
       "    <tr style=\"text-align: right;\">\n",
       "      <th></th>\n",
       "      <th>text</th>\n",
       "      <th>label</th>\n",
       "      <th>label_name</th>\n",
       "    </tr>\n",
       "  </thead>\n",
       "  <tbody>\n",
       "    <tr>\n",
       "      <th>0</th>\n",
       "      <td>i didnt feel humiliated</td>\n",
       "      <td>0</td>\n",
       "      <td>sadness</td>\n",
       "    </tr>\n",
       "    <tr>\n",
       "      <th>1</th>\n",
       "      <td>i can go from feeling so hopeless to so damned...</td>\n",
       "      <td>0</td>\n",
       "      <td>sadness</td>\n",
       "    </tr>\n",
       "    <tr>\n",
       "      <th>2</th>\n",
       "      <td>im grabbing a minute to post i feel greedy wrong</td>\n",
       "      <td>3</td>\n",
       "      <td>anger</td>\n",
       "    </tr>\n",
       "    <tr>\n",
       "      <th>3</th>\n",
       "      <td>i am ever feeling nostalgic about the fireplac...</td>\n",
       "      <td>2</td>\n",
       "      <td>love</td>\n",
       "    </tr>\n",
       "    <tr>\n",
       "      <th>4</th>\n",
       "      <td>i am feeling grouchy</td>\n",
       "      <td>3</td>\n",
       "      <td>anger</td>\n",
       "    </tr>\n",
       "  </tbody>\n",
       "</table>\n",
       "</div>"
      ],
      "text/plain": [
       "                                                text  label label_name\n",
       "0                            i didnt feel humiliated      0    sadness\n",
       "1  i can go from feeling so hopeless to so damned...      0    sadness\n",
       "2   im grabbing a minute to post i feel greedy wrong      3      anger\n",
       "3  i am ever feeling nostalgic about the fireplac...      2       love\n",
       "4                               i am feeling grouchy      3      anger"
      ]
     },
     "execution_count": 16,
     "metadata": {},
     "output_type": "execute_result"
    }
   ],
   "source": [
    "def label_int2str(row):\n",
    "    return emotions[\"train\"].features[\"label\"].int2str(row)\n",
    "\n",
    "df[\"label_name\"] = df[\"label\"].apply(label_int2str)\n",
    "df.head()"
   ]
  },
  {
   "cell_type": "markdown",
   "metadata": {},
   "source": [
    "Before diving into building a classifier, let's take a closer look at the dataset. As Andrej Karpathy notes in his famous blog post [\"A Recipe for Training Neural Networks\"](https://karpathy.github.io/2019/04/25/recipe), becoming \"one with the data\" is an essential step for training great models!"
   ]
  },
  {
   "cell_type": "markdown",
   "metadata": {},
   "source": [
    "### Looking at the Class Distribution"
   ]
  },
  {
   "cell_type": "code",
   "execution_count": 17,
   "metadata": {},
   "outputs": [
    {
     "data": {
      "image/png": "[encoded data removed]",
      "text/plain": [
       "<Figure size 640x480 with 1 Axes>"
      ]
     },
     "metadata": {},
     "output_type": "display_data"
    }
   ],
   "source": [
    "import matplotlib.pyplot as plt\n",
    "\n",
    "df[\"label_name\"].value_counts(ascending=True).plot.barh()\n",
    "plt.title(\"Frequency of Classes\")\n",
    "plt.show()"
   ]
  },
  {
   "cell_type": "markdown",
   "metadata": {},
   "source": [
    "In this case, we can see that the dataset is heavily imbalanced; the `joy` and `sadness` classes appear frequently, whereas `love` and `surprise` are about 5–10 times rarer. There are several ways to deal with imbalanced data, including:\n",
    "\n",
    "* Randomly oversample the minority class.\n",
    "* Randomly undersample the majority class.\n",
    "* Gather more labeled data from the underrepresented classes."
   ]
  },
  {
   "cell_type": "markdown",
   "metadata": {},
   "source": [
    "To keep things simple in this chapter, we'll work with the raw, unbalanced class frequencies. If you want to learn more about these sampling techniques, we recommend checking out the [Imbalanced-learn library](https://imbalanced-learn.org/stable/). Just make sure that you don't apply sampling methods _before_ creating your train/test splits, or you'll get plenty of leakage between them!\n",
    "\n",
    "Now that we've looked at the classes, let's take a look at the tweets themselves."
   ]
  },
  {
   "cell_type": "markdown",
   "metadata": {},
   "source": [
    "### How Long Are Our Tweets?"
   ]
  },
  {
   "cell_type": "markdown",
   "metadata": {},
   "source": [
    "Transformer models have a maximum input sequence length that is referred to as the _maximum context size_. For applications using DistilBERT, the maximum context size is 512 tokens, which amounts to a few paragraphs of text. As we'll see in the next section, a token is an atomic piece of text; for now, we'll treat a token as a single word. We can get a rough estimate of tweet lengths per emotion by looking at the distribution of words per tweet:"
   ]
  },
  {
   "cell_type": "code",
   "execution_count": 18,
   "metadata": {},
   "outputs": [
    {
     "data": {
      "image/png": "[encoded data removed]",
      "text/plain": [
       "<Figure size 640x480 with 1 Axes>"
      ]
     },
     "metadata": {},
     "output_type": "display_data"
    }
   ],
   "source": [
    "# DistilBERT's maximum context size is 512 tokens\n",
    "df[\"Words Per Tweet\"] = df[\"text\"].str.split().apply(len)\n",
    "df.boxplot(\"Words Per Tweet\", by=\"label_name\", grid=False, showfliers=False,\n",
    "           color=\"black\")\n",
    "plt.suptitle(\"\")\n",
    "plt.xlabel(\"\")\n",
    "plt.show()"
   ]
  },
  {
   "cell_type": "markdown",
   "metadata": {},
   "source": [
    "Let's now figure out how we can convert these raw texts into a format suitable for huggingface Transformers! While we're at it, let's also reset the output format of our dataset since we don't need the `DataFrame` format anymore: "
   ]
  },
  {
   "cell_type": "code",
   "execution_count": 19,
   "metadata": {},
   "outputs": [],
   "source": [
    "emotions.reset_format()"
   ]
  },
  {
   "cell_type": "markdown",
   "metadata": {},
   "source": [
    "## From Text to Tokens"
   ]
  },
  {
   "cell_type": "markdown",
   "metadata": {},
   "source": [
    "Transformer models like DistilBERT cannot receive raw strings as input; instead, they assume the text has been _tokenized_ and _encoded_ as numerical vectors. Tokenization is the step of breaking down a string into the atomic units used in the model. There are several tokenization strategies one can adopt, and the optimal splitting of words into subunits is usually learned from the corpus. Before looking at the tokenizer used for DistilBERT, let's consider two extreme cases: _character_ and _word_ tokenization."
   ]
  },
  {
   "cell_type": "markdown",
   "metadata": {},
   "source": [
    "### Character Tokenization"
   ]
  },
  {
   "cell_type": "markdown",
   "metadata": {},
   "source": [
    "The simplest tokenization scheme is to feed each character individually to the model. In Python, `str` objects are really arrays under the hood, which allows us to quickly implement character-level tokenization with just one line of code:"
   ]
  },
  {
   "cell_type": "code",
   "execution_count": 20,
   "metadata": {},
   "outputs": [
    {
     "name": "stdout",
     "output_type": "stream",
     "text": [
      "['T', 'o', 'k', 'e', 'n', 'i', 'z', 'i', 'n', 'g', ' ', 't', 'e', 'x', 't', ' ', 'i', 's', ' ', 'a', ' ', 'c', 'o', 'r', 'e', ' ', 't', 'a', 's', 'k', ' ', 'o', 'f', ' ', 'N', 'L', 'P', '.']\n"
     ]
    }
   ],
   "source": [
    "text = \"Tokenizing text is a core task of NLP.\"\n",
    "tokenized_text = list(text)\n",
    "print(tokenized_text)"
   ]
  },
  {
   "cell_type": "markdown",
   "metadata": {},
   "source": [
    "This is a good start, but we're not done yet. Our model expects each character to be  converted to an integer, a process sometimes called _numericalization_. One simple way to do this is by encoding each unique token (which are characters in this case) with a unique integer:"
   ]
  },
  {
   "cell_type": "code",
   "execution_count": 21,
   "metadata": {},
   "outputs": [
    {
     "name": "stdout",
     "output_type": "stream",
     "text": [
      "{' ': 0, '.': 1, 'L': 2, 'N': 3, 'P': 4, 'T': 5, 'a': 6, 'c': 7, 'e': 8, 'f': 9, 'g': 10, 'i': 11, 'k': 12, 'n': 13, 'o': 14, 'r': 15, 's': 16, 't': 17, 'x': 18, 'z': 19}\n"
     ]
    }
   ],
   "source": [
    "token2idx = {ch: idx for idx, ch in enumerate(sorted(set(tokenized_text)))}\n",
    "print(token2idx)"
   ]
  },
  {
   "cell_type": "markdown",
   "metadata": {},
   "source": [
    "This gives us a mapping from each character in our vocabulary to a unique integer. We can now use `token2idx` to transform the tokenized text to a list of integers:"
   ]
  },
  {
   "cell_type": "code",
   "execution_count": 22,
   "metadata": {},
   "outputs": [
    {
     "name": "stdout",
     "output_type": "stream",
     "text": [
      "[5, 14, 12, 8, 13, 11, 19, 11, 13, 10, 0, 17, 8, 18, 17, 0, 11, 16, 0, 6, 0, 7, 14, 15, 8, 0, 17, 6, 16, 12, 0, 14, 9, 0, 3, 2, 4, 1]\n"
     ]
    }
   ],
   "source": [
    "input_ids = [token2idx[token] for token in tokenized_text]\n",
    "print(input_ids)"
   ]
  },
  {
   "cell_type": "markdown",
   "metadata": {},
   "source": [
    "Each token has now been mapped to a unique numerical identifier (hence the name `input_ids`). The last step is to convert `input_ids` to a 2D tensor of one-hot vectors. One-hot vectors are frequently used in machine learning to encode categorical data, which can be either ordinal or nominal. For example, suppose we wanted to encode the names of characters in the _Transformers_ TV series. One way to do this would be to map each name to a unique ID, as follows:"
   ]
  },
  {
   "cell_type": "code",
   "execution_count": 23,
   "metadata": {},
   "outputs": [
    {
     "data": {
      "text/html": [
       "<div>\n",
       "<style scoped>\n",
       "    .dataframe tbody tr th:only-of-type {\n",
       "        vertical-align: middle;\n",
       "    }\n",
       "\n",
       "    .dataframe tbody tr th {\n",
       "        vertical-align: top;\n",
       "    }\n",
       "\n",
       "    .dataframe thead th {\n",
       "        text-align: right;\n",
       "    }\n",
       "</style>\n",
       "<table border=\"1\" class=\"dataframe\">\n",
       "  <thead>\n",
       "    <tr style=\"text-align: right;\">\n",
       "      <th></th>\n",
       "      <th>Name</th>\n",
       "      <th>Label ID</th>\n",
       "    </tr>\n",
       "  </thead>\n",
       "  <tbody>\n",
       "    <tr>\n",
       "      <th>0</th>\n",
       "      <td>Bumblebee</td>\n",
       "      <td>0</td>\n",
       "    </tr>\n",
       "    <tr>\n",
       "      <th>1</th>\n",
       "      <td>Optimus Prime</td>\n",
       "      <td>1</td>\n",
       "    </tr>\n",
       "    <tr>\n",
       "      <th>2</th>\n",
       "      <td>Megatron</td>\n",
       "      <td>2</td>\n",
       "    </tr>\n",
       "  </tbody>\n",
       "</table>\n",
       "</div>"
      ],
      "text/plain": [
       "            Name  Label ID\n",
       "0      Bumblebee         0\n",
       "1  Optimus Prime         1\n",
       "2       Megatron         2"
      ]
     },
     "execution_count": 23,
     "metadata": {},
     "output_type": "execute_result"
    }
   ],
   "source": [
    "categorical_df = pd.DataFrame(\n",
    "    {\"Name\": [\"Bumblebee\", \"Optimus Prime\", \"Megatron\"], \"Label ID\": [0,1,2]})\n",
    "categorical_df"
   ]
  },
  {
   "cell_type": "markdown",
   "metadata": {},
   "source": [
    "The problem with this approach is that it creates a fictitious ordering between the names, and neural networks are _really_ good at learning these kinds of relationships. So instead, we can create a new column for each category and assign a 1 where the category is true, and a 0 otherwise. In Pandas, this can be implemented with the `get_dummies()` function as follows:"
   ]
  },
  {
   "cell_type": "code",
   "execution_count": 24,
   "metadata": {},
   "outputs": [
    {
     "data": {
      "text/html": [
       "<div>\n",
       "<style scoped>\n",
       "    .dataframe tbody tr th:only-of-type {\n",
       "        vertical-align: middle;\n",
       "    }\n",
       "\n",
       "    .dataframe tbody tr th {\n",
       "        vertical-align: top;\n",
       "    }\n",
       "\n",
       "    .dataframe thead th {\n",
       "        text-align: right;\n",
       "    }\n",
       "</style>\n",
       "<table border=\"1\" class=\"dataframe\">\n",
       "  <thead>\n",
       "    <tr style=\"text-align: right;\">\n",
       "      <th></th>\n",
       "      <th>Bumblebee</th>\n",
       "      <th>Megatron</th>\n",
       "      <th>Optimus Prime</th>\n",
       "    </tr>\n",
       "  </thead>\n",
       "  <tbody>\n",
       "    <tr>\n",
       "      <th>0</th>\n",
       "      <td>True</td>\n",
       "      <td>False</td>\n",
       "      <td>False</td>\n",
       "    </tr>\n",
       "    <tr>\n",
       "      <th>1</th>\n",
       "      <td>False</td>\n",
       "      <td>False</td>\n",
       "      <td>True</td>\n",
       "    </tr>\n",
       "    <tr>\n",
       "      <th>2</th>\n",
       "      <td>False</td>\n",
       "      <td>True</td>\n",
       "      <td>False</td>\n",
       "    </tr>\n",
       "  </tbody>\n",
       "</table>\n",
       "</div>"
      ],
      "text/plain": [
       "   Bumblebee  Megatron  Optimus Prime\n",
       "0       True     False          False\n",
       "1      False     False           True\n",
       "2      False      True          False"
      ]
     },
     "execution_count": 24,
     "metadata": {},
     "output_type": "execute_result"
    }
   ],
   "source": [
    "pd.get_dummies(categorical_df[\"Name\"])"
   ]
  },
  {
   "cell_type": "markdown",
   "metadata": {},
   "source": [
    "The rows of this `DataFrame` are the one-hot vectors, which have a single \"hot\" entry with a 1 and 0s everywhere else. Now, looking at our `input_ids`, we have a similar problem: the elements create an ordinal scale. This means that adding or subtracting two IDs is a meaningless operation, since the result is a new ID that represents another random token.\n",
    "\n",
    "On the other hand, the result of adding two one-hot encodings can easily be interpreted: the two entries that are \"hot\" indicate that the corresponding tokens co-occur. We can create the one-hot encodings in PyTorch by converting `input_ids` to a tensor and applying the `one_hot()` function as follows:"
   ]
  },
  {
   "cell_type": "code",
   "execution_count": 25,
   "metadata": {},
   "outputs": [
    {
     "data": {
      "text/plain": [
       "torch.Size([38, 20])"
      ]
     },
     "execution_count": 25,
     "metadata": {},
     "output_type": "execute_result"
    }
   ],
   "source": [
    "import torch\n",
    "import torch.nn.functional as F\n",
    "\n",
    "input_ids = torch.tensor(input_ids)\n",
    "one_hot_encodings = F.one_hot(input_ids, num_classes=len(token2idx))\n",
    "one_hot_encodings.shape"
   ]
  },
  {
   "cell_type": "markdown",
   "metadata": {},
   "source": [
    "For each of the 38 input tokens we now have a one-hot vector with 20 dimensions, since our vocabulary consists of 20 unique characters."
   ]
  },
  {
   "cell_type": "markdown",
   "metadata": {},
   "source": [
    "> Warning: It's important to always set `num_classes` in the `one_hot()` function because otherwise the one-hot vectors may end up being shorter than the length of the vocabulary (and need to be padded with zeros manually). In TensorFlow, the equivalent function is `tf.one_hot()`, where the `depth` argument plays the role of `num_classes`."
   ]
  },
  {
   "cell_type": "markdown",
   "metadata": {},
   "source": [
    "By examining the first vector, we can verify that a 1 appears in the location indicated by `input_ids[0]`:"
   ]
  },
  {
   "cell_type": "code",
   "execution_count": 26,
   "metadata": {},
   "outputs": [
    {
     "name": "stdout",
     "output_type": "stream",
     "text": [
      "Token: T\n",
      "Tensor index: 5\n",
      "One-hot: tensor([0, 0, 0, 0, 0, 1, 0, 0, 0, 0, 0, 0, 0, 0, 0, 0, 0, 0, 0, 0])\n"
     ]
    }
   ],
   "source": [
    "print(f\"Token: {tokenized_text[0]}\")\n",
    "print(f\"Tensor index: {input_ids[0]}\")\n",
    "print(f\"One-hot: {one_hot_encodings[0]}\")"
   ]
  },
  {
   "cell_type": "markdown",
   "metadata": {},
   "source": [
    "From our simple example we can see that character-level tokenization ignores any structure in the text and treats the whole string as a stream of characters. Although this helps deal with misspellings and rare words, the main drawback is that linguistic structures such as words need to be _learned_ from the data. This requires significant compute, memory, and data. For this reason, character tokenization is rarely used in practice. Instead, some structure of the text is preserved during the tokenization step. _Word tokenization_ is a straightforward approach to achieve this, so let's take a look at how it works."
   ]
  },
  {
   "cell_type": "markdown",
   "metadata": {},
   "source": [
    "### Word Tokenization"
   ]
  },
  {
   "cell_type": "markdown",
   "metadata": {},
   "source": [
    "Instead of splitting the text into characters, we can split it into words and map each word to an integer. Using words from the outset enables the model to skip the step of learning words from characters, and thereby reduces the complexity of the training process."
   ]
  },
  {
   "cell_type": "markdown",
   "metadata": {},
   "source": [
    "One simple class of word tokenizers uses whitespace to tokenize the text. We can do this by applying Python's `split()` function directly on the raw text (just like we did to measure the tweet lengths):"
   ]
  },
  {
   "cell_type": "code",
   "execution_count": 27,
   "metadata": {},
   "outputs": [
    {
     "name": "stdout",
     "output_type": "stream",
     "text": [
      "['Tokenizing', 'text', 'is', 'a', 'core', 'task', 'of', 'NLP.']\n"
     ]
    }
   ],
   "source": [
    "tokenized_text = text.split()\n",
    "print(tokenized_text)"
   ]
  },
  {
   "cell_type": "markdown",
   "metadata": {},
   "source": [
    "From here we can take the same steps we took for the character tokenizer to map each word to an ID. However, we can already see one potential problem with this tokenization scheme: punctuation is not accounted for, so `NLP.` is treated as a single token. Given that words can include declinations, conjugations, or misspellings, the size of the vocabulary can easily grow into the millions! \n",
    "\n",
    "\n",
    "> note: Some word tokenizers have extra rules for punctuation. One can also apply stemming or lemmatization, which normalizes words to their stem (e.g., \"great\", \"greater\", and \"greatest\" all become \"great\"), at the expense of losing some information in the text. "
   ]
  },
  {
   "cell_type": "markdown",
   "metadata": {},
   "source": [
    "Having a large vocabulary is a problem because it requires neural networks to have an enormous number of parameters. To illustrate this, suppose we have 1 million unique words and want to compress the 1-million-dimensional input vectors to 1-thousand-dimensional vectors in the first layer of our neural network. This is a standard step in most NLP architectures, and the resulting weight matrix of this first layer would contain 1 million $\\times$ 1 thousand = 1 billion weights. This is already comparable to the largest GPT-2 model,footnote:[GPT-2 is the successor of GPT, and it captivated the public's attention with its impressive ability to generate realistic text. We'll explore GPT-2 in detail in <<chapter_summarization>>.] which has around 1.5 billion parameters in total!"
   ]
  },
  {
   "cell_type": "markdown",
   "metadata": {},
   "source": [
    "Naturally, we want to avoid being so wasteful with our model parameters since models are expensive to train, and larger models are more difficult to maintain. A common approach is to limit the vocabulary and discard rare words by considering, say, the 100,000 most common words in the corpus. Words that are not part of the vocabulary are classified as \"unknown\" and mapped to a shared `UNK` token. This means that we lose some potentially important information in the process of word tokenization, since the model has no information about words associated with `UNK`.\n",
    "\n",
    "Wouldn't it be nice if there was a compromise between character and word tokenization that preserved all the input information _and_ some of the input structure? There is: _subword tokenization_."
   ]
  },
  {
   "cell_type": "markdown",
   "metadata": {},
   "source": [
    "### Subword Tokenization"
   ]
  },
  {
   "cell_type": "markdown",
   "metadata": {},
   "source": [
    "The basic idea behind subword tokenization is to combine the best aspects of character and word tokenization. On the one hand, we want to split rare words into smaller units to allow the model to deal with complex words and misspellings. On the other hand, we want to keep frequent words as unique entities so that we can keep the length of our inputs to a manageable size. The main distinguishing feature of subword tokenization (as well as word tokenization) is that it is _learned_ from the pretraining corpus using a mix of statistical rules and algorithms.\n",
    "\n",
    "There are several subword tokenization algorithms that are commonly used in NLP, but let's start with WordPiece,footnote:[M. Schuster and K. Nakajima, \"Japanese and Korean Voice Search,\" _2012 IEEE International Conference on Acoustics, Speech and Signal Processing_ (2012): 5149–5152, https://doi.org/10.1109/ICASSP.2012.6289079.] which is used by the BERT and DistilBERT tokenizers. The easiest way to understand how WordPiece works is to see it in action. image:images/logo.png[hf,13,13] Transformers provides a convenient `AutoTokenizer` class that allows you to quickly load the tokenizer associated with a pretrained model—we just call its `from_pretrained()` method, providing the ID of a model on the Hub or a local file path. Let's start by loading the tokenizer for DistilBERT:"
   ]
  },
  {
   "cell_type": "code",
   "execution_count": 28,
   "metadata": {},
   "outputs": [],
   "source": [
    "from transformers import AutoTokenizer\n",
    "\n",
    "model_ckpt = \"distilbert/distilbert-base-uncased\"\n",
    "tokenizer = AutoTokenizer.from_pretrained(model_ckpt)"
   ]
  },
  {
   "cell_type": "markdown",
   "metadata": {},
   "source": [
    "The `AutoTokenizer` class belongs to a larger set of [\"auto\" classes](https://huggingface.co/docs/transformers/model_doc/auto) whose job is to automatically retrieve the model's configuration, pretrained weights, or vocabulary from the name of the checkpoint. This allows you to quickly switch between models, but if you wish to load the specific class manually you can do so as well. "
   ]
  },
  {
   "cell_type": "markdown",
   "metadata": {},
   "source": [
    "> note: When you run the `AutoTokenizer.from_pretrained()` method for the first time you will see a progress bar that shows which parameters of the pretrained tokenizer are loaded from the Hugging Face Hub. When you run the code a second time, it will load the tokenizer from the cache, usually located at _~/.cache/huggingface/_."
   ]
  },
  {
   "cell_type": "markdown",
   "metadata": {},
   "source": [
    "Let's examine how this tokenizer works by feeding it our simple \"Tokenizing text is a core task of NLP.\" example text:"
   ]
  },
  {
   "cell_type": "code",
   "execution_count": 29,
   "metadata": {},
   "outputs": [
    {
     "name": "stdout",
     "output_type": "stream",
     "text": [
      "{'input_ids': [101, 19204, 6026, 3793, 2003, 1037, 4563, 4708, 1997, 17953, 2361, 1012, 102], 'attention_mask': [1, 1, 1, 1, 1, 1, 1, 1, 1, 1, 1, 1, 1]}\n"
     ]
    }
   ],
   "source": [
    "encoded_text = tokenizer(text)\n",
    "print(encoded_text)"
   ]
  },
  {
   "cell_type": "markdown",
   "metadata": {},
   "source": [
    "Just like we saw with character tokenization, we can see that the words have been mapped to unique integers in the `input_ids` field. We'll discuss the role of the `attention_mask` field in the next section. Now that we have the `input_ids`, we can convert them back into tokens by using the tokenizer's `convert_ids_to_tokens()` method:"
   ]
  },
  {
   "cell_type": "code",
   "execution_count": 30,
   "metadata": {},
   "outputs": [
    {
     "name": "stdout",
     "output_type": "stream",
     "text": [
      "['[CLS]', 'token', '##izing', 'text', 'is', 'a', 'core', 'task', 'of', 'nl', '##p', '.', '[SEP]']\n"
     ]
    }
   ],
   "source": [
    "tokens = tokenizer.convert_ids_to_tokens(encoded_text.input_ids)\n",
    "print(tokens)"
   ]
  },
  {
   "cell_type": "markdown",
   "metadata": {},
   "source": [
    "We can observe three things here. First, some special `[CLS]` and `[SEP]` tokens have been added to the start and end of the sequence. These tokens differ from model to model, but their main role is to indicate the start and end of a sequence. Second, the tokens have each been lowercased, which is a feature of this particular checkpoint. Finally, we can see that \"tokenizing\" and \"NLP\" have been split into two tokens, which makes sense since they are not common words. The `##` prefix in `##izing` and `##p` means that the preceding string is not whitespace; any token with this prefix should be merged with the previous token when you convert the tokens back to a string. The `AutoTokenizer` class has a `convert_tokens_to_string()` method for doing just that, so let's apply it to our tokens:"
   ]
  },
  {
   "cell_type": "code",
   "execution_count": 31,
   "metadata": {},
   "outputs": [
    {
     "name": "stdout",
     "output_type": "stream",
     "text": [
      "[CLS] tokenizing text is a core task of nlp. [SEP]\n"
     ]
    }
   ],
   "source": [
    "print(tokenizer.convert_tokens_to_string(tokens))"
   ]
  },
  {
   "cell_type": "markdown",
   "metadata": {},
   "source": [
    "The `AutoTokenizer` class also has several attributes that provide information about the tokenizer. For example, we can inspect the vocabulary size:"
   ]
  },
  {
   "cell_type": "code",
   "execution_count": 32,
   "metadata": {},
   "outputs": [
    {
     "data": {
      "text/plain": [
       "30522"
      ]
     },
     "execution_count": 32,
     "metadata": {},
     "output_type": "execute_result"
    }
   ],
   "source": [
    "tokenizer.vocab_size"
   ]
  },
  {
   "cell_type": "markdown",
   "metadata": {},
   "source": [
    "and the corresponding model's maximum context size:"
   ]
  },
  {
   "cell_type": "code",
   "execution_count": 33,
   "metadata": {},
   "outputs": [
    {
     "data": {
      "text/plain": [
       "512"
      ]
     },
     "execution_count": 33,
     "metadata": {},
     "output_type": "execute_result"
    }
   ],
   "source": [
    "tokenizer.model_max_length"
   ]
  },
  {
   "cell_type": "markdown",
   "metadata": {},
   "source": [
    "Another interesting attribute to know about is the names of the fields that the model expects in its forward pass:"
   ]
  },
  {
   "cell_type": "code",
   "execution_count": 34,
   "metadata": {},
   "outputs": [
    {
     "data": {
      "text/plain": [
       "['input_ids', 'attention_mask']"
      ]
     },
     "execution_count": 34,
     "metadata": {},
     "output_type": "execute_result"
    }
   ],
   "source": [
    "tokenizer.model_input_names"
   ]
  },
  {
   "cell_type": "markdown",
   "metadata": {},
   "source": [
    "Now that we have a basic understanding of the tokenization process for a single string, let's see how we can tokenize the whole dataset!"
   ]
  },
  {
   "cell_type": "markdown",
   "metadata": {},
   "source": [
    "> warning: When using pretrained models, it is _really_ important to make sure that you use the same tokenizer that the model was trained with. From the model's perspective, switching the tokenizer is like shuffling the vocabulary. If everyone around you started swapping random words like \"house\" for \"cat,\" you'd have a hard time understanding what was going on too!"
   ]
  },
  {
   "cell_type": "markdown",
   "metadata": {},
   "source": [
    "### Tokenizing the Whole Dataset"
   ]
  },
  {
   "cell_type": "markdown",
   "metadata": {},
   "source": [
    "To tokenize the whole corpus, we'll use the `map()` method of our `DatasetDict` object. We'll encounter this method many times throughout this book, as it provides a convenient way to apply a processing function to each element in a dataset. As we'll soon see, the `map()` method can also be used to create new rows and columns.\n",
    "\n",
    "To get started, the first thing we need is a processing function to tokenize our examples with:"
   ]
  },
  {
   "cell_type": "code",
   "execution_count": 35,
   "metadata": {},
   "outputs": [],
   "source": [
    "def tokenize(batch):\n",
    "    return tokenizer(batch[\"text\"], padding=True, truncation=True)"
   ]
  },
  {
   "cell_type": "markdown",
   "metadata": {},
   "source": [
    "This function applies the tokenizer to a batch of examples; `padding=True` will pad the examples with zeros to the size of the longest one in a batch, and `truncation=True` will truncate the examples to the model's maximum context size. To see `tokenize()` in action, let's pass a batch of two examples from the training set:"
   ]
  },
  {
   "cell_type": "code",
   "execution_count": 36,
   "metadata": {},
   "outputs": [
    {
     "name": "stdout",
     "output_type": "stream",
     "text": [
      "{'input_ids': [[101, 1045, 2134, 2102, 2514, 26608, 102, 0, 0, 0, 0, 0, 0, 0, 0, 0, 0, 0, 0, 0, 0, 0, 0], [101, 1045, 2064, 2175, 2013, 3110, 2061, 20625, 2000, 2061, 9636, 17772, 2074, 2013, 2108, 2105, 2619, 2040, 14977, 1998, 2003, 8300, 102]], 'attention_mask': [[1, 1, 1, 1, 1, 1, 1, 0, 0, 0, 0, 0, 0, 0, 0, 0, 0, 0, 0, 0, 0, 0, 0], [1, 1, 1, 1, 1, 1, 1, 1, 1, 1, 1, 1, 1, 1, 1, 1, 1, 1, 1, 1, 1, 1, 1]]}\n"
     ]
    }
   ],
   "source": [
    "print(tokenize(emotions[\"train\"][:2]))"
   ]
  },
  {
   "cell_type": "markdown",
   "metadata": {},
   "source": [
    "Here we can see the result of padding: the first element of `input_ids` is shorter than the second, so zeros have been added to that element to make them the same length. These zeros have a corresponding `[PAD]` token in the vocabulary, and the set of special tokens also includes the `[CLS]` and `[SEP]` tokens that we encountered earlier:"
   ]
  },
  {
   "cell_type": "code",
   "execution_count": 37,
   "metadata": {},
   "outputs": [
    {
     "data": {
      "text/html": [
       "<div>\n",
       "<style scoped>\n",
       "    .dataframe tbody tr th:only-of-type {\n",
       "        vertical-align: middle;\n",
       "    }\n",
       "\n",
       "    .dataframe tbody tr th {\n",
       "        vertical-align: top;\n",
       "    }\n",
       "\n",
       "    .dataframe thead th {\n",
       "        text-align: right;\n",
       "    }\n",
       "</style>\n",
       "<table border=\"1\" class=\"dataframe\">\n",
       "  <thead>\n",
       "    <tr style=\"text-align: right;\">\n",
       "      <th></th>\n",
       "      <th>0</th>\n",
       "      <th>1</th>\n",
       "      <th>2</th>\n",
       "      <th>3</th>\n",
       "      <th>4</th>\n",
       "    </tr>\n",
       "  </thead>\n",
       "  <tbody>\n",
       "    <tr>\n",
       "      <th>Special Token</th>\n",
       "      <td>[PAD]</td>\n",
       "      <td>[UNK]</td>\n",
       "      <td>[CLS]</td>\n",
       "      <td>[SEP]</td>\n",
       "      <td>[MASK]</td>\n",
       "    </tr>\n",
       "    <tr>\n",
       "      <th>Special Token ID</th>\n",
       "      <td>0</td>\n",
       "      <td>100</td>\n",
       "      <td>101</td>\n",
       "      <td>102</td>\n",
       "      <td>103</td>\n",
       "    </tr>\n",
       "  </tbody>\n",
       "</table>\n",
       "</div>"
      ],
      "text/plain": [
       "                      0      1      2      3       4\n",
       "Special Token     [PAD]  [UNK]  [CLS]  [SEP]  [MASK]\n",
       "Special Token ID      0    100    101    102     103"
      ]
     },
     "execution_count": 37,
     "metadata": {},
     "output_type": "execute_result"
    }
   ],
   "source": [
    "#hide_input\n",
    "tokens2ids = list(zip(tokenizer.all_special_tokens, tokenizer.all_special_ids))\n",
    "data = sorted(tokens2ids, key=lambda x : x[-1])\n",
    "df = pd.DataFrame(data, columns=[\"Special Token\", \"Special Token ID\"])\n",
    "df.T"
   ]
  },
  {
   "cell_type": "markdown",
   "metadata": {},
   "source": [
    "Also note that in addition to returning the encoded tweets as `input_ids`, the tokenizer returns a list of `attention_mask` arrays. This is because we do not want the model to get confused by the additional padding tokens: the attention mask allows the model to ignore the padded parts of the input. <<attention-mask>> provides a visual explanation of how the input IDs and attention masks are padded.\n",
    "\n",
    "<img alt=\"attention-mask\" caption=\"For each batch, the input sequences are padded to the maximum sequence length in the batch; the attention mask is used in the model to ignore the padded areas of the input tensors\" src=\"images/chapter02_attention-mask.png\" id=\"attention-mask\"/> "
   ]
  },
  {
   "cell_type": "markdown",
   "metadata": {},
   "source": [
    "Once we've defined a processing function, we can apply it across all the splits in the corpus in a single line of code:"
   ]
  },
  {
   "cell_type": "code",
   "execution_count": 38,
   "metadata": {},
   "outputs": [],
   "source": [
    "# hide_output\n",
    "emotions_encoded = emotions.map(tokenize, batched=True, batch_size=None)"
   ]
  },
  {
   "cell_type": "markdown",
   "metadata": {},
   "source": [
    "By default, the `map()` method operates individually on every example in the corpus, so setting `batched=True` will encode the tweets in batches. Because we've set `batch_size=None`, our `tokenize()` function will be applied on the full dataset as a single batch. This ensures that the input tensors and attention masks have the same shape globally, and we can see that this operation has added new `input_ids` and `attention_mask` columns to the dataset:"
   ]
  },
  {
   "cell_type": "code",
   "execution_count": 39,
   "metadata": {},
   "outputs": [
    {
     "name": "stdout",
     "output_type": "stream",
     "text": [
      "['text', 'label', 'input_ids', 'attention_mask']\n"
     ]
    }
   ],
   "source": [
    "print(emotions_encoded[\"train\"].column_names)"
   ]
  },
  {
   "cell_type": "markdown",
   "metadata": {},
   "source": [
    "> Note: In later chapters, we'll see how _data collators_ can be used to dynamically pad the tensors in each batch. Padding globally will come in handy in the next section, where we extract a feature matrix from the whole corpus."
   ]
  },
  {
   "cell_type": "markdown",
   "metadata": {},
   "source": [
    "## Training a Text Classifier"
   ]
  },
  {
   "cell_type": "markdown",
   "metadata": {},
   "source": [
    "As discussed in <<chapter_introduction>>, models like DistilBERT are pretrained to predict masked words in a sequence of text. However, we can't use these language models directly for text classification; we need to modify them slightly. To understand what modifications are necessary, let's take a look at the architecture of an encoder-based model like DistilBERT, which is depicted in <<encoder-classifier>>. "
   ]
  },
  {
   "cell_type": "markdown",
   "metadata": {},
   "source": [
    "<img alt=\"encoder-classifier\" caption=\"The architecture used for sequence classification with an encoder-based transformer; it consists of the model's pretrained body (blue) combined with a custom classification head (orange)\" src=\"images/chapter02_encoder-classifier.png\" id=\"encoder-classifier\"/>"
   ]
  },
  {
   "cell_type": "markdown",
   "metadata": {},
   "source": [
    "First, the text is tokenized and represented as one-hot vectors called _token encodings_. The size of the tokenizer vocabulary determines the dimension of the token encodings, and it usually consists of 20k–200k unique tokens. Next, these token encodings are converted to _token embeddings_, which are vectors living in a lower-dimensional space. The token embeddings are then passed through the encoder block layers to yield a _hidden state_ for each input token. For the pretraining objective of language modeling,&#x2060;footnote:[In the case of DistilBERT, it's guessing the masked tokens.] each hidden state is fed to a layer that predicts the masked input tokens. For the classification task, we replace the language modeling layer with a classification layer."
   ]
  },
  {
   "cell_type": "markdown",
   "metadata": {},
   "source": [
    "> note: In practice, PyTorch skips the step of creating one-hot vectors for token encodings because multiplying a matrix with a one-hot vector is the same as selecting a column from the matrix. This can be done directly by getting the column with the token ID from the matrix. We'll see this in <<chapter_anatomy>> when we use the `nn.Embedding` class."
   ]
  },
  {
   "cell_type": "markdown",
   "metadata": {},
   "source": [
    "We have two options to train such a model on our Twitter dataset:\n",
    "\n",
    "- _Feature extraction_:: We use the hidden states as features and just train a classifier on them, without modifying the pretrained model.\n",
    "- _Fine-tuning_:: We train the whole model end-to-end, which also updates the parameters of the pretrained model. \n",
    "\n",
    "In the following sections we explore both options for DistilBERT and examine their trade-offs. "
   ]
  },
  {
   "cell_type": "markdown",
   "metadata": {},
   "source": [
    "### Transformers as Feature Extractors"
   ]
  },
  {
   "cell_type": "markdown",
   "metadata": {},
   "source": [
    "\n",
    "Using a transformer as a feature extractor is fairly simple. As shown in <<encoder-features>>, we freeze the body's weights during training and use the hidden states as features for the classifier. The advantage of this approach is that we can quickly train a small or shallow model. Such a model could be a neural classification layer or a method that does not rely on gradients, such as a random forest. This method is especially convenient if GPUs are unavailable, since the hidden states only need to be precomputed once."
   ]
  },
  {
   "cell_type": "markdown",
   "metadata": {},
   "source": [
    "<img alt=\"encoder-features\" caption=\"In the feature-based approach, the DistilBERT model is frozen and just provides features for a classifier\" src=\"images/chapter02_encoder-feature-based.png\" id=\"encoder-features\"/>"
   ]
  },
  {
   "cell_type": "markdown",
   "metadata": {},
   "source": [
    "#### Using pretrained models"
   ]
  },
  {
   "cell_type": "markdown",
   "metadata": {},
   "source": [
    "\n",
    "We will use another convenient auto class from huggingface Transformers called `AutoModel`. Similar to the `AutoTokenizer` class, `AutoModel` has a `from_pretrained()` method to load the weights of a pretrained model. Let's use this method to load the DistilBERT checkpoint:"
   ]
  },
  {
   "cell_type": "code",
   "execution_count": 40,
   "metadata": {
    "scrolled": true
   },
   "outputs": [
    {
     "name": "stdout",
     "output_type": "stream",
     "text": [
      "cuda\n"
     ]
    }
   ],
   "source": [
    "# hide_output\n",
    "from transformers import AutoModel\n",
    "\n",
    "model_ckpt = \"distilbert-base-uncased\"\n",
    "device = torch.device(\"cuda\" if torch.cuda.is_available() else \"CPU\")\n",
    "print(device)\n",
    "model = AutoModel.from_pretrained(model_ckpt).to(device)"
   ]
  },
  {
   "cell_type": "markdown",
   "metadata": {},
   "source": [
    "Here we've used PyTorch to check whether a GPU is available or not, and then chained the PyTorch `nn.Module.to()` method to the model loader. This ensures that the model will run on the GPU if we have one. If not, the model will run on the CPU, which can be considerably slower."
   ]
  },
  {
   "cell_type": "markdown",
   "metadata": {},
   "source": [
    "The `AutoModel` class converts the token encodings to embeddings, and then feeds them through the encoder stack to return the hidden states. Let's take a look at how we can extract these states from our corpus."
   ]
  },
  {
   "cell_type": "markdown",
   "metadata": {},
   "source": [
    "Although the code in this book is mostly written in PyTorch, huggingface Transformers provides tight interoperability with TensorFlow and JAX. This means that you only need to change a few lines of code to load a pretrained model in your favorite deep learning framework! For example, we can load DistilBERT in TensorFlow by using the `TFAutoModel` class as follows: "
   ]
  },
  {
   "cell_type": "code",
   "execution_count": 41,
   "metadata": {},
   "outputs": [
    {
     "name": "stderr",
     "output_type": "stream",
     "text": [
      "2025-09-29 14:03:51.162355: I external/local_xla/xla/stream_executor/cuda/cuda_executor.cc:901] successful NUMA node read from SysFS had negative value (-1), but there must be at least one NUMA node, so returning NUMA node zero. See more at https://github.com/torvalds/linux/blob/v6.0/Documentation/ABI/testing/sysfs-bus-pci#L344-L355\n",
      "2025-09-29 14:03:51.164502: W tensorflow/core/common_runtime/gpu/gpu_device.cc:2256] Cannot dlopen some GPU libraries. Please make sure the missing libraries mentioned above are installed properly if you would like to use GPU. Follow the guide at https://www.tensorflow.org/install/gpu for how to download and setup the required libraries for your platform.\n",
      "Skipping registering GPU devices...\n"
     ]
    }
   ],
   "source": [
    "from transformers import AutoTokenizer, TFAutoModelForSequenceClassification\n",
    "\n",
    "num_labels = 6  # anger, disgust, fear, joy, sadness, surprise (for dair-ai/emotion)\n",
    "tf_clf = TFAutoModelForSequenceClassification.from_pretrained(\n",
    "    model_ckpt, num_labels=num_labels, from_pt=True\n",
    ")\n",
    "\n"
   ]
  },
  {
   "cell_type": "markdown",
   "metadata": {},
   "source": [
    "This interoperability is especially useful when a model is only released in one framework, but you'd like to use it in another. For example, the [XLM-RoBERTa model](https://huggingface.co/xlm-roberta-base) that we'll encounter in <<chapter_ner>> only has PyTorch weights, so if you try to load it in TensorFlow as we did before:\n",
    "\n",
    "```python\n",
    "tf_xlmr = TFAutoModel.from_pretrained(\"FacebookAI/xlm-roberta-base\")\n",
    "```\n",
    "\n",
    "you'll get an error. In these cases, you can specify a `from_pt=True` argument to the `TfAutoModel.from_pretrained()` function, and the library will automatically download and convert the PyTorch weights for you:"
   ]
  },
  {
   "cell_type": "code",
   "execution_count": 42,
   "metadata": {},
   "outputs": [],
   "source": [
    "from transformers import TFAutoModel\n",
    "\n",
    "tf_xlmr = TFAutoModel.from_pretrained(\"FacebookAI/xlm-roberta-base\", from_pt=True)\n"
   ]
  },
  {
   "cell_type": "markdown",
   "metadata": {},
   "source": [
    "As you can see, it is very simple to switch between frameworks in image:images/logo.png[hf,13,13] Transformers! In most cases, you can just add a \"TF\" prefix to the classes and you'll get the equivalent TensorFlow 2.0 classes. When we use the `\"pt\"` string (e.g., in the following section), which is short for PyTorch, just replace it with \"`tf\"`, which is short for TensorFlow."
   ]
  },
  {
   "cell_type": "markdown",
   "metadata": {},
   "source": [
    "#### Extracting the last hidden states"
   ]
  },
  {
   "cell_type": "markdown",
   "metadata": {},
   "source": [
    "To warm up, let's retrieve the last hidden states for a single string. The first thing we need to do is encode the string and convert the tokens to PyTorch tensors. This can be done by providing the `return_tensors=\"pt\"` argument to the tokenizer as follows:"
   ]
  },
  {
   "cell_type": "code",
   "execution_count": 43,
   "metadata": {},
   "outputs": [
    {
     "name": "stdout",
     "output_type": "stream",
     "text": [
      "Input tensor shape: torch.Size([1, 6])\n"
     ]
    }
   ],
   "source": [
    "from transformers import AutoTokenizer\n",
    "\n",
    "# Pick the same checkpoint as your model\n",
    "tokenizer = AutoTokenizer.from_pretrained(\"FacebookAI/xlm-roberta-base\")\n",
    "\n",
    "text = \"this is a test\"\n",
    "inputs = tokenizer(text, return_tensors=\"pt\")  # \"pt\" = PyTorch tensors\n",
    "print(f\"Input tensor shape: {inputs['input_ids'].size()}\")\n"
   ]
  },
  {
   "cell_type": "markdown",
   "metadata": {},
   "source": [
    "As we can see, the resulting tensor has the shape `[batch_size, n_tokens]`. Now that we have the encodings as a tensor, the final step is to place them on the same device as the model and pass the inputs as follows: "
   ]
  },
  {
   "cell_type": "code",
   "execution_count": 44,
   "metadata": {},
   "outputs": [
    {
     "name": "stdout",
     "output_type": "stream",
     "text": [
      "BaseModelOutput(last_hidden_state=tensor([[[ 0.0992, -0.2127,  0.5348,  ...,  0.0131,  0.3475, -0.3073],\n",
      "         [ 0.1651, -0.1807,  0.5971,  ...,  0.0944,  0.3272, -0.4045],\n",
      "         [ 0.1841, -0.2001,  0.6053,  ...,  0.0827,  0.2911, -0.3834],\n",
      "         [ 0.1807, -0.1603,  0.6002,  ...,  0.1002,  0.2979, -0.3714],\n",
      "         [ 0.1433, -0.2094,  0.5812,  ...,  0.0612,  0.3042, -0.3598],\n",
      "         [ 0.0661, -0.2279,  0.4383,  ...,  0.0628,  0.2775, -0.3027]]],\n",
      "       device='cuda:0'), hidden_states=None, attentions=None)\n"
     ]
    }
   ],
   "source": [
    "inputs = {k:v.to(device) for k,v in inputs.items()}\n",
    "with torch.no_grad():\n",
    "    outputs = model(**inputs)\n",
    "print(outputs)"
   ]
  },
  {
   "cell_type": "markdown",
   "metadata": {},
   "source": [
    "Here we've used the `torch.no_grad()` context manager to disable the automatic calculation of the gradient. This is useful for inference since it reduces the memory footprint of the computations. Depending on the model configuration, the output can contain several objects, such as the hidden states, losses, or attentions, arranged in a class similar to a `namedtuple` in Python. In our example, the model output is an instance of `BaseModelOutput`, and we can simply access its attributes by name. The current model returns only one attribute, which is the last hidden state, so let's examine its shape:"
   ]
  },
  {
   "cell_type": "code",
   "execution_count": 45,
   "metadata": {},
   "outputs": [
    {
     "data": {
      "text/plain": [
       "torch.Size([1, 6, 768])"
      ]
     },
     "execution_count": 45,
     "metadata": {},
     "output_type": "execute_result"
    }
   ],
   "source": [
    "outputs.last_hidden_state.size()"
   ]
  },
  {
   "cell_type": "markdown",
   "metadata": {},
   "source": [
    "Looking at the hidden state tensor, we see that it has the shape `[batch_size, n_tokens, hidden_dim]`. In other words, a 768-dimensional vector is returned for each of the 6 input tokens. For classification tasks, it is common practice to just use the hidden state associated with the `[CLS]` token as the input feature. Since this token appears at the start of each sequence, we can extract it by simply indexing into `outputs.last_hidden_state` as follows:"
   ]
  },
  {
   "cell_type": "code",
   "execution_count": 46,
   "metadata": {},
   "outputs": [
    {
     "data": {
      "text/plain": [
       "torch.Size([1, 768])"
      ]
     },
     "execution_count": 46,
     "metadata": {},
     "output_type": "execute_result"
    }
   ],
   "source": [
    "outputs.last_hidden_state[:,0].size()"
   ]
  },
  {
   "cell_type": "markdown",
   "metadata": {},
   "source": [
    "Now that we know how to get the last hidden state for a single string, let's do the same thing for the whole dataset by creating a new `hidden_state` column that stores all these vectors. As we did with the tokenizer, we'll use the `map()` method of `DatasetDict` to extract all the hidden states in one go. The first thing we need to do is wrap the previous steps in a processing function:"
   ]
  },
  {
   "cell_type": "code",
   "execution_count": 47,
   "metadata": {},
   "outputs": [],
   "source": [
    "def extract_hidden_states(batch):\n",
    "    # Place model inputs on the GPU\n",
    "    inputs = {k:v.to(device) for k,v in batch.items() \n",
    "              if k in tokenizer.model_input_names}\n",
    "    # Extract last hidden states\n",
    "    with torch.no_grad():\n",
    "        last_hidden_state = model(**inputs).last_hidden_state\n",
    "    # Return vector for [CLS] token\n",
    "    return {\"hidden_state\": last_hidden_state[:,0].cpu().numpy()}"
   ]
  },
  {
   "cell_type": "markdown",
   "metadata": {},
   "source": [
    "The only difference between this function and our previous logic is the final step where we place the final hidden state back on the CPU as a NumPy array. The `map()` method requires the processing function to return Python or NumPy objects when we're using batched inputs.\n",
    "\n",
    "Since our model expects tensors as inputs, the next thing to do is convert the `input_ids` and `attention_mask` columns to the `\"torch\"` format, as follows:"
   ]
  },
  {
   "cell_type": "code",
   "execution_count": 48,
   "metadata": {},
   "outputs": [],
   "source": [
    "emotions_encoded.set_format(\"torch\", \n",
    "                            columns=[\"input_ids\", \"attention_mask\", \"label\"])"
   ]
  },
  {
   "cell_type": "markdown",
   "metadata": {},
   "source": [
    "We can then go ahead and extract the hidden states across all splits in one go:"
   ]
  },
  {
   "cell_type": "code",
   "execution_count": 49,
   "metadata": {},
   "outputs": [],
   "source": [
    "#hide_output\n",
    "emotions_hidden = emotions_encoded.map(extract_hidden_states, batched=True)"
   ]
  },
  {
   "cell_type": "markdown",
   "metadata": {},
   "source": [
    "Note that we did not set `batch_size=None` in this case, so the default `batch_size=1000` is used instead. As expected, applying the +extract_&#x200b;hid&#x2060;den_&#x200b;states()+ function has added a new `hidden_state` column to our dataset:"
   ]
  },
  {
   "cell_type": "code",
   "execution_count": 50,
   "metadata": {},
   "outputs": [
    {
     "data": {
      "text/plain": [
       "['text', 'label', 'input_ids', 'attention_mask', 'hidden_state']"
      ]
     },
     "execution_count": 50,
     "metadata": {},
     "output_type": "execute_result"
    }
   ],
   "source": [
    "emotions_hidden[\"train\"].column_names"
   ]
  },
  {
   "cell_type": "markdown",
   "metadata": {},
   "source": [
    "Now that we have the hidden states associated with each tweet, the next step is to train a classifier on them. To do that, we'll need a feature matrix - let's take a look."
   ]
  },
  {
   "cell_type": "markdown",
   "metadata": {},
   "source": [
    "#### Creating a feature matrix"
   ]
  },
  {
   "cell_type": "markdown",
   "metadata": {},
   "source": [
    "The preprocessed dataset now contains all the information we need to train a classifier on it. We will use the hidden states as input features and the labels as targets. We can easily create the corresponding arrays in the well-known Scikit-Learn format as follows:"
   ]
  },
  {
   "cell_type": "code",
   "execution_count": 51,
   "metadata": {},
   "outputs": [
    {
     "data": {
      "text/plain": [
       "((16000, 768), (2000, 768))"
      ]
     },
     "execution_count": 51,
     "metadata": {},
     "output_type": "execute_result"
    }
   ],
   "source": [
    "import numpy as np\n",
    "\n",
    "X_train = np.array(emotions_hidden[\"train\"][\"hidden_state\"])\n",
    "X_valid = np.array(emotions_hidden[\"validation\"][\"hidden_state\"])\n",
    "y_train = np.array(emotions_hidden[\"train\"][\"label\"])\n",
    "y_valid = np.array(emotions_hidden[\"validation\"][\"label\"])\n",
    "X_train.shape, X_valid.shape"
   ]
  },
  {
   "cell_type": "markdown",
   "metadata": {},
   "source": [
    "Before we train a model on the hidden states, it's good practice to perform a sanity check to ensure that they provide a useful representation of the emotions we want to classify. In the next section, we'll see how visualizing the features provides a fast way to achieve this."
   ]
  },
  {
   "cell_type": "markdown",
   "metadata": {},
   "source": [
    "#### Visualizing the training set"
   ]
  },
  {
   "cell_type": "markdown",
   "metadata": {},
   "source": [
    "Since visualizing the hidden states in 768 dimensions is tricky to say the least, we'll use the powerful UMAPfootnote:[L. McInnes, J. Healy, and J. Melville, [\"UMAP: Uniform Manifold Approximation and Projection for Dimension Reduction\"](https://arxiv.org/abs/1802.03426), (2018).] algorithm to project the vectors down to 2D.  Since UMAP works best when the features are scaled to lie in the [0,1] interval, we'll first apply a `MinMaxScaler` and then use the UMAP implementation from the `umap-learn` library to reduce the hidden states:"
   ]
  },
  {
   "cell_type": "code",
   "execution_count": 52,
   "metadata": {},
   "outputs": [
    {
     "data": {
      "text/html": [
       "<div>\n",
       "<style scoped>\n",
       "    .dataframe tbody tr th:only-of-type {\n",
       "        vertical-align: middle;\n",
       "    }\n",
       "\n",
       "    .dataframe tbody tr th {\n",
       "        vertical-align: top;\n",
       "    }\n",
       "\n",
       "    .dataframe thead th {\n",
       "        text-align: right;\n",
       "    }\n",
       "</style>\n",
       "<table border=\"1\" class=\"dataframe\">\n",
       "  <thead>\n",
       "    <tr style=\"text-align: right;\">\n",
       "      <th></th>\n",
       "      <th>X</th>\n",
       "      <th>Y</th>\n",
       "      <th>label</th>\n",
       "    </tr>\n",
       "  </thead>\n",
       "  <tbody>\n",
       "    <tr>\n",
       "      <th>0</th>\n",
       "      <td>4.318488</td>\n",
       "      <td>3.567984</td>\n",
       "      <td>0</td>\n",
       "    </tr>\n",
       "    <tr>\n",
       "      <th>1</th>\n",
       "      <td>-2.933778</td>\n",
       "      <td>4.082364</td>\n",
       "      <td>0</td>\n",
       "    </tr>\n",
       "    <tr>\n",
       "      <th>2</th>\n",
       "      <td>5.355532</td>\n",
       "      <td>7.137013</td>\n",
       "      <td>3</td>\n",
       "    </tr>\n",
       "    <tr>\n",
       "      <th>3</th>\n",
       "      <td>-2.495056</td>\n",
       "      <td>6.219972</td>\n",
       "      <td>2</td>\n",
       "    </tr>\n",
       "    <tr>\n",
       "      <th>4</th>\n",
       "      <td>-3.324942</td>\n",
       "      <td>6.016593</td>\n",
       "      <td>3</td>\n",
       "    </tr>\n",
       "  </tbody>\n",
       "</table>\n",
       "</div>"
      ],
      "text/plain": [
       "          X         Y  label\n",
       "0  4.318488  3.567984      0\n",
       "1 -2.933778  4.082364      0\n",
       "2  5.355532  7.137013      3\n",
       "3 -2.495056  6.219972      2\n",
       "4 -3.324942  6.016593      3"
      ]
     },
     "execution_count": 52,
     "metadata": {},
     "output_type": "execute_result"
    }
   ],
   "source": [
    "from umap import UMAP\n",
    "from sklearn.preprocessing import MinMaxScaler\n",
    "\n",
    "# Scale features to [0,1] range\n",
    "X_scaled = MinMaxScaler().fit_transform(X_train)\n",
    "# Initialize and fit UMAP\n",
    "mapper = UMAP(n_components=2, metric=\"cosine\").fit(X_scaled)\n",
    "# Create a DataFrame of 2D embeddings\n",
    "df_emb = pd.DataFrame(mapper.embedding_, columns=[\"X\", \"Y\"])\n",
    "df_emb[\"label\"] = y_train\n",
    "df_emb.head()"
   ]
  },
  {
   "cell_type": "markdown",
   "metadata": {},
   "source": [
    "The result is an array with the same number of training samples, but with only 2 features instead of the 768 we started with! Let's investigate the compressed data a little bit further and plot the density of points for each category separately:"
   ]
  },
  {
   "cell_type": "code",
   "execution_count": 53,
   "metadata": {},
   "outputs": [
    {
     "data": {
      "image/png": "[encoded data removed]",
      "text/plain": [
       "<Figure size 700x500 with 6 Axes>"
      ]
     },
     "metadata": {},
     "output_type": "display_data"
    }
   ],
   "source": [
    "fig, axes = plt.subplots(2, 3, figsize=(7,5))\n",
    "axes = axes.flatten()\n",
    "cmaps = [\"Greys\", \"Blues\", \"Oranges\", \"Reds\", \"Purples\", \"Greens\"]\n",
    "labels = emotions[\"train\"].features[\"label\"].names\n",
    "\n",
    "for i, (label, cmap) in enumerate(zip(labels, cmaps)):\n",
    "    df_emb_sub = df_emb.query(f\"label == {i}\")\n",
    "    axes[i].hexbin(df_emb_sub[\"X\"], df_emb_sub[\"Y\"], cmap=cmap,\n",
    "                   gridsize=20, linewidths=(0,))\n",
    "    axes[i].set_title(label)\n",
    "    axes[i].set_xticks([]), axes[i].set_yticks([])\n",
    "\n",
    "plt.tight_layout()\n",
    "plt.show()"
   ]
  },
  {
   "cell_type": "markdown",
   "metadata": {},
   "source": [
    "\n",
    ">note: These are only projections onto a lower-dimensional space. Just because some categories overlap does not mean that they are not separable in the original space. Conversely, if they are separable in the projected space they will be separable in the original space.\n",
    "\n",
    "From this plot we can see some clear patterns: the negative feelings such as `sadness`, `anger`, and `fear` all occupy similar regions with slightly varying distributions. On the other hand, `joy` and `love` are well separated from the negative emotions and also share a similar space. Finally, `surprise` is scattered all over the place. Although we may have hoped for some separation, this is in no way guaranteed since the model was not trained to know the difference between these emotions. It only learned them implicitly by guessing the masked words in texts.\n",
    "\n",
    "Now that we've gained some insight into the features of our dataset, let's finally train a model on it!"
   ]
  },
  {
   "cell_type": "markdown",
   "metadata": {},
   "source": [
    "#### Training a simple classifier\n"
   ]
  },
  {
   "cell_type": "markdown",
   "metadata": {},
   "source": [
    "We've seen that the hidden states are somewhat different between the emotions, although for several of them there is no obvious boundary. Let's use these hidden states to train a logistic regression model with Scikit-Learn. Training such a simple model is fast and does not require a GPU:"
   ]
  },
  {
   "cell_type": "code",
   "execution_count": 54,
   "metadata": {},
   "outputs": [
    {
     "data": {
      "text/html": [
       "<style>#sk-container-id-1 {\n",
       "  /* Definition of color scheme common for light and dark mode */\n",
       "  --sklearn-color-text: #000;\n",
       "  --sklearn-color-text-muted: #666;\n",
       "  --sklearn-color-line: gray;\n",
       "  /* Definition of color scheme for unfitted estimators */\n",
       "  --sklearn-color-unfitted-level-0: #fff5e6;\n",
       "  --sklearn-color-unfitted-level-1: #f6e4d2;\n",
       "  --sklearn-color-unfitted-level-2: #ffe0b3;\n",
       "  --sklearn-color-unfitted-level-3: chocolate;\n",
       "  /* Definition of color scheme for fitted estimators */\n",
       "  --sklearn-color-fitted-level-0: #f0f8ff;\n",
       "  --sklearn-color-fitted-level-1: #d4ebff;\n",
       "  --sklearn-color-fitted-level-2: #b3dbfd;\n",
       "  --sklearn-color-fitted-level-3: cornflowerblue;\n",
       "\n",
       "  /* Specific color for light theme */\n",
       "  --sklearn-color-text-on-default-background: var(--sg-text-color, var(--theme-code-foreground, var(--jp-content-font-color1, black)));\n",
       "  --sklearn-color-background: var(--sg-background-color, var(--theme-background, var(--jp-layout-color0, white)));\n",
       "  --sklearn-color-border-box: var(--sg-text-color, var(--theme-code-foreground, var(--jp-content-font-color1, black)));\n",
       "  --sklearn-color-icon: #696969;\n",
       "\n",
       "  @media (prefers-color-scheme: dark) {\n",
       "    /* Redefinition of color scheme for dark theme */\n",
       "    --sklearn-color-text-on-default-background: var(--sg-text-color, var(--theme-code-foreground, var(--jp-content-font-color1, white)));\n",
       "    --sklearn-color-background: var(--sg-background-color, var(--theme-background, var(--jp-layout-color0, #111)));\n",
       "    --sklearn-color-border-box: var(--sg-text-color, var(--theme-code-foreground, var(--jp-content-font-color1, white)));\n",
       "    --sklearn-color-icon: #878787;\n",
       "  }\n",
       "}\n",
       "\n",
       "#sk-container-id-1 {\n",
       "  color: var(--sklearn-color-text);\n",
       "}\n",
       "\n",
       "#sk-container-id-1 pre {\n",
       "  padding: 0;\n",
       "}\n",
       "\n",
       "#sk-container-id-1 input.sk-hidden--visually {\n",
       "  border: 0;\n",
       "  clip: rect(1px 1px 1px 1px);\n",
       "  clip: rect(1px, 1px, 1px, 1px);\n",
       "  height: 1px;\n",
       "  margin: -1px;\n",
       "  overflow: hidden;\n",
       "  padding: 0;\n",
       "  position: absolute;\n",
       "  width: 1px;\n",
       "}\n",
       "\n",
       "#sk-container-id-1 div.sk-dashed-wrapped {\n",
       "  border: 1px dashed var(--sklearn-color-line);\n",
       "  margin: 0 0.4em 0.5em 0.4em;\n",
       "  box-sizing: border-box;\n",
       "  padding-bottom: 0.4em;\n",
       "  background-color: var(--sklearn-color-background);\n",
       "}\n",
       "\n",
       "#sk-container-id-1 div.sk-container {\n",
       "  /* jupyter's `normalize.less` sets `[hidden] { display: none; }`\n",
       "     but bootstrap.min.css set `[hidden] { display: none !important; }`\n",
       "     so we also need the `!important` here to be able to override the\n",
       "     default hidden behavior on the sphinx rendered scikit-learn.org.\n",
       "     See: https://github.com/scikit-learn/scikit-learn/issues/21755 */\n",
       "  display: inline-block !important;\n",
       "  position: relative;\n",
       "}\n",
       "\n",
       "#sk-container-id-1 div.sk-text-repr-fallback {\n",
       "  display: none;\n",
       "}\n",
       "\n",
       "div.sk-parallel-item,\n",
       "div.sk-serial,\n",
       "div.sk-item {\n",
       "  /* draw centered vertical line to link estimators */\n",
       "  background-image: linear-gradient(var(--sklearn-color-text-on-default-background), var(--sklearn-color-text-on-default-background));\n",
       "  background-size: 2px 100%;\n",
       "  background-repeat: no-repeat;\n",
       "  background-position: center center;\n",
       "}\n",
       "\n",
       "/* Parallel-specific style estimator block */\n",
       "\n",
       "#sk-container-id-1 div.sk-parallel-item::after {\n",
       "  content: \"\";\n",
       "  width: 100%;\n",
       "  border-bottom: 2px solid var(--sklearn-color-text-on-default-background);\n",
       "  flex-grow: 1;\n",
       "}\n",
       "\n",
       "#sk-container-id-1 div.sk-parallel {\n",
       "  display: flex;\n",
       "  align-items: stretch;\n",
       "  justify-content: center;\n",
       "  background-color: var(--sklearn-color-background);\n",
       "  position: relative;\n",
       "}\n",
       "\n",
       "#sk-container-id-1 div.sk-parallel-item {\n",
       "  display: flex;\n",
       "  flex-direction: column;\n",
       "}\n",
       "\n",
       "#sk-container-id-1 div.sk-parallel-item:first-child::after {\n",
       "  align-self: flex-end;\n",
       "  width: 50%;\n",
       "}\n",
       "\n",
       "#sk-container-id-1 div.sk-parallel-item:last-child::after {\n",
       "  align-self: flex-start;\n",
       "  width: 50%;\n",
       "}\n",
       "\n",
       "#sk-container-id-1 div.sk-parallel-item:only-child::after {\n",
       "  width: 0;\n",
       "}\n",
       "\n",
       "/* Serial-specific style estimator block */\n",
       "\n",
       "#sk-container-id-1 div.sk-serial {\n",
       "  display: flex;\n",
       "  flex-direction: column;\n",
       "  align-items: center;\n",
       "  background-color: var(--sklearn-color-background);\n",
       "  padding-right: 1em;\n",
       "  padding-left: 1em;\n",
       "}\n",
       "\n",
       "\n",
       "/* Toggleable style: style used for estimator/Pipeline/ColumnTransformer box that is\n",
       "clickable and can be expanded/collapsed.\n",
       "- Pipeline and ColumnTransformer use this feature and define the default style\n",
       "- Estimators will overwrite some part of the style using the `sk-estimator` class\n",
       "*/\n",
       "\n",
       "/* Pipeline and ColumnTransformer style (default) */\n",
       "\n",
       "#sk-container-id-1 div.sk-toggleable {\n",
       "  /* Default theme specific background. It is overwritten whether we have a\n",
       "  specific estimator or a Pipeline/ColumnTransformer */\n",
       "  background-color: var(--sklearn-color-background);\n",
       "}\n",
       "\n",
       "/* Toggleable label */\n",
       "#sk-container-id-1 label.sk-toggleable__label {\n",
       "  cursor: pointer;\n",
       "  display: flex;\n",
       "  width: 100%;\n",
       "  margin-bottom: 0;\n",
       "  padding: 0.5em;\n",
       "  box-sizing: border-box;\n",
       "  text-align: center;\n",
       "  align-items: start;\n",
       "  justify-content: space-between;\n",
       "  gap: 0.5em;\n",
       "}\n",
       "\n",
       "#sk-container-id-1 label.sk-toggleable__label .caption {\n",
       "  font-size: 0.6rem;\n",
       "  font-weight: lighter;\n",
       "  color: var(--sklearn-color-text-muted);\n",
       "}\n",
       "\n",
       "#sk-container-id-1 label.sk-toggleable__label-arrow:before {\n",
       "  /* Arrow on the left of the label */\n",
       "  content: \"▸\";\n",
       "  float: left;\n",
       "  margin-right: 0.25em;\n",
       "  color: var(--sklearn-color-icon);\n",
       "}\n",
       "\n",
       "#sk-container-id-1 label.sk-toggleable__label-arrow:hover:before {\n",
       "  color: var(--sklearn-color-text);\n",
       "}\n",
       "\n",
       "/* Toggleable content - dropdown */\n",
       "\n",
       "#sk-container-id-1 div.sk-toggleable__content {\n",
       "  display: none;\n",
       "  text-align: left;\n",
       "  /* unfitted */\n",
       "  background-color: var(--sklearn-color-unfitted-level-0);\n",
       "}\n",
       "\n",
       "#sk-container-id-1 div.sk-toggleable__content.fitted {\n",
       "  /* fitted */\n",
       "  background-color: var(--sklearn-color-fitted-level-0);\n",
       "}\n",
       "\n",
       "#sk-container-id-1 div.sk-toggleable__content pre {\n",
       "  margin: 0.2em;\n",
       "  border-radius: 0.25em;\n",
       "  color: var(--sklearn-color-text);\n",
       "  /* unfitted */\n",
       "  background-color: var(--sklearn-color-unfitted-level-0);\n",
       "}\n",
       "\n",
       "#sk-container-id-1 div.sk-toggleable__content.fitted pre {\n",
       "  /* unfitted */\n",
       "  background-color: var(--sklearn-color-fitted-level-0);\n",
       "}\n",
       "\n",
       "#sk-container-id-1 input.sk-toggleable__control:checked~div.sk-toggleable__content {\n",
       "  /* Expand drop-down */\n",
       "  display: block;\n",
       "  width: 100%;\n",
       "  overflow: visible;\n",
       "}\n",
       "\n",
       "#sk-container-id-1 input.sk-toggleable__control:checked~label.sk-toggleable__label-arrow:before {\n",
       "  content: \"▾\";\n",
       "}\n",
       "\n",
       "/* Pipeline/ColumnTransformer-specific style */\n",
       "\n",
       "#sk-container-id-1 div.sk-label input.sk-toggleable__control:checked~label.sk-toggleable__label {\n",
       "  color: var(--sklearn-color-text);\n",
       "  background-color: var(--sklearn-color-unfitted-level-2);\n",
       "}\n",
       "\n",
       "#sk-container-id-1 div.sk-label.fitted input.sk-toggleable__control:checked~label.sk-toggleable__label {\n",
       "  background-color: var(--sklearn-color-fitted-level-2);\n",
       "}\n",
       "\n",
       "/* Estimator-specific style */\n",
       "\n",
       "/* Colorize estimator box */\n",
       "#sk-container-id-1 div.sk-estimator input.sk-toggleable__control:checked~label.sk-toggleable__label {\n",
       "  /* unfitted */\n",
       "  background-color: var(--sklearn-color-unfitted-level-2);\n",
       "}\n",
       "\n",
       "#sk-container-id-1 div.sk-estimator.fitted input.sk-toggleable__control:checked~label.sk-toggleable__label {\n",
       "  /* fitted */\n",
       "  background-color: var(--sklearn-color-fitted-level-2);\n",
       "}\n",
       "\n",
       "#sk-container-id-1 div.sk-label label.sk-toggleable__label,\n",
       "#sk-container-id-1 div.sk-label label {\n",
       "  /* The background is the default theme color */\n",
       "  color: var(--sklearn-color-text-on-default-background);\n",
       "}\n",
       "\n",
       "/* On hover, darken the color of the background */\n",
       "#sk-container-id-1 div.sk-label:hover label.sk-toggleable__label {\n",
       "  color: var(--sklearn-color-text);\n",
       "  background-color: var(--sklearn-color-unfitted-level-2);\n",
       "}\n",
       "\n",
       "/* Label box, darken color on hover, fitted */\n",
       "#sk-container-id-1 div.sk-label.fitted:hover label.sk-toggleable__label.fitted {\n",
       "  color: var(--sklearn-color-text);\n",
       "  background-color: var(--sklearn-color-fitted-level-2);\n",
       "}\n",
       "\n",
       "/* Estimator label */\n",
       "\n",
       "#sk-container-id-1 div.sk-label label {\n",
       "  font-family: monospace;\n",
       "  font-weight: bold;\n",
       "  display: inline-block;\n",
       "  line-height: 1.2em;\n",
       "}\n",
       "\n",
       "#sk-container-id-1 div.sk-label-container {\n",
       "  text-align: center;\n",
       "}\n",
       "\n",
       "/* Estimator-specific */\n",
       "#sk-container-id-1 div.sk-estimator {\n",
       "  font-family: monospace;\n",
       "  border: 1px dotted var(--sklearn-color-border-box);\n",
       "  border-radius: 0.25em;\n",
       "  box-sizing: border-box;\n",
       "  margin-bottom: 0.5em;\n",
       "  /* unfitted */\n",
       "  background-color: var(--sklearn-color-unfitted-level-0);\n",
       "}\n",
       "\n",
       "#sk-container-id-1 div.sk-estimator.fitted {\n",
       "  /* fitted */\n",
       "  background-color: var(--sklearn-color-fitted-level-0);\n",
       "}\n",
       "\n",
       "/* on hover */\n",
       "#sk-container-id-1 div.sk-estimator:hover {\n",
       "  /* unfitted */\n",
       "  background-color: var(--sklearn-color-unfitted-level-2);\n",
       "}\n",
       "\n",
       "#sk-container-id-1 div.sk-estimator.fitted:hover {\n",
       "  /* fitted */\n",
       "  background-color: var(--sklearn-color-fitted-level-2);\n",
       "}\n",
       "\n",
       "/* Specification for estimator info (e.g. \"i\" and \"?\") */\n",
       "\n",
       "/* Common style for \"i\" and \"?\" */\n",
       "\n",
       ".sk-estimator-doc-link,\n",
       "a:link.sk-estimator-doc-link,\n",
       "a:visited.sk-estimator-doc-link {\n",
       "  float: right;\n",
       "  font-size: smaller;\n",
       "  line-height: 1em;\n",
       "  font-family: monospace;\n",
       "  background-color: var(--sklearn-color-background);\n",
       "  border-radius: 1em;\n",
       "  height: 1em;\n",
       "  width: 1em;\n",
       "  text-decoration: none !important;\n",
       "  margin-left: 0.5em;\n",
       "  text-align: center;\n",
       "  /* unfitted */\n",
       "  border: var(--sklearn-color-unfitted-level-1) 1pt solid;\n",
       "  color: var(--sklearn-color-unfitted-level-1);\n",
       "}\n",
       "\n",
       ".sk-estimator-doc-link.fitted,\n",
       "a:link.sk-estimator-doc-link.fitted,\n",
       "a:visited.sk-estimator-doc-link.fitted {\n",
       "  /* fitted */\n",
       "  border: var(--sklearn-color-fitted-level-1) 1pt solid;\n",
       "  color: var(--sklearn-color-fitted-level-1);\n",
       "}\n",
       "\n",
       "/* On hover */\n",
       "div.sk-estimator:hover .sk-estimator-doc-link:hover,\n",
       ".sk-estimator-doc-link:hover,\n",
       "div.sk-label-container:hover .sk-estimator-doc-link:hover,\n",
       ".sk-estimator-doc-link:hover {\n",
       "  /* unfitted */\n",
       "  background-color: var(--sklearn-color-unfitted-level-3);\n",
       "  color: var(--sklearn-color-background);\n",
       "  text-decoration: none;\n",
       "}\n",
       "\n",
       "div.sk-estimator.fitted:hover .sk-estimator-doc-link.fitted:hover,\n",
       ".sk-estimator-doc-link.fitted:hover,\n",
       "div.sk-label-container:hover .sk-estimator-doc-link.fitted:hover,\n",
       ".sk-estimator-doc-link.fitted:hover {\n",
       "  /* fitted */\n",
       "  background-color: var(--sklearn-color-fitted-level-3);\n",
       "  color: var(--sklearn-color-background);\n",
       "  text-decoration: none;\n",
       "}\n",
       "\n",
       "/* Span, style for the box shown on hovering the info icon */\n",
       ".sk-estimator-doc-link span {\n",
       "  display: none;\n",
       "  z-index: 9999;\n",
       "  position: relative;\n",
       "  font-weight: normal;\n",
       "  right: .2ex;\n",
       "  padding: .5ex;\n",
       "  margin: .5ex;\n",
       "  width: min-content;\n",
       "  min-width: 20ex;\n",
       "  max-width: 50ex;\n",
       "  color: var(--sklearn-color-text);\n",
       "  box-shadow: 2pt 2pt 4pt #999;\n",
       "  /* unfitted */\n",
       "  background: var(--sklearn-color-unfitted-level-0);\n",
       "  border: .5pt solid var(--sklearn-color-unfitted-level-3);\n",
       "}\n",
       "\n",
       ".sk-estimator-doc-link.fitted span {\n",
       "  /* fitted */\n",
       "  background: var(--sklearn-color-fitted-level-0);\n",
       "  border: var(--sklearn-color-fitted-level-3);\n",
       "}\n",
       "\n",
       ".sk-estimator-doc-link:hover span {\n",
       "  display: block;\n",
       "}\n",
       "\n",
       "/* \"?\"-specific style due to the `<a>` HTML tag */\n",
       "\n",
       "#sk-container-id-1 a.estimator_doc_link {\n",
       "  float: right;\n",
       "  font-size: 1rem;\n",
       "  line-height: 1em;\n",
       "  font-family: monospace;\n",
       "  background-color: var(--sklearn-color-background);\n",
       "  border-radius: 1rem;\n",
       "  height: 1rem;\n",
       "  width: 1rem;\n",
       "  text-decoration: none;\n",
       "  /* unfitted */\n",
       "  color: var(--sklearn-color-unfitted-level-1);\n",
       "  border: var(--sklearn-color-unfitted-level-1) 1pt solid;\n",
       "}\n",
       "\n",
       "#sk-container-id-1 a.estimator_doc_link.fitted {\n",
       "  /* fitted */\n",
       "  border: var(--sklearn-color-fitted-level-1) 1pt solid;\n",
       "  color: var(--sklearn-color-fitted-level-1);\n",
       "}\n",
       "\n",
       "/* On hover */\n",
       "#sk-container-id-1 a.estimator_doc_link:hover {\n",
       "  /* unfitted */\n",
       "  background-color: var(--sklearn-color-unfitted-level-3);\n",
       "  color: var(--sklearn-color-background);\n",
       "  text-decoration: none;\n",
       "}\n",
       "\n",
       "#sk-container-id-1 a.estimator_doc_link.fitted:hover {\n",
       "  /* fitted */\n",
       "  background-color: var(--sklearn-color-fitted-level-3);\n",
       "}\n",
       "\n",
       ".estimator-table summary {\n",
       "    padding: .5rem;\n",
       "    font-family: monospace;\n",
       "    cursor: pointer;\n",
       "}\n",
       "\n",
       ".estimator-table details[open] {\n",
       "    padding-left: 0.1rem;\n",
       "    padding-right: 0.1rem;\n",
       "    padding-bottom: 0.3rem;\n",
       "}\n",
       "\n",
       ".estimator-table .parameters-table {\n",
       "    margin-left: auto !important;\n",
       "    margin-right: auto !important;\n",
       "}\n",
       "\n",
       ".estimator-table .parameters-table tr:nth-child(odd) {\n",
       "    background-color: #fff;\n",
       "}\n",
       "\n",
       ".estimator-table .parameters-table tr:nth-child(even) {\n",
       "    background-color: #f6f6f6;\n",
       "}\n",
       "\n",
       ".estimator-table .parameters-table tr:hover {\n",
       "    background-color: #e0e0e0;\n",
       "}\n",
       "\n",
       ".estimator-table table td {\n",
       "    border: 1px solid rgba(106, 105, 104, 0.232);\n",
       "}\n",
       "\n",
       ".user-set td {\n",
       "    color:rgb(255, 94, 0);\n",
       "    text-align: left;\n",
       "}\n",
       "\n",
       ".user-set td.value pre {\n",
       "    color:rgb(255, 94, 0) !important;\n",
       "    background-color: transparent !important;\n",
       "}\n",
       "\n",
       ".default td {\n",
       "    color: black;\n",
       "    text-align: left;\n",
       "}\n",
       "\n",
       ".user-set td i,\n",
       ".default td i {\n",
       "    color: black;\n",
       "}\n",
       "\n",
       ".copy-paste-icon {\n",
       "    background-image: url(data:image/svg+xml;base64,PHN2ZyB4bWxucz0iaHR0cDovL3d3dy53My5vcmcvMjAwMC9zdmciIHZpZXdCb3g9IjAgMCA0NDggNTEyIj48IS0tIUZvbnQgQXdlc29tZSBGcmVlIDYuNy4yIGJ5IEBmb250YXdlc29tZSAtIGh0dHBzOi8vZm9udGF3ZXNvbWUuY29tIExpY2Vuc2UgLSBodHRwczovL2ZvbnRhd2Vzb21lLmNvbS9saWNlbnNlL2ZyZWUgQ29weXJpZ2h0IDIwMjUgRm9udGljb25zLCBJbmMuLS0+PHBhdGggZD0iTTIwOCAwTDMzMi4xIDBjMTIuNyAwIDI0LjkgNS4xIDMzLjkgMTQuMWw2Ny45IDY3LjljOSA5IDE0LjEgMjEuMiAxNC4xIDMzLjlMNDQ4IDMzNmMwIDI2LjUtMjEuNSA0OC00OCA0OGwtMTkyIDBjLTI2LjUgMC00OC0yMS41LTQ4LTQ4bDAtMjg4YzAtMjYuNSAyMS41LTQ4IDQ4LTQ4ek00OCAxMjhsODAgMCAwIDY0LTY0IDAgMCAyNTYgMTkyIDAgMC0zMiA2NCAwIDAgNDhjMCAyNi41LTIxLjUgNDgtNDggNDhMNDggNTEyYy0yNi41IDAtNDgtMjEuNS00OC00OEwwIDE3NmMwLTI2LjUgMjEuNS00OCA0OC00OHoiLz48L3N2Zz4=);\n",
       "    background-repeat: no-repeat;\n",
       "    background-size: 14px 14px;\n",
       "    background-position: 0;\n",
       "    display: inline-block;\n",
       "    width: 14px;\n",
       "    height: 14px;\n",
       "    cursor: pointer;\n",
       "}\n",
       "</style><body><div id=\"sk-container-id-1\" class=\"sk-top-container\"><div class=\"sk-text-repr-fallback\"><pre>LogisticRegression(max_iter=3000)</pre><b>In a Jupyter environment, please rerun this cell to show the HTML representation or trust the notebook. <br />On GitHub, the HTML representation is unable to render, please try loading this page with nbviewer.org.</b></div><div class=\"sk-container\" hidden><div class=\"sk-item\"><div class=\"sk-estimator fitted sk-toggleable\"><input class=\"sk-toggleable__control sk-hidden--visually\" id=\"sk-estimator-id-1\" type=\"checkbox\" checked><label for=\"sk-estimator-id-1\" class=\"sk-toggleable__label fitted sk-toggleable__label-arrow\"><div><div>LogisticRegression</div></div><div><a class=\"sk-estimator-doc-link fitted\" rel=\"noreferrer\" target=\"_blank\" href=\"https://scikit-learn.org/1.7/modules/generated/sklearn.linear_model.LogisticRegression.html\">?<span>Documentation for LogisticRegression</span></a><span class=\"sk-estimator-doc-link fitted\">i<span>Fitted</span></span></div></label><div class=\"sk-toggleable__content fitted\" data-param-prefix=\"\">\n",
       "        <div class=\"estimator-table\">\n",
       "            <details>\n",
       "                <summary>Parameters</summary>\n",
       "                <table class=\"parameters-table\">\n",
       "                  <tbody>\n",
       "                    \n",
       "        <tr class=\"default\">\n",
       "            <td><i class=\"copy-paste-icon\"\n",
       "                 onclick=\"copyToClipboard('penalty',\n",
       "                          this.parentElement.nextElementSibling)\"\n",
       "            ></i></td>\n",
       "            <td class=\"param\">penalty&nbsp;</td>\n",
       "            <td class=\"value\">&#x27;l2&#x27;</td>\n",
       "        </tr>\n",
       "    \n",
       "\n",
       "        <tr class=\"default\">\n",
       "            <td><i class=\"copy-paste-icon\"\n",
       "                 onclick=\"copyToClipboard('dual',\n",
       "                          this.parentElement.nextElementSibling)\"\n",
       "            ></i></td>\n",
       "            <td class=\"param\">dual&nbsp;</td>\n",
       "            <td class=\"value\">False</td>\n",
       "        </tr>\n",
       "    \n",
       "\n",
       "        <tr class=\"default\">\n",
       "            <td><i class=\"copy-paste-icon\"\n",
       "                 onclick=\"copyToClipboard('tol',\n",
       "                          this.parentElement.nextElementSibling)\"\n",
       "            ></i></td>\n",
       "            <td class=\"param\">tol&nbsp;</td>\n",
       "            <td class=\"value\">0.0001</td>\n",
       "        </tr>\n",
       "    \n",
       "\n",
       "        <tr class=\"default\">\n",
       "            <td><i class=\"copy-paste-icon\"\n",
       "                 onclick=\"copyToClipboard('C',\n",
       "                          this.parentElement.nextElementSibling)\"\n",
       "            ></i></td>\n",
       "            <td class=\"param\">C&nbsp;</td>\n",
       "            <td class=\"value\">1.0</td>\n",
       "        </tr>\n",
       "    \n",
       "\n",
       "        <tr class=\"default\">\n",
       "            <td><i class=\"copy-paste-icon\"\n",
       "                 onclick=\"copyToClipboard('fit_intercept',\n",
       "                          this.parentElement.nextElementSibling)\"\n",
       "            ></i></td>\n",
       "            <td class=\"param\">fit_intercept&nbsp;</td>\n",
       "            <td class=\"value\">True</td>\n",
       "        </tr>\n",
       "    \n",
       "\n",
       "        <tr class=\"default\">\n",
       "            <td><i class=\"copy-paste-icon\"\n",
       "                 onclick=\"copyToClipboard('intercept_scaling',\n",
       "                          this.parentElement.nextElementSibling)\"\n",
       "            ></i></td>\n",
       "            <td class=\"param\">intercept_scaling&nbsp;</td>\n",
       "            <td class=\"value\">1</td>\n",
       "        </tr>\n",
       "    \n",
       "\n",
       "        <tr class=\"default\">\n",
       "            <td><i class=\"copy-paste-icon\"\n",
       "                 onclick=\"copyToClipboard('class_weight',\n",
       "                          this.parentElement.nextElementSibling)\"\n",
       "            ></i></td>\n",
       "            <td class=\"param\">class_weight&nbsp;</td>\n",
       "            <td class=\"value\">None</td>\n",
       "        </tr>\n",
       "    \n",
       "\n",
       "        <tr class=\"default\">\n",
       "            <td><i class=\"copy-paste-icon\"\n",
       "                 onclick=\"copyToClipboard('random_state',\n",
       "                          this.parentElement.nextElementSibling)\"\n",
       "            ></i></td>\n",
       "            <td class=\"param\">random_state&nbsp;</td>\n",
       "            <td class=\"value\">None</td>\n",
       "        </tr>\n",
       "    \n",
       "\n",
       "        <tr class=\"default\">\n",
       "            <td><i class=\"copy-paste-icon\"\n",
       "                 onclick=\"copyToClipboard('solver',\n",
       "                          this.parentElement.nextElementSibling)\"\n",
       "            ></i></td>\n",
       "            <td class=\"param\">solver&nbsp;</td>\n",
       "            <td class=\"value\">&#x27;lbfgs&#x27;</td>\n",
       "        </tr>\n",
       "    \n",
       "\n",
       "        <tr class=\"user-set\">\n",
       "            <td><i class=\"copy-paste-icon\"\n",
       "                 onclick=\"copyToClipboard('max_iter',\n",
       "                          this.parentElement.nextElementSibling)\"\n",
       "            ></i></td>\n",
       "            <td class=\"param\">max_iter&nbsp;</td>\n",
       "            <td class=\"value\">3000</td>\n",
       "        </tr>\n",
       "    \n",
       "\n",
       "        <tr class=\"default\">\n",
       "            <td><i class=\"copy-paste-icon\"\n",
       "                 onclick=\"copyToClipboard('multi_class',\n",
       "                          this.parentElement.nextElementSibling)\"\n",
       "            ></i></td>\n",
       "            <td class=\"param\">multi_class&nbsp;</td>\n",
       "            <td class=\"value\">&#x27;deprecated&#x27;</td>\n",
       "        </tr>\n",
       "    \n",
       "\n",
       "        <tr class=\"default\">\n",
       "            <td><i class=\"copy-paste-icon\"\n",
       "                 onclick=\"copyToClipboard('verbose',\n",
       "                          this.parentElement.nextElementSibling)\"\n",
       "            ></i></td>\n",
       "            <td class=\"param\">verbose&nbsp;</td>\n",
       "            <td class=\"value\">0</td>\n",
       "        </tr>\n",
       "    \n",
       "\n",
       "        <tr class=\"default\">\n",
       "            <td><i class=\"copy-paste-icon\"\n",
       "                 onclick=\"copyToClipboard('warm_start',\n",
       "                          this.parentElement.nextElementSibling)\"\n",
       "            ></i></td>\n",
       "            <td class=\"param\">warm_start&nbsp;</td>\n",
       "            <td class=\"value\">False</td>\n",
       "        </tr>\n",
       "    \n",
       "\n",
       "        <tr class=\"default\">\n",
       "            <td><i class=\"copy-paste-icon\"\n",
       "                 onclick=\"copyToClipboard('n_jobs',\n",
       "                          this.parentElement.nextElementSibling)\"\n",
       "            ></i></td>\n",
       "            <td class=\"param\">n_jobs&nbsp;</td>\n",
       "            <td class=\"value\">None</td>\n",
       "        </tr>\n",
       "    \n",
       "\n",
       "        <tr class=\"default\">\n",
       "            <td><i class=\"copy-paste-icon\"\n",
       "                 onclick=\"copyToClipboard('l1_ratio',\n",
       "                          this.parentElement.nextElementSibling)\"\n",
       "            ></i></td>\n",
       "            <td class=\"param\">l1_ratio&nbsp;</td>\n",
       "            <td class=\"value\">None</td>\n",
       "        </tr>\n",
       "    \n",
       "                  </tbody>\n",
       "                </table>\n",
       "            </details>\n",
       "        </div>\n",
       "    </div></div></div></div></div><script>function copyToClipboard(text, element) {\n",
       "    // Get the parameter prefix from the closest toggleable content\n",
       "    const toggleableContent = element.closest('.sk-toggleable__content');\n",
       "    const paramPrefix = toggleableContent ? toggleableContent.dataset.paramPrefix : '';\n",
       "    const fullParamName = paramPrefix ? `${paramPrefix}${text}` : text;\n",
       "\n",
       "    const originalStyle = element.style;\n",
       "    const computedStyle = window.getComputedStyle(element);\n",
       "    const originalWidth = computedStyle.width;\n",
       "    const originalHTML = element.innerHTML.replace('Copied!', '');\n",
       "\n",
       "    navigator.clipboard.writeText(fullParamName)\n",
       "        .then(() => {\n",
       "            element.style.width = originalWidth;\n",
       "            element.style.color = 'green';\n",
       "            element.innerHTML = \"Copied!\";\n",
       "\n",
       "            setTimeout(() => {\n",
       "                element.innerHTML = originalHTML;\n",
       "                element.style = originalStyle;\n",
       "            }, 2000);\n",
       "        })\n",
       "        .catch(err => {\n",
       "            console.error('Failed to copy:', err);\n",
       "            element.style.color = 'red';\n",
       "            element.innerHTML = \"Failed!\";\n",
       "            setTimeout(() => {\n",
       "                element.innerHTML = originalHTML;\n",
       "                element.style = originalStyle;\n",
       "            }, 2000);\n",
       "        });\n",
       "    return false;\n",
       "}\n",
       "\n",
       "document.querySelectorAll('.fa-regular.fa-copy').forEach(function(element) {\n",
       "    const toggleableContent = element.closest('.sk-toggleable__content');\n",
       "    const paramPrefix = toggleableContent ? toggleableContent.dataset.paramPrefix : '';\n",
       "    const paramName = element.parentElement.nextElementSibling.textContent.trim();\n",
       "    const fullParamName = paramPrefix ? `${paramPrefix}${paramName}` : paramName;\n",
       "\n",
       "    element.setAttribute('title', fullParamName);\n",
       "});\n",
       "</script></body>"
      ],
      "text/plain": [
       "LogisticRegression(max_iter=3000)"
      ]
     },
     "execution_count": 54,
     "metadata": {},
     "output_type": "execute_result"
    }
   ],
   "source": [
    "#hide_output\n",
    "# We increase `max_iter` to try to get convergence \n",
    "from sklearn.linear_model import LogisticRegression\n",
    "\n",
    "lr_clf = LogisticRegression(max_iter=3000)\n",
    "lr_clf.fit(X_train, y_train)"
   ]
  },
  {
   "cell_type": "code",
   "execution_count": 55,
   "metadata": {},
   "outputs": [
    {
     "data": {
      "text/plain": [
       "0.6335"
      ]
     },
     "execution_count": 55,
     "metadata": {},
     "output_type": "execute_result"
    }
   ],
   "source": [
    "lr_clf.score(X_valid, y_valid)"
   ]
  },
  {
   "cell_type": "markdown",
   "metadata": {},
   "source": [
    "Looking at the accuracy, it might appear that our model is just a bit better than random—but since we are dealing with an unbalanced multiclass dataset, it's actually significantly better. We can examine whether our model is any good by comparing it against a simple baseline. In Scikit-Learn there is a `DummyClassifier` that can be used to build a classifier with simple heuristics such as always choosing the majority class or always drawing a random class. In this case the best-performing heuristic is to always choose the most frequent class, which yields an accuracy of about 35%:"
   ]
  },
  {
   "cell_type": "code",
   "execution_count": 56,
   "metadata": {},
   "outputs": [
    {
     "data": {
      "text/plain": [
       "0.352"
      ]
     },
     "execution_count": 56,
     "metadata": {},
     "output_type": "execute_result"
    }
   ],
   "source": [
    "from sklearn.dummy import DummyClassifier\n",
    "\n",
    "dummy_clf = DummyClassifier(strategy=\"most_frequent\")\n",
    "dummy_clf.fit(X_train, y_train)\n",
    "dummy_clf.score(X_valid, y_valid)"
   ]
  },
  {
   "cell_type": "markdown",
   "metadata": {},
   "source": [
    "So, our simple classifier with DistilBERT embeddings is significantly better than our baseline. We can further investigate the performance of the model by looking at the confusion matrix of the classifier, which tells us the relationship between the true and predicted labels:"
   ]
  },
  {
   "cell_type": "code",
   "execution_count": 57,
   "metadata": {},
   "outputs": [
    {
     "data": {
      "image/png": "[encoded data removed]",
      "text/plain": [
       "<Figure size 600x600 with 1 Axes>"
      ]
     },
     "metadata": {},
     "output_type": "display_data"
    }
   ],
   "source": [
    "from sklearn.metrics import ConfusionMatrixDisplay, confusion_matrix\n",
    "\n",
    "def plot_confusion_matrix(y_preds, y_true, labels):\n",
    "    cm = confusion_matrix(y_true, y_preds, normalize=\"true\")\n",
    "    fig, ax = plt.subplots(figsize=(6, 6))\n",
    "    disp = ConfusionMatrixDisplay(confusion_matrix=cm, display_labels=labels)\n",
    "    disp.plot(cmap=\"Blues\", values_format=\".2f\", ax=ax, colorbar=False)\n",
    "    plt.title(\"Normalized confusion matrix\")\n",
    "    plt.show()\n",
    "    \n",
    "y_preds = lr_clf.predict(X_valid)\n",
    "plot_confusion_matrix(y_preds, y_valid, labels)"
   ]
  },
  {
   "cell_type": "markdown",
   "metadata": {},
   "source": [
    "We can see that `anger` and `fear` are most often confused with `sadness`, which agrees with the observation we made when visualizing the embeddings. Also, `love` and `surprise` are frequently mistaken for `joy`."
   ]
  },
  {
   "cell_type": "markdown",
   "metadata": {},
   "source": [
    "In the next section we will explore the fine-tuning approach, which leads to superior classification performance. It is, however, important to note that doing this requires more computational resources, such as GPUs, that might not be available in your organization. In cases like these, a feature-based approach can be a good compromise between doing traditional machine learning and deep learning."
   ]
  },
  {
   "cell_type": "markdown",
   "metadata": {},
   "source": [
    "### Fine-Tuning Transformers"
   ]
  },
  {
   "cell_type": "markdown",
   "metadata": {},
   "source": [
    "\n",
    "Let's now explore what it takes to fine-tune a transformer end-to-end. With the fine-tuning approach we do not use the hidden states as fixed features, but instead train them as shown in <<encoder-tuning>>. This requires the classification head to be differentiable, which is why this method usually uses a neural network for classification.\n",
    "\n",
    "<img alt=\"encoder-tuning\" caption=\"When using the fine-tuning approach the whole DistilBERT model is trained along with the classification head\" src=\"images/chapter02_encoder-fine-tuning.png\" id=\"encoder-tuning\"/>"
   ]
  },
  {
   "cell_type": "markdown",
   "metadata": {},
   "source": [
    "Training the hidden states that serve as inputs to the classification model will help us avoid the problem of working with data that may not be well suited for the classification task. Instead, the initial hidden states adapt during training to decrease the model loss and thus increase its performance.\n",
    "\n",
    "We'll be using the `Trainer` API from image:images/logo.png[hf,13,13] Transformers to simplify the training loop. Let's look at the ingredients we need to set one up!"
   ]
  },
  {
   "cell_type": "markdown",
   "metadata": {},
   "source": [
    "#### Loading a pretrained model"
   ]
  },
  {
   "cell_type": "markdown",
   "metadata": {},
   "source": [
    "The first thing we need is a pretrained DistilBERT model like the one we used in the feature-based approach. The only slight modification is that we use the `AutoModelForSequenceClassification` model instead of `AutoModel`. The difference is that the `AutoModelForSequenceClassification` model has a classification head on top of the pretrained model outputs, which can be easily trained with the base model. We just need to specify how many labels the model has to predict (six in our case), since this dictates the number of outputs the classification head has:"
   ]
  },
  {
   "cell_type": "code",
   "execution_count": 58,
   "metadata": {},
   "outputs": [],
   "source": [
    "# hide_output\n",
    "from transformers import AutoModelForSequenceClassification\n",
    "\n",
    "num_labels = 6\n",
    "model = (AutoModelForSequenceClassification\n",
    "         .from_pretrained(model_ckpt, num_labels=num_labels)\n",
    "         .to(device))"
   ]
  },
  {
   "cell_type": "markdown",
   "metadata": {},
   "source": [
    "You will see a warning that some parts of the model are randomly initialized. This is normal since the classification head has not yet been trained. The next step is to define the metrics that we'll use to evaluate our model's performance during fine-tuning."
   ]
  },
  {
   "cell_type": "markdown",
   "metadata": {},
   "source": [
    "#### Defining the performance metrics"
   ]
  },
  {
   "cell_type": "markdown",
   "metadata": {},
   "source": [
    "\n",
    "To monitor metrics during training, we need to define a `compute_metrics()` function for the `Trainer`.  This function receives an `EvalPrediction` object (which is a named tuple with `predictions` and `label_ids` attributes) and needs to return a dictionary that maps each metric's name to its value. For our application, we'll compute the $F_1$-score and the accuracy of the model as follows:"
   ]
  },
  {
   "cell_type": "code",
   "execution_count": 59,
   "metadata": {},
   "outputs": [],
   "source": [
    "from sklearn.metrics import accuracy_score, f1_score\n",
    "\n",
    "def compute_metrics(pred):\n",
    "    labels = pred.label_ids\n",
    "    preds = pred.predictions.argmax(-1)\n",
    "    f1 = f1_score(labels, preds, average=\"weighted\")\n",
    "    acc = accuracy_score(labels, preds)\n",
    "    return {\"accuracy\": acc, \"f1\": f1}"
   ]
  },
  {
   "cell_type": "markdown",
   "metadata": {},
   "source": [
    "With the dataset and metrics ready, we just have two final things to take care of before we define the `Trainer` class:\n",
    "\n",
    "1. Log in to our account on the Hugging Face Hub. This will allow us to push our fine-tuned model to our account on the Hub and share it with the community.\n",
    "2. Define all the hyperparameters for the training run.\n",
    "\n",
    "We'll tackle these steps in the next section."
   ]
  },
  {
   "cell_type": "markdown",
   "metadata": {},
   "source": [
    "#### Training the model"
   ]
  },
  {
   "cell_type": "markdown",
   "metadata": {},
   "source": [
    "If you're running this code in a Jupyter notebook, you can log in to the Hub with the following helper function:"
   ]
  },
  {
   "cell_type": "code",
   "execution_count": 62,
   "metadata": {},
   "outputs": [],
   "source": [
    "from transformers import Trainer, TrainingArguments\n",
    "\n",
    "batch_size = 64\n",
    "logging_steps = len(emotions_encoded[\"train\"]) // batch_size\n",
    "model_name = f\"{model_ckpt}-finetuned-emotion\"\n",
    "training_args = TrainingArguments(output_dir=model_name,\n",
    "                                  num_train_epochs=2,\n",
    "                                  learning_rate=2e-5,\n",
    "                                  per_device_train_batch_size=batch_size,\n",
    "                                  per_device_eval_batch_size=batch_size,\n",
    "                                  weight_decay=0.01,\n",
    "                                  eval_strategy=\"epoch\",\n",
    "                                  disable_tqdm=False,\n",
    "                                  logging_steps=logging_steps,\n",
    "                                  push_to_hub=True, \n",
    "                                  log_level=\"error\")"
   ]
  },
  {
   "cell_type": "markdown",
   "metadata": {},
   "source": [
    "Here we also set the batch size, learning rate, and number of epochs, and specify to load the best model at the end of the training run. With this final ingredient, we can instantiate and fine-tune our model with the `Trainer`: "
   ]
  },
  {
   "cell_type": "code",
   "execution_count": 65,
   "metadata": {},
   "outputs": [
    {
     "data": {
      "text/html": [
       "\n",
       "    <div>\n",
       "      \n",
       "      <progress value='500' max='500' style='width:300px; height:20px; vertical-align: middle;'></progress>\n",
       "      [500/500 00:21, Epoch 2/2]\n",
       "    </div>\n",
       "    <table border=\"1\" class=\"dataframe\">\n",
       "  <thead>\n",
       " <tr style=\"text-align: left;\">\n",
       "      <th>Epoch</th>\n",
       "      <th>Training Loss</th>\n",
       "      <th>Validation Loss</th>\n",
       "      <th>Accuracy</th>\n",
       "      <th>F1</th>\n",
       "    </tr>\n",
       "  </thead>\n",
       "  <tbody>\n",
       "    <tr>\n",
       "      <td>1</td>\n",
       "      <td>0.163600</td>\n",
       "      <td>0.158788</td>\n",
       "      <td>0.934500</td>\n",
       "      <td>0.934583</td>\n",
       "    </tr>\n",
       "    <tr>\n",
       "      <td>2</td>\n",
       "      <td>0.108800</td>\n",
       "      <td>0.143639</td>\n",
       "      <td>0.934500</td>\n",
       "      <td>0.934578</td>\n",
       "    </tr>\n",
       "  </tbody>\n",
       "</table><p>"
      ],
      "text/plain": [
       "<IPython.core.display.HTML object>"
      ]
     },
     "metadata": {},
     "output_type": "display_data"
    }
   ],
   "source": [
    "from transformers import Trainer\n",
    "\n",
    "trainer = Trainer(\n",
    "    model=model,\n",
    "    args=training_args,\n",
    "    compute_metrics=compute_metrics,\n",
    "    train_dataset=emotions_encoded[\"train\"],\n",
    "    eval_dataset=emotions_encoded[\"validation\"],\n",
    "    processing_class=tokenizer,   # ✅ future-proof\n",
    ")\n",
    "\n",
    "trainer.train();"
   ]
  },
  {
   "cell_type": "markdown",
   "metadata": {},
   "source": [
    "Looking at the logs, we can see that our model has an $F_1$-score on the validation set of around 92% - this is a significant improvement over the feature-based approach!\n",
    "\n",
    "We can take a more detailed look at the training metrics by calculating the confusion matrix. To visualize the confusion matrix, we first need to get the predictions on the validation set. The `predict()` method of the `Trainer` class returns several useful objects we can use for evaluation:"
   ]
  },
  {
   "cell_type": "code",
   "execution_count": 66,
   "metadata": {},
   "outputs": [
    {
     "data": {
      "text/html": [],
      "text/plain": [
       "<IPython.core.display.HTML object>"
      ]
     },
     "metadata": {},
     "output_type": "display_data"
    }
   ],
   "source": [
    "# hide_output\n",
    "preds_output = trainer.predict(emotions_encoded[\"validation\"])"
   ]
  },
  {
   "cell_type": "markdown",
   "metadata": {},
   "source": [
    "The output of the `predict()` method is a `PredictionOutput` object that contains arrays of `predictions` and `label_ids`, along with the metrics we passed to the trainer. For example, the metrics on the validation set can be accessed as follows:"
   ]
  },
  {
   "cell_type": "code",
   "execution_count": 67,
   "metadata": {},
   "outputs": [
    {
     "data": {
      "text/plain": [
       "{'test_loss': 0.1436385214328766,\n",
       " 'test_accuracy': 0.9345,\n",
       " 'test_f1': 0.934577614820323,\n",
       " 'test_runtime': 0.4666,\n",
       " 'test_samples_per_second': 4286.294,\n",
       " 'test_steps_per_second': 68.581}"
      ]
     },
     "execution_count": 67,
     "metadata": {},
     "output_type": "execute_result"
    }
   ],
   "source": [
    "preds_output.metrics"
   ]
  },
  {
   "cell_type": "markdown",
   "metadata": {},
   "source": [
    "It also contains the raw predictions for each class. We can decode the predictions greedily using `np.argmax()`. This yields the predicted labels and has the same format as the labels returned by the Scikit-Learn models in the feature-based approach:"
   ]
  },
  {
   "cell_type": "code",
   "execution_count": 68,
   "metadata": {},
   "outputs": [],
   "source": [
    "y_preds = np.argmax(preds_output.predictions, axis=1)"
   ]
  },
  {
   "cell_type": "markdown",
   "metadata": {},
   "source": [
    "With the predictions, we can plot the confusion matrix again:"
   ]
  },
  {
   "cell_type": "code",
   "execution_count": 69,
   "metadata": {},
   "outputs": [
    {
     "data": {
      "image/png": "[encoded data removed]",
      "text/plain": [
       "<Figure size 600x600 with 1 Axes>"
      ]
     },
     "metadata": {},
     "output_type": "display_data"
    }
   ],
   "source": [
    "plot_confusion_matrix(y_preds, y_valid, labels)"
   ]
  },
  {
   "cell_type": "markdown",
   "metadata": {},
   "source": [
    "This is much closer to the ideal diagonal confusion matrix.  The `love` category is still often confused with `joy`, which seems natural. `surprise` is also frequently mistaken for `joy`, or confused with `fear`. Overall the performance of the model seems quite good, but before we call it a day, let's dive a little deeper into the types of errors our model is likely to make."
   ]
  },
  {
   "cell_type": "markdown",
   "metadata": {},
   "source": [
    "### Sidebar: Fine-Tuning with Keras"
   ]
  },
  {
   "cell_type": "markdown",
   "metadata": {},
   "source": [
    "If you are using TensorFlow, it's also possible to fine-tune your models using the Keras API. The main difference from the PyTorch API is that there is no `Trainer` class, since Keras models already provide a built-in `fit()` method. To see how this works, let's first load  DistilBERT as a TensorFlow model:"
   ]
  },
  {
   "cell_type": "code",
   "execution_count": 72,
   "metadata": {},
   "outputs": [],
   "source": [
    "#hide_output\n",
    "\n",
    "from transformers import TFAutoModelForSequenceClassification, AutoTokenizer\n",
    "\n",
    "model_ckpt = \"distilbert-base-uncased\"   # PT-only weights\n",
    "num_labels = 6\n",
    "\n",
    "tokenizer = AutoTokenizer.from_pretrained(model_ckpt)\n",
    "tf_model = TFAutoModelForSequenceClassification.from_pretrained(\n",
    "    model_ckpt,\n",
    "    num_labels=num_labels,\n",
    "    from_pt=True,          # 👈 convert PT → TF\n",
    ")\n",
    "\n",
    "# sanity check\n",
    "inputs = tokenizer(\"hello world\", return_tensors=\"tf\")\n",
    "_ = tf_model(**inputs)\n"
   ]
  },
  {
   "cell_type": "markdown",
   "metadata": {},
   "source": [
    "Next, we'll convert our datasets into the `tf.data.Dataset` format. Since we have already padded our tokenized inputs, we can do this easily by applying the `to_tf_dataset()` method to `emotions_encoded`:"
   ]
  },
  {
   "cell_type": "code",
   "execution_count": 74,
   "metadata": {},
   "outputs": [],
   "source": [
    "# The column names to convert to TensorFlow tensors\n",
    "tokenizer_columns = tokenizer.model_input_names\n",
    "\n",
    "tf_train_dataset = tf_model.prepare_tf_dataset(\n",
    "    emotions_encoded[\"train\"],\n",
    "    tokenizer=tokenizer,\n",
    "    batch_size=batch_size,\n",
    "    shuffle=True,\n",
    ")\n",
    "tf_eval_dataset = tf_model.prepare_tf_dataset(\n",
    "    emotions_encoded[\"validation\"],\n",
    "    tokenizer=tokenizer,\n",
    "    batch_size=batch_size,\n",
    "    shuffle=False,\n",
    ")\n"
   ]
  },
  {
   "cell_type": "markdown",
   "metadata": {},
   "source": [
    "Here we've also shuffled the training set, and defined the batch size for it and the validation set. The last thing to do is compile and train the model:"
   ]
  },
  {
   "cell_type": "code",
   "execution_count": 75,
   "metadata": {},
   "outputs": [
    {
     "name": "stdout",
     "output_type": "stream",
     "text": [
      "Epoch 1/2\n",
      "250/250 [==============================] - 876s 3s/step - loss: 0.5498 - sparse_categorical_accuracy: 0.8077 - val_loss: 0.1953 - val_sparse_categorical_accuracy: 0.9270\n",
      "Epoch 2/2\n",
      "250/250 [==============================] - 1005s 4s/step - loss: 0.1462 - sparse_categorical_accuracy: 0.9384 - val_loss: 0.1451 - val_sparse_categorical_accuracy: 0.9355\n"
     ]
    },
    {
     "data": {
      "text/plain": [
       "<tf_keras.src.callbacks.History at 0x7fa8dafc4c50>"
      ]
     },
     "execution_count": 75,
     "metadata": {},
     "output_type": "execute_result"
    }
   ],
   "source": [
    "#hide_output\n",
    "import tensorflow as tf\n",
    "\n",
    "tf_model.compile(\n",
    "    optimizer=tf.keras.optimizers.Adam(learning_rate=5e-5),\n",
    "    loss=tf.keras.losses.SparseCategoricalCrossentropy(from_logits=True),\n",
    "    metrics=tf.metrics.SparseCategoricalAccuracy())\n",
    "\n",
    "tf_model.fit(tf_train_dataset, validation_data=tf_eval_dataset, epochs=2)"
   ]
  },
  {
   "cell_type": "markdown",
   "metadata": {},
   "source": [
    "### End sidebar"
   ]
  },
  {
   "cell_type": "markdown",
   "metadata": {},
   "source": [
    "#### Error analysis"
   ]
  },
  {
   "cell_type": "markdown",
   "metadata": {},
   "source": [
    "Before moving on, we should investigate our model's predictions a little bit further. A simple yet powerful technique is to sort the validation samples by the model loss. When we pass the label during the forward pass, the loss is automatically calculated and returned. Here's a function that returns the loss along with the predicted label:"
   ]
  },
  {
   "cell_type": "code",
   "execution_count": 77,
   "metadata": {},
   "outputs": [],
   "source": [
    "from torch.nn.functional import cross_entropy\n",
    "\n",
    "def forward_pass_with_label(batch):\n",
    "    # Place all input tensors on the same device as the model\n",
    "    inputs = {k:v.to(device) for k,v in batch.items() \n",
    "              if k in tokenizer.model_input_names}\n",
    "\n",
    "    with torch.no_grad():\n",
    "        output = model(**inputs)\n",
    "        pred_label = torch.argmax(output.logits, axis=-1)\n",
    "        loss = cross_entropy(output.logits, batch[\"label\"].to(device), \n",
    "                             reduction=\"none\")\n",
    "\n",
    "    # Place outputs on CPU for compatibility with other dataset columns   \n",
    "    return {\"loss\": loss.cpu().numpy(), \n",
    "            \"predicted_label\": pred_label.cpu().numpy()}"
   ]
  },
  {
   "cell_type": "markdown",
   "metadata": {},
   "source": [
    "Using the `map()` method once more, we can apply this function to get the losses for all the samples:"
   ]
  },
  {
   "cell_type": "code",
   "execution_count": 78,
   "metadata": {},
   "outputs": [
    {
     "data": {
      "application/vnd.jupyter.widget-view+json": {
       "model_id": "2a348d70a7c14284aa6baa906de9bdd7",
       "version_major": 2,
       "version_minor": 0
      },
      "text/plain": [
       "Map:   0%|          | 0/2000 [00:00<?, ? examples/s]"
      ]
     },
     "metadata": {},
     "output_type": "display_data"
    }
   ],
   "source": [
    "#hide_output\n",
    "# Convert our dataset back to PyTorch tensors\n",
    "emotions_encoded.set_format(\"torch\", \n",
    "                            columns=[\"input_ids\", \"attention_mask\", \"label\"])\n",
    "# Compute loss values\n",
    "emotions_encoded[\"validation\"] = emotions_encoded[\"validation\"].map(\n",
    "    forward_pass_with_label, batched=True, batch_size=16)"
   ]
  },
  {
   "cell_type": "markdown",
   "metadata": {},
   "source": [
    "Finally, we create a `DataFrame` with the texts, losses, and predicted/true labels:"
   ]
  },
  {
   "cell_type": "code",
   "execution_count": 79,
   "metadata": {},
   "outputs": [],
   "source": [
    "emotions_encoded.set_format(\"pandas\")\n",
    "cols = [\"text\", \"label\", \"predicted_label\", \"loss\"]\n",
    "df_test = emotions_encoded[\"validation\"][:][cols]\n",
    "df_test[\"label\"] = df_test[\"label\"].apply(label_int2str)\n",
    "df_test[\"predicted_label\"] = (df_test[\"predicted_label\"]\n",
    "                              .apply(label_int2str))"
   ]
  },
  {
   "cell_type": "markdown",
   "metadata": {},
   "source": [
    "We can now easily sort `emotions_encoded` by the losses in either ascending or descending order. The goal of this exercise is to detect one of the following:\n",
    "\n",
    "- _Wrong labels_:: Every process that adds labels to data can be flawed. Annotators can make mistakes or disagree, while labels that are inferred from other features can be wrong. If it was easy to automatically annotate data, then we would not need a model to do it. Thus, it is normal that there are some wrongly labeled examples. With this approach, we can quickly find and correct them.\n",
    "\n",
    "- _Quirks of the dataset_:: Datasets in the real world are always a bit messy. When working with text, special characters or strings in the inputs can have a big impact on the model's predictions. Inspecting the model's weakest predictions can help identify such features, and cleaning the data or injecting similar examples can make the model more robust.\n",
    "\n",
    "Let's first have a look at the data samples with the highest losses:"
   ]
  },
  {
   "cell_type": "code",
   "execution_count": 80,
   "metadata": {},
   "outputs": [
    {
     "data": {
      "text/html": [
       "<div>\n",
       "<style scoped>\n",
       "    .dataframe tbody tr th:only-of-type {\n",
       "        vertical-align: middle;\n",
       "    }\n",
       "\n",
       "    .dataframe tbody tr th {\n",
       "        vertical-align: top;\n",
       "    }\n",
       "\n",
       "    .dataframe thead th {\n",
       "        text-align: right;\n",
       "    }\n",
       "</style>\n",
       "<table border=\"1\" class=\"dataframe\">\n",
       "  <thead>\n",
       "    <tr style=\"text-align: right;\">\n",
       "      <th></th>\n",
       "      <th>text</th>\n",
       "      <th>label</th>\n",
       "      <th>predicted_label</th>\n",
       "      <th>loss</th>\n",
       "    </tr>\n",
       "  </thead>\n",
       "  <tbody>\n",
       "    <tr>\n",
       "      <th>882</th>\n",
       "      <td>i feel badly about reneging on my commitment t...</td>\n",
       "      <td>love</td>\n",
       "      <td>sadness</td>\n",
       "      <td>6.662144</td>\n",
       "    </tr>\n",
       "    <tr>\n",
       "      <th>1500</th>\n",
       "      <td>i guess we would naturally feel a sense of lon...</td>\n",
       "      <td>anger</td>\n",
       "      <td>sadness</td>\n",
       "      <td>6.541863</td>\n",
       "    </tr>\n",
       "    <tr>\n",
       "      <th>1963</th>\n",
       "      <td>i called myself pro life and voted for perry w...</td>\n",
       "      <td>joy</td>\n",
       "      <td>sadness</td>\n",
       "      <td>5.626998</td>\n",
       "    </tr>\n",
       "    <tr>\n",
       "      <th>1111</th>\n",
       "      <td>im lazy my characters fall into categories of ...</td>\n",
       "      <td>joy</td>\n",
       "      <td>fear</td>\n",
       "      <td>5.558226</td>\n",
       "    </tr>\n",
       "    <tr>\n",
       "      <th>1840</th>\n",
       "      <td>id let you kill it now but as a matter of fact...</td>\n",
       "      <td>joy</td>\n",
       "      <td>fear</td>\n",
       "      <td>5.295524</td>\n",
       "    </tr>\n",
       "    <tr>\n",
       "      <th>1870</th>\n",
       "      <td>i guess i feel betrayed because i admired him ...</td>\n",
       "      <td>joy</td>\n",
       "      <td>sadness</td>\n",
       "      <td>4.951688</td>\n",
       "    </tr>\n",
       "    <tr>\n",
       "      <th>1964</th>\n",
       "      <td>i feel vaguely cheated and a little amused</td>\n",
       "      <td>joy</td>\n",
       "      <td>anger</td>\n",
       "      <td>4.664730</td>\n",
       "    </tr>\n",
       "    <tr>\n",
       "      <th>1509</th>\n",
       "      <td>i guess this is a memoir so it feels like that...</td>\n",
       "      <td>joy</td>\n",
       "      <td>fear</td>\n",
       "      <td>4.559143</td>\n",
       "    </tr>\n",
       "    <tr>\n",
       "      <th>1836</th>\n",
       "      <td>i got a very nasty electrical shock when i was...</td>\n",
       "      <td>fear</td>\n",
       "      <td>anger</td>\n",
       "      <td>4.541462</td>\n",
       "    </tr>\n",
       "    <tr>\n",
       "      <th>1950</th>\n",
       "      <td>i as representative of everything thats wrong ...</td>\n",
       "      <td>surprise</td>\n",
       "      <td>sadness</td>\n",
       "      <td>3.897882</td>\n",
       "    </tr>\n",
       "  </tbody>\n",
       "</table>\n",
       "</div>"
      ],
      "text/plain": [
       "                                                   text     label  \\\n",
       "882   i feel badly about reneging on my commitment t...      love   \n",
       "1500  i guess we would naturally feel a sense of lon...     anger   \n",
       "1963  i called myself pro life and voted for perry w...       joy   \n",
       "1111  im lazy my characters fall into categories of ...       joy   \n",
       "1840  id let you kill it now but as a matter of fact...       joy   \n",
       "1870  i guess i feel betrayed because i admired him ...       joy   \n",
       "1964         i feel vaguely cheated and a little amused       joy   \n",
       "1509  i guess this is a memoir so it feels like that...       joy   \n",
       "1836  i got a very nasty electrical shock when i was...      fear   \n",
       "1950  i as representative of everything thats wrong ...  surprise   \n",
       "\n",
       "     predicted_label      loss  \n",
       "882          sadness  6.662144  \n",
       "1500         sadness  6.541863  \n",
       "1963         sadness  5.626998  \n",
       "1111            fear  5.558226  \n",
       "1840            fear  5.295524  \n",
       "1870         sadness  4.951688  \n",
       "1964           anger  4.664730  \n",
       "1509            fear  4.559143  \n",
       "1836           anger  4.541462  \n",
       "1950         sadness  3.897882  "
      ]
     },
     "execution_count": 80,
     "metadata": {},
     "output_type": "execute_result"
    }
   ],
   "source": [
    "#hide_output\n",
    "df_test.sort_values(\"loss\", ascending=False).head(10)"
   ]
  },
  {
   "cell_type": "code",
   "execution_count": 84,
   "metadata": {},
   "outputs": [
    {
     "data": {
      "text/plain": [
       "'i feel badly about reneging on my commitment to bring donuts to the faithful at holy family catholic church in columbus ohio'"
      ]
     },
     "execution_count": 84,
     "metadata": {},
     "output_type": "execute_result"
    }
   ],
   "source": [
    "df_test.iloc[882]['text']"
   ]
  },
  {
   "cell_type": "markdown",
   "metadata": {},
   "source": [
    "We can clearly see that the model predicted some of the labels incorrectly. On the other hand, it seems that there are quite a few examples with no clear class, which might be either mislabeled or require a new class altogether. In particular, `joy` seems to be mislabeled several times. With this information we can refine the dataset, which often can lead to as big a performance gain (or more) as having more data or larger models!"
   ]
  },
  {
   "cell_type": "markdown",
   "metadata": {},
   "source": [
    "When looking at the samples with the lowest losses, we observe that the model seems to be most confident when predicting the `sadness` class. Deep learning models are exceptionally good at finding and exploiting shortcuts to get to a prediction. For this reason, it is also worth investing time into looking at the examples that the model is most confident about, so that we can be confident that the model does not improperly exploit certain features of the text. So, let's also look at the predictions with the smallest loss:"
   ]
  },
  {
   "cell_type": "code",
   "execution_count": null,
   "metadata": {},
   "outputs": [
    {
     "data": {
      "text/html": [
       "<div>\n",
       "<style scoped>\n",
       "    .dataframe tbody tr th:only-of-type {\n",
       "        vertical-align: middle;\n",
       "    }\n",
       "\n",
       "    .dataframe tbody tr th {\n",
       "        vertical-align: top;\n",
       "    }\n",
       "\n",
       "    .dataframe thead th {\n",
       "        text-align: right;\n",
       "    }\n",
       "</style>\n",
       "<table border=\"1\" class=\"dataframe\">\n",
       "  <thead>\n",
       "    <tr style=\"text-align: right;\">\n",
       "      <th></th>\n",
       "      <th>text</th>\n",
       "      <th>label</th>\n",
       "      <th>predicted_label</th>\n",
       "      <th>loss</th>\n",
       "    </tr>\n",
       "  </thead>\n",
       "  <tbody>\n",
       "    <tr>\n",
       "      <th>21</th>\n",
       "      <td>i feel try to tell me im ungrateful tell me im...</td>\n",
       "      <td>sadness</td>\n",
       "      <td>sadness</td>\n",
       "      <td>0.017331</td>\n",
       "    </tr>\n",
       "    <tr>\n",
       "      <th>244</th>\n",
       "      <td>im kinda relieve but at the same time i feel d...</td>\n",
       "      <td>sadness</td>\n",
       "      <td>sadness</td>\n",
       "      <td>0.017392</td>\n",
       "    </tr>\n",
       "    <tr>\n",
       "      <th>133</th>\n",
       "      <td>i and feel quite ungrateful for it but i m loo...</td>\n",
       "      <td>sadness</td>\n",
       "      <td>sadness</td>\n",
       "      <td>0.017400</td>\n",
       "    </tr>\n",
       "    <tr>\n",
       "      <th>392</th>\n",
       "      <td>i remember feeling disheartened one day when w...</td>\n",
       "      <td>sadness</td>\n",
       "      <td>sadness</td>\n",
       "      <td>0.017461</td>\n",
       "    </tr>\n",
       "    <tr>\n",
       "      <th>1310</th>\n",
       "      <td>i feel like an ungrateful asshole</td>\n",
       "      <td>sadness</td>\n",
       "      <td>sadness</td>\n",
       "      <td>0.017485</td>\n",
       "    </tr>\n",
       "    <tr>\n",
       "      <th>189</th>\n",
       "      <td>i leave the meeting feeling more than a little...</td>\n",
       "      <td>sadness</td>\n",
       "      <td>sadness</td>\n",
       "      <td>0.017670</td>\n",
       "    </tr>\n",
       "    <tr>\n",
       "      <th>1120</th>\n",
       "      <td>i am feeling a little disheartened</td>\n",
       "      <td>sadness</td>\n",
       "      <td>sadness</td>\n",
       "      <td>0.017685</td>\n",
       "    </tr>\n",
       "    <tr>\n",
       "      <th>783</th>\n",
       "      <td>i feel like i deserve to be broke with how fri...</td>\n",
       "      <td>sadness</td>\n",
       "      <td>sadness</td>\n",
       "      <td>0.017888</td>\n",
       "    </tr>\n",
       "    <tr>\n",
       "      <th>1368</th>\n",
       "      <td>i started this blog with pure intentions i mus...</td>\n",
       "      <td>sadness</td>\n",
       "      <td>sadness</td>\n",
       "      <td>0.017899</td>\n",
       "    </tr>\n",
       "    <tr>\n",
       "      <th>1466</th>\n",
       "      <td>i feel so ungrateful to be wishing this pregna...</td>\n",
       "      <td>sadness</td>\n",
       "      <td>sadness</td>\n",
       "      <td>0.017913</td>\n",
       "    </tr>\n",
       "  </tbody>\n",
       "</table>\n",
       "</div>"
      ],
      "text/plain": [
       "                                                   text    label  \\\n",
       "21    i feel try to tell me im ungrateful tell me im...  sadness   \n",
       "244   im kinda relieve but at the same time i feel d...  sadness   \n",
       "133   i and feel quite ungrateful for it but i m loo...  sadness   \n",
       "392   i remember feeling disheartened one day when w...  sadness   \n",
       "1310                  i feel like an ungrateful asshole  sadness   \n",
       "189   i leave the meeting feeling more than a little...  sadness   \n",
       "1120                 i am feeling a little disheartened  sadness   \n",
       "783   i feel like i deserve to be broke with how fri...  sadness   \n",
       "1368  i started this blog with pure intentions i mus...  sadness   \n",
       "1466  i feel so ungrateful to be wishing this pregna...  sadness   \n",
       "\n",
       "     predicted_label      loss  \n",
       "21           sadness  0.017331  \n",
       "244          sadness  0.017392  \n",
       "133          sadness  0.017400  \n",
       "392          sadness  0.017461  \n",
       "1310         sadness  0.017485  \n",
       "189          sadness  0.017670  \n",
       "1120         sadness  0.017685  \n",
       "783          sadness  0.017888  \n",
       "1368         sadness  0.017899  \n",
       "1466         sadness  0.017913  "
      ]
     },
     "execution_count": null,
     "metadata": {},
     "output_type": "execute_result"
    }
   ],
   "source": [
    "#hide_output\n",
    "df_test.sort_values(\"loss\", ascending=True).head(10)"
   ]
  },
  {
   "cell_type": "markdown",
   "metadata": {},
   "source": [
    "We now know that the `joy` is sometimes mislabeled and that the model is most confident about predicting the label `sadness`. With this information we can make targeted improvements to our dataset, and also keep an eye on the class the model seems to be very confident about. \n",
    "\n",
    "The last step before serving the trained model is to save it for later usage. image:images/logo.png[hf,13,13] Transformers allows us to do this in a few steps, which we'll show you in the next section."
   ]
  },
  {
   "cell_type": "markdown",
   "metadata": {},
   "source": [
    "#### Saving and sharing the model"
   ]
  },
  {
   "cell_type": "markdown",
   "metadata": {},
   "source": [
    "\n",
    "The NLP community benefits greatly from sharing pretrained and fine-tuned models, and everybody can share their models with others via the Hugging Face Hub. Any community-generated model can be downloaded from the Hub just like we downloaded the DistilBERT model. With the `Trainer` API, saving and sharing a model is simple:"
   ]
  },
  {
   "cell_type": "code",
   "execution_count": null,
   "metadata": {},
   "outputs": [
    {
     "data": {
      "text/plain": [
       "'https://huggingface.co/lewtun/distilbert-base-uncased-finetuned-emotion/commit/352c4147e4754f73a0b41f7b175f4a907270c9c9'"
      ]
     },
     "execution_count": null,
     "metadata": {},
     "output_type": "execute_result"
    }
   ],
   "source": [
    "#hide_output\n",
    "trainer.push_to_hub(commit_message=\"Training completed!\")"
   ]
  },
  {
   "cell_type": "markdown",
   "metadata": {},
   "source": [
    "We can also use the fine-tuned model to make predictions on new tweets. Since we've pushed our model to the Hub, we can now use it with the `pipeline()` function, just like we did in <<chapter_introduction>>. First, let's load the pipeline:"
   ]
  },
  {
   "cell_type": "code",
   "execution_count": null,
   "metadata": {},
   "outputs": [],
   "source": [
    "#hide_output\n",
    "from transformers import pipeline\n",
    "\n",
    "# Change `transformersbook` to your Hub username\n",
    "model_id = \"transformersbook/distilbert-base-uncased-finetuned-emotion\"\n",
    "classifier = pipeline(\"text-classification\", model=model_id)"
   ]
  },
  {
   "cell_type": "markdown",
   "metadata": {},
   "source": [
    "Then let's test the pipeline with a sample tweet:"
   ]
  },
  {
   "cell_type": "code",
   "execution_count": null,
   "metadata": {},
   "outputs": [],
   "source": [
    "custom_tweet = \"I saw a movie today and it was really good.\"\n",
    "preds = classifier(custom_tweet, return_all_scores=True)"
   ]
  },
  {
   "cell_type": "markdown",
   "metadata": {},
   "source": [
    "Finally, we can plot the probability for each class in a bar plot. Clearly, the model estimates that the most likely class is `joy`, which appears to be reasonable given the tweet:"
   ]
  },
  {
   "cell_type": "code",
   "execution_count": null,
   "metadata": {},
   "outputs": [
    {
     "data": {
      "application/pdf": "[encoded data removed]",
      "image/svg+xml": [
       "<?xml version=\"1.0\" encoding=\"utf-8\" standalone=\"no\"?>\n",
       "<!DOCTYPE svg PUBLIC \"-//W3C//DTD SVG 1.1//EN\"\n",
       "  \"http://www.w3.org/Graphics/SVG/1.1/DTD/svg11.dtd\">\n",
       "<svg height=\"266.5105pt\" version=\"1.1\" viewBox=\"0 0 387.66875 266.5105\" width=\"387.66875pt\" xmlns=\"http://www.w3.org/2000/svg\" xmlns:xlink=\"http://www.w3.org/1999/xlink\">\n",
       " <metadata>\n",
       "  <rdf:RDF xmlns:cc=\"http://creativecommons.org/ns#\" xmlns:dc=\"http://purl.org/dc/elements/1.1/\" xmlns:rdf=\"http://www.w3.org/1999/02/22-rdf-syntax-ns#\">\n",
       "   <cc:Work>\n",
       "    <dc:type rdf:resource=\"http://purl.org/dc/dcmitype/StillImage\"/>\n",
       "    <dc:date>2021-10-23T17:10:05.056089</dc:date>\n",
       "    <dc:format>image/svg+xml</dc:format>\n",
       "    <dc:creator>\n",
       "     <cc:Agent>\n",
       "      <dc:title>Matplotlib v3.4.3, https://matplotlib.org/</dc:title>\n",
       "     </cc:Agent>\n",
       "    </dc:creator>\n",
       "   </cc:Work>\n",
       "  </rdf:RDF>\n",
       " </metadata>\n",
       " <defs>\n",
       "  <style type=\"text/css\">*{stroke-linecap:butt;stroke-linejoin:round;}</style>\n",
       " </defs>\n",
       " <g id=\"figure_1\">\n",
       "  <g id=\"patch_1\">\n",
       "   <path d=\"M 0 266.5105 \n",
       "L 387.66875 266.5105 \n",
       "L 387.66875 0 \n",
       "L 0 0 \n",
       "z\n",
       "\" style=\"fill:none;\"/>\n",
       "  </g>\n",
       "  <g id=\"axes_1\">\n",
       "   <g id=\"patch_2\">\n",
       "    <path d=\"M 45.66875 241.2105 \n",
       "L 380.46875 241.2105 \n",
       "L 380.46875 23.7705 \n",
       "L 45.66875 23.7705 \n",
       "z\n",
       "\" style=\"fill:#ffffff;\"/>\n",
       "   </g>\n",
       "   <g id=\"patch_3\">\n",
       "    <path clip-path=\"url(#p0277c6ab7c)\" d=\"M 60.886932 241.2105 \n",
       "L 102.868123 241.2105 \n",
       "L 102.868123 238.565264 \n",
       "L 60.886932 238.565264 \n",
       "z\n",
       "\" style=\"fill:#0071bc;\"/>\n",
       "   </g>\n",
       "   <g id=\"patch_4\">\n",
       "    <path clip-path=\"url(#p0277c6ab7c)\" d=\"M 113.363421 241.2105 \n",
       "L 155.344612 241.2105 \n",
       "L 155.344612 34.124786 \n",
       "L 113.363421 34.124786 \n",
       "z\n",
       "\" style=\"fill:#0071bc;\"/>\n",
       "   </g>\n",
       "   <g id=\"patch_5\">\n",
       "    <path clip-path=\"url(#p0277c6ab7c)\" d=\"M 165.83991 241.2105 \n",
       "L 207.821101 241.2105 \n",
       "L 207.821101 238.348227 \n",
       "L 165.83991 238.348227 \n",
       "z\n",
       "\" style=\"fill:#0071bc;\"/>\n",
       "   </g>\n",
       "   <g id=\"patch_6\">\n",
       "    <path clip-path=\"url(#p0277c6ab7c)\" d=\"M 218.316399 241.2105 \n",
       "L 260.29759 241.2105 \n",
       "L 260.29759 240.022391 \n",
       "L 218.316399 240.022391 \n",
       "z\n",
       "\" style=\"fill:#0071bc;\"/>\n",
       "   </g>\n",
       "   <g id=\"patch_7\">\n",
       "    <path clip-path=\"url(#p0277c6ab7c)\" d=\"M 270.792888 241.2105 \n",
       "L 312.774079 241.2105 \n",
       "L 312.774079 239.92348 \n",
       "L 270.792888 239.92348 \n",
       "z\n",
       "\" style=\"fill:#0071bc;\"/>\n",
       "   </g>\n",
       "   <g id=\"patch_8\">\n",
       "    <path clip-path=\"url(#p0277c6ab7c)\" d=\"M 323.269377 241.2105 \n",
       "L 365.250568 241.2105 \n",
       "L 365.250568 239.080111 \n",
       "L 323.269377 239.080111 \n",
       "z\n",
       "\" style=\"fill:#0071bc;\"/>\n",
       "   </g>\n",
       "   <g id=\"matplotlib.axis_1\">\n",
       "    <g id=\"xtick_1\">\n",
       "     <g id=\"line2d_1\">\n",
       "      <defs>\n",
       "       <path d=\"M 0 0 \n",
       "L 0 3.5 \n",
       "\" id=\"m1a205a24a8\" style=\"stroke:#000000;stroke-width:0.8;\"/>\n",
       "      </defs>\n",
       "      <g>\n",
       "       <use style=\"stroke:#000000;stroke-width:0.8;\" x=\"81.877527\" xlink:href=\"#m1a205a24a8\" y=\"241.2105\"/>\n",
       "      </g>\n",
       "     </g>\n",
       "     <g id=\"text_1\">\n",
       "      <!-- sadness -->\n",
       "      <g transform=\"translate(65.089715 257.01925)scale(0.12 -0.12)\">\n",
       "       <defs>\n",
       "        <path d=\"M 992 -51 \n",
       "C 1658 -51 2054 307 2054 947 \n",
       "C 2054 1485 1818 1709 1306 1888 \n",
       "L 1050 1978 \n",
       "C 768 2074 659 2195 659 2451 \n",
       "C 659 2771 864 2893 1222 2893 \n",
       "C 1517 2893 1760 2810 1914 2739 \n",
       "L 1914 3168 \n",
       "C 1773 3251 1568 3334 1197 3334 \n",
       "C 531 3334 160 2982 160 2406 \n",
       "C 160 1901 422 1658 826 1517 \n",
       "L 1082 1427 \n",
       "C 1408 1312 1536 1184 1536 896 \n",
       "C 1536 582 1370 390 934 390 \n",
       "C 582 390 358 480 154 563 \n",
       "L 154 141 \n",
       "C 358 19 640 -51 992 -51 \n",
       "z\n",
       "\" id=\"GuardianSansCond-Regular-73\" transform=\"scale(0.015625)\"/>\n",
       "        <path d=\"M 1082 -51 \n",
       "C 1395 -51 1638 77 1779 230 \n",
       "L 1811 230 \n",
       "L 1862 0 \n",
       "L 2291 0 \n",
       "L 2291 2413 \n",
       "C 2291 3027 1958 3334 1293 3334 \n",
       "C 915 3334 634 3258 410 3155 \n",
       "L 410 2771 \n",
       "C 576 2829 806 2886 1094 2886 \n",
       "C 1600 2886 1766 2739 1766 2278 \n",
       "L 1766 1958 \n",
       "L 1088 1856 \n",
       "C 480 1766 160 1466 160 883 \n",
       "C 160 250 525 -51 1082 -51 \n",
       "z\n",
       "M 1222 358 \n",
       "C 877 358 704 544 704 915 \n",
       "C 704 1274 877 1440 1242 1485 \n",
       "L 1766 1549 \n",
       "L 1766 525 \n",
       "C 1658 435 1459 358 1222 358 \n",
       "z\n",
       "\" id=\"GuardianSansCond-Regular-61\" transform=\"scale(0.015625)\"/>\n",
       "        <path d=\"M 1357 -51 \n",
       "C 1690 -51 1965 77 2125 243 \n",
       "L 2150 243 \n",
       "L 2195 0 \n",
       "L 2637 0 \n",
       "L 2637 4698 \n",
       "L 2118 4698 \n",
       "L 2118 3174 \n",
       "C 1978 3264 1734 3334 1466 3334 \n",
       "C 634 3334 198 2739 198 1670 \n",
       "L 198 1523 \n",
       "C 198 339 723 -51 1357 -51 \n",
       "z\n",
       "M 1504 378 \n",
       "C 992 378 742 749 742 1542 \n",
       "L 742 1728 \n",
       "C 742 2541 979 2893 1536 2893 \n",
       "C 1779 2893 2003 2835 2118 2758 \n",
       "L 2118 595 \n",
       "C 1984 493 1773 378 1504 378 \n",
       "z\n",
       "\" id=\"GuardianSansCond-Regular-64\" transform=\"scale(0.015625)\"/>\n",
       "        <path d=\"M 346 0 \n",
       "L 870 0 \n",
       "L 870 2688 \n",
       "C 1037 2778 1306 2886 1587 2886 \n",
       "C 1965 2886 2093 2765 2093 2458 \n",
       "L 2093 0 \n",
       "L 2611 0 \n",
       "L 2611 2528 \n",
       "C 2611 3085 2342 3334 1811 3334 \n",
       "C 1440 3334 1107 3194 870 3021 \n",
       "L 845 3021 \n",
       "L 845 3283 \n",
       "L 346 3283 \n",
       "L 346 0 \n",
       "z\n",
       "\" id=\"GuardianSansCond-Regular-6e\" transform=\"scale(0.015625)\"/>\n",
       "        <path d=\"M 1555 -51 \n",
       "C 1984 -51 2317 102 2470 243 \n",
       "L 2470 627 \n",
       "C 2240 499 1965 397 1613 397 \n",
       "C 1037 397 742 698 723 1466 \n",
       "L 2554 1466 \n",
       "L 2554 1798 \n",
       "C 2554 2893 2176 3334 1402 3334 \n",
       "C 659 3334 186 2810 186 1722 \n",
       "L 186 1549 \n",
       "C 186 499 634 -51 1555 -51 \n",
       "z\n",
       "M 1382 2906 \n",
       "C 1830 2906 2010 2611 2010 1894 \n",
       "L 723 1894 \n",
       "C 736 2630 992 2906 1382 2906 \n",
       "z\n",
       "\" id=\"GuardianSansCond-Regular-65\" transform=\"scale(0.015625)\"/>\n",
       "       </defs>\n",
       "       <use xlink:href=\"#GuardianSansCond-Regular-73\"/>\n",
       "       <use x=\"34.499985\" xlink:href=\"#GuardianSansCond-Regular-61\"/>\n",
       "       <use x=\"75.399979\" xlink:href=\"#GuardianSansCond-Regular-64\"/>\n",
       "       <use x=\"121.999969\" xlink:href=\"#GuardianSansCond-Regular-6e\"/>\n",
       "       <use x=\"168.09996\" xlink:href=\"#GuardianSansCond-Regular-65\"/>\n",
       "       <use x=\"210.799957\" xlink:href=\"#GuardianSansCond-Regular-73\"/>\n",
       "       <use x=\"245.299942\" xlink:href=\"#GuardianSansCond-Regular-73\"/>\n",
       "      </g>\n",
       "     </g>\n",
       "    </g>\n",
       "    <g id=\"xtick_2\">\n",
       "     <g id=\"line2d_2\">\n",
       "      <g>\n",
       "       <use style=\"stroke:#000000;stroke-width:0.8;\" x=\"134.354016\" xlink:href=\"#m1a205a24a8\" y=\"241.2105\"/>\n",
       "      </g>\n",
       "     </g>\n",
       "     <g id=\"text_2\">\n",
       "      <!-- joy -->\n",
       "      <g transform=\"translate(127.981829 256.946125)scale(0.12 -0.12)\">\n",
       "       <defs>\n",
       "        <path d=\"M 83 -1261 \n",
       "C 666 -1261 870 -870 870 -352 \n",
       "L 870 3283 \n",
       "L 352 3283 \n",
       "L 352 -326 \n",
       "C 352 -678 218 -826 -58 -826 \n",
       "C -160 -826 -262 -806 -339 -794 \n",
       "L -339 -1158 \n",
       "C -237 -1222 -109 -1261 83 -1261 \n",
       "z\n",
       "M 346 3910 \n",
       "L 877 3910 \n",
       "L 877 4474 \n",
       "L 346 4474 \n",
       "L 346 3910 \n",
       "z\n",
       "\" id=\"GuardianSansCond-Regular-6a\" transform=\"scale(0.015625)\"/>\n",
       "        <path d=\"M 1459 -51 \n",
       "C 2272 -51 2733 570 2733 1542 \n",
       "L 2733 1747 \n",
       "C 2733 2771 2291 3334 1459 3334 \n",
       "C 659 3334 186 2714 186 1741 \n",
       "L 186 1530 \n",
       "C 186 531 614 -51 1459 -51 \n",
       "z\n",
       "M 1466 378 \n",
       "C 992 378 723 762 723 1472 \n",
       "L 723 1818 \n",
       "C 723 2451 947 2906 1453 2906 \n",
       "C 1920 2906 2195 2560 2195 1805 \n",
       "L 2195 1466 \n",
       "C 2195 826 1958 378 1466 378 \n",
       "z\n",
       "\" id=\"GuardianSansCond-Regular-6f\" transform=\"scale(0.015625)\"/>\n",
       "        <path d=\"M 570 -1261 \n",
       "C 1082 -1261 1306 -960 1485 -365 \n",
       "L 2592 3283 \n",
       "L 2067 3283 \n",
       "L 1485 1197 \n",
       "C 1421 992 1376 787 1376 787 \n",
       "L 1363 787 \n",
       "C 1363 787 1331 928 1248 1203 \n",
       "L 621 3283 \n",
       "L 51 3283 \n",
       "L 1120 13 \n",
       "L 1018 -294 \n",
       "C 896 -698 749 -826 480 -826 \n",
       "C 384 -826 262 -813 186 -800 \n",
       "L 186 -1171 \n",
       "C 282 -1222 435 -1261 570 -1261 \n",
       "z\n",
       "\" id=\"GuardianSansCond-Regular-79\" transform=\"scale(0.015625)\"/>\n",
       "       </defs>\n",
       "       <use xlink:href=\"#GuardianSansCond-Regular-6a\"/>\n",
       "       <use x=\"19.199997\" xlink:href=\"#GuardianSansCond-Regular-6f\"/>\n",
       "       <use x=\"64.799988\" xlink:href=\"#GuardianSansCond-Regular-79\"/>\n",
       "      </g>\n",
       "     </g>\n",
       "    </g>\n",
       "    <g id=\"xtick_3\">\n",
       "     <g id=\"line2d_3\">\n",
       "      <g>\n",
       "       <use style=\"stroke:#000000;stroke-width:0.8;\" x=\"186.830505\" xlink:href=\"#m1a205a24a8\" y=\"241.2105\"/>\n",
       "      </g>\n",
       "     </g>\n",
       "     <g id=\"text_3\">\n",
       "      <!-- love -->\n",
       "      <g transform=\"translate(177.860505 257.01925)scale(0.12 -0.12)\">\n",
       "       <defs>\n",
       "        <path d=\"M 358 0 \n",
       "L 877 0 \n",
       "L 877 4698 \n",
       "L 358 4698 \n",
       "L 358 0 \n",
       "z\n",
       "\" id=\"GuardianSansCond-Regular-6c\" transform=\"scale(0.015625)\"/>\n",
       "        <path d=\"M 1075 0 \n",
       "L 1613 0 \n",
       "L 2605 3283 \n",
       "L 2093 3283 \n",
       "L 1504 1190 \n",
       "C 1421 870 1370 653 1370 653 \n",
       "L 1344 653 \n",
       "C 1344 653 1299 877 1216 1190 \n",
       "L 627 3283 \n",
       "L 70 3283 \n",
       "L 1075 0 \n",
       "z\n",
       "\" id=\"GuardianSansCond-Regular-76\" transform=\"scale(0.015625)\"/>\n",
       "       </defs>\n",
       "       <use xlink:href=\"#GuardianSansCond-Regular-6c\"/>\n",
       "       <use x=\"19.299988\" xlink:href=\"#GuardianSansCond-Regular-6f\"/>\n",
       "       <use x=\"64.899979\" xlink:href=\"#GuardianSansCond-Regular-76\"/>\n",
       "       <use x=\"106.799973\" xlink:href=\"#GuardianSansCond-Regular-65\"/>\n",
       "      </g>\n",
       "     </g>\n",
       "    </g>\n",
       "    <g id=\"xtick_4\">\n",
       "     <g id=\"line2d_4\">\n",
       "      <g>\n",
       "       <use style=\"stroke:#000000;stroke-width:0.8;\" x=\"239.306995\" xlink:href=\"#m1a205a24a8\" y=\"241.2105\"/>\n",
       "      </g>\n",
       "     </g>\n",
       "     <g id=\"text_4\">\n",
       "      <!-- anger -->\n",
       "      <g transform=\"translate(227.234807 256.994875)scale(0.12 -0.12)\">\n",
       "       <defs>\n",
       "        <path d=\"M 1325 -1235 \n",
       "C 2240 -1235 2675 -787 2675 -179 \n",
       "C 2675 416 2336 704 1696 704 \n",
       "L 1069 704 \n",
       "C 858 704 774 806 774 966 \n",
       "C 774 1069 826 1178 890 1242 \n",
       "C 1018 1197 1171 1178 1331 1178 \n",
       "C 1939 1178 2413 1530 2413 2208 \n",
       "L 2413 2304 \n",
       "C 2413 2560 2336 2739 2234 2874 \n",
       "L 2682 2874 \n",
       "L 2682 3283 \n",
       "L 1747 3283 \n",
       "C 1626 3315 1485 3334 1325 3334 \n",
       "C 704 3334 250 2944 250 2278 \n",
       "L 250 2182 \n",
       "C 250 1786 429 1510 634 1376 \n",
       "C 422 1210 294 1024 294 787 \n",
       "C 294 544 442 403 627 333 \n",
       "L 627 307 \n",
       "C 320 192 64 -38 64 -422 \n",
       "C 64 -915 506 -1235 1325 -1235 \n",
       "z\n",
       "M 1312 -819 \n",
       "C 832 -819 595 -640 595 -326 \n",
       "C 595 -51 762 141 966 218 \n",
       "L 1632 218 \n",
       "C 2022 218 2150 45 2150 -237 \n",
       "C 2150 -602 1926 -819 1312 -819 \n",
       "z\n",
       "M 1331 1581 \n",
       "C 998 1581 762 1773 762 2189 \n",
       "L 762 2323 \n",
       "C 762 2726 973 2931 1331 2931 \n",
       "C 1670 2931 1901 2746 1901 2310 \n",
       "L 1901 2176 \n",
       "C 1901 1779 1683 1581 1331 1581 \n",
       "z\n",
       "\" id=\"GuardianSansCond-Regular-67\" transform=\"scale(0.015625)\"/>\n",
       "        <path d=\"M 346 0 \n",
       "L 870 0 \n",
       "L 870 2605 \n",
       "C 1062 2752 1306 2842 1587 2842 \n",
       "C 1638 2842 1728 2835 1786 2829 \n",
       "L 1786 3302 \n",
       "C 1747 3315 1677 3328 1606 3328 \n",
       "C 1306 3328 1030 3142 870 2938 \n",
       "L 845 2938 \n",
       "L 845 3283 \n",
       "L 346 3283 \n",
       "L 346 0 \n",
       "z\n",
       "\" id=\"GuardianSansCond-Regular-72\" transform=\"scale(0.015625)\"/>\n",
       "       </defs>\n",
       "       <use xlink:href=\"#GuardianSansCond-Regular-61\"/>\n",
       "       <use x=\"40.899994\" xlink:href=\"#GuardianSansCond-Regular-6e\"/>\n",
       "       <use x=\"86.999985\" xlink:href=\"#GuardianSansCond-Regular-67\"/>\n",
       "       <use x=\"129.699982\" xlink:href=\"#GuardianSansCond-Regular-65\"/>\n",
       "       <use x=\"172.399979\" xlink:href=\"#GuardianSansCond-Regular-72\"/>\n",
       "      </g>\n",
       "     </g>\n",
       "    </g>\n",
       "    <g id=\"xtick_5\">\n",
       "     <g id=\"line2d_5\">\n",
       "      <g>\n",
       "       <use style=\"stroke:#000000;stroke-width:0.8;\" x=\"291.783484\" xlink:href=\"#m1a205a24a8\" y=\"241.2105\"/>\n",
       "      </g>\n",
       "     </g>\n",
       "     <g id=\"text_5\">\n",
       "      <!-- fear -->\n",
       "      <g transform=\"translate(283.436921 257.01925)scale(0.12 -0.12)\">\n",
       "       <defs>\n",
       "        <path d=\"M 493 0 \n",
       "L 1018 0 \n",
       "L 1018 2848 \n",
       "L 1626 2848 \n",
       "L 1626 3283 \n",
       "L 1018 3283 \n",
       "L 1018 3712 \n",
       "C 1018 4115 1146 4307 1478 4307 \n",
       "C 1632 4307 1754 4282 1837 4262 \n",
       "L 1837 4640 \n",
       "C 1747 4685 1587 4742 1363 4742 \n",
       "C 826 4742 493 4429 493 3757 \n",
       "L 493 3283 \n",
       "L 96 3283 \n",
       "L 96 2848 \n",
       "L 493 2848 \n",
       "L 493 0 \n",
       "z\n",
       "\" id=\"GuardianSansCond-Regular-66\" transform=\"scale(0.015625)\"/>\n",
       "       </defs>\n",
       "       <use xlink:href=\"#GuardianSansCond-Regular-66\"/>\n",
       "       <use x=\"26.699997\" xlink:href=\"#GuardianSansCond-Regular-65\"/>\n",
       "       <use x=\"69.399994\" xlink:href=\"#GuardianSansCond-Regular-61\"/>\n",
       "       <use x=\"110.299988\" xlink:href=\"#GuardianSansCond-Regular-72\"/>\n",
       "      </g>\n",
       "     </g>\n",
       "    </g>\n",
       "    <g id=\"xtick_6\">\n",
       "     <g id=\"line2d_6\">\n",
       "      <g>\n",
       "       <use style=\"stroke:#000000;stroke-width:0.8;\" x=\"344.259973\" xlink:href=\"#m1a205a24a8\" y=\"241.2105\"/>\n",
       "      </g>\n",
       "     </g>\n",
       "     <g id=\"text_6\">\n",
       "      <!-- surprise -->\n",
       "      <g transform=\"translate(327.418723 257.01925)scale(0.12 -0.12)\">\n",
       "       <defs>\n",
       "        <path d=\"M 1158 -51 \n",
       "C 1523 -51 1824 109 2042 262 \n",
       "L 2067 262 \n",
       "L 2118 0 \n",
       "L 2566 0 \n",
       "L 2566 3283 \n",
       "L 2042 3283 \n",
       "L 2042 602 \n",
       "C 1888 512 1626 397 1350 397 \n",
       "C 947 397 858 557 858 838 \n",
       "L 858 3283 \n",
       "L 333 3283 \n",
       "L 333 826 \n",
       "C 333 301 576 -51 1158 -51 \n",
       "z\n",
       "\" id=\"GuardianSansCond-Regular-75\" transform=\"scale(0.015625)\"/>\n",
       "        <path d=\"M 346 -1222 \n",
       "L 870 -1222 \n",
       "L 870 128 \n",
       "C 1005 38 1242 -51 1542 -51 \n",
       "C 2374 -51 2784 525 2784 1600 \n",
       "L 2784 1818 \n",
       "C 2784 2912 2342 3334 1670 3334 \n",
       "C 1318 3334 1030 3187 870 3034 \n",
       "L 845 3034 \n",
       "L 845 3283 \n",
       "L 346 3283 \n",
       "L 346 -1222 \n",
       "z\n",
       "M 1466 378 \n",
       "C 1210 378 973 461 870 538 \n",
       "L 870 2688 \n",
       "C 992 2784 1229 2893 1523 2893 \n",
       "C 2035 2893 2246 2573 2246 1798 \n",
       "L 2246 1549 \n",
       "C 2246 742 2003 378 1466 378 \n",
       "z\n",
       "\" id=\"GuardianSansCond-Regular-70\" transform=\"scale(0.015625)\"/>\n",
       "        <path d=\"M 358 0 \n",
       "L 883 0 \n",
       "L 883 3283 \n",
       "L 358 3283 \n",
       "L 358 0 \n",
       "z\n",
       "M 352 3910 \n",
       "L 883 3910 \n",
       "L 883 4474 \n",
       "L 352 4474 \n",
       "L 352 3910 \n",
       "z\n",
       "\" id=\"GuardianSansCond-Regular-69\" transform=\"scale(0.015625)\"/>\n",
       "       </defs>\n",
       "       <use xlink:href=\"#GuardianSansCond-Regular-73\"/>\n",
       "       <use x=\"34.499985\" xlink:href=\"#GuardianSansCond-Regular-75\"/>\n",
       "       <use x=\"79.999969\" xlink:href=\"#GuardianSansCond-Regular-72\"/>\n",
       "       <use x=\"108.799957\" xlink:href=\"#GuardianSansCond-Regular-70\"/>\n",
       "       <use x=\"155.399948\" xlink:href=\"#GuardianSansCond-Regular-72\"/>\n",
       "       <use x=\"184.199936\" xlink:href=\"#GuardianSansCond-Regular-69\"/>\n",
       "       <use x=\"203.499924\" xlink:href=\"#GuardianSansCond-Regular-73\"/>\n",
       "       <use x=\"237.999908\" xlink:href=\"#GuardianSansCond-Regular-65\"/>\n",
       "      </g>\n",
       "     </g>\n",
       "    </g>\n",
       "   </g>\n",
       "   <g id=\"matplotlib.axis_2\">\n",
       "    <g id=\"ytick_1\">\n",
       "     <g id=\"line2d_7\">\n",
       "      <defs>\n",
       "       <path d=\"M 0 0 \n",
       "L -3.5 0 \n",
       "\" id=\"mf31c67d87c\" style=\"stroke:#000000;stroke-width:0.8;\"/>\n",
       "      </defs>\n",
       "      <g>\n",
       "       <use style=\"stroke:#000000;stroke-width:0.8;\" x=\"45.66875\" xlink:href=\"#mf31c67d87c\" y=\"241.2105\"/>\n",
       "      </g>\n",
       "     </g>\n",
       "     <g id=\"text_7\">\n",
       "      <!-- 0 -->\n",
       "      <g transform=\"translate(32.24875 245.614875)scale(0.12 -0.12)\">\n",
       "       <defs>\n",
       "        <path d=\"M 1722 -70 \n",
       "C 2656 -70 3155 646 3155 2061 \n",
       "L 3155 2406 \n",
       "C 3155 3891 2598 4499 1715 4499 \n",
       "C 819 4499 269 3834 269 2368 \n",
       "L 269 2042 \n",
       "C 269 499 845 -70 1722 -70 \n",
       "z\n",
       "M 1728 384 \n",
       "C 1069 384 845 979 845 2016 \n",
       "L 845 2490 \n",
       "C 845 3494 1088 4051 1709 4051 \n",
       "C 2336 4051 2592 3514 2592 2458 \n",
       "L 2592 1978 \n",
       "C 2592 934 2374 384 1728 384 \n",
       "z\n",
       "\" id=\"GuardianSansCond-Regular-30\" transform=\"scale(0.015625)\"/>\n",
       "       </defs>\n",
       "       <use xlink:href=\"#GuardianSansCond-Regular-30\"/>\n",
       "      </g>\n",
       "     </g>\n",
       "    </g>\n",
       "    <g id=\"ytick_2\">\n",
       "     <g id=\"line2d_8\">\n",
       "      <g>\n",
       "       <use style=\"stroke:#000000;stroke-width:0.8;\" x=\"45.66875\" xlink:href=\"#mf31c67d87c\" y=\"197.770746\"/>\n",
       "      </g>\n",
       "     </g>\n",
       "     <g id=\"text_8\">\n",
       "      <!-- 20 -->\n",
       "      <g transform=\"translate(27.14875 202.175121)scale(0.12 -0.12)\">\n",
       "       <defs>\n",
       "        <path d=\"M 173 0 \n",
       "L 2470 0 \n",
       "L 2470 461 \n",
       "L 800 461 \n",
       "L 800 480 \n",
       "L 1574 1421 \n",
       "C 2067 2035 2419 2528 2419 3264 \n",
       "C 2419 4026 2029 4499 1222 4499 \n",
       "C 806 4499 499 4410 269 4282 \n",
       "L 269 3853 \n",
       "C 467 3949 730 4032 1056 4032 \n",
       "C 1619 4032 1850 3750 1850 3213 \n",
       "C 1850 2630 1542 2189 1152 1670 \n",
       "L 173 397 \n",
       "L 173 0 \n",
       "z\n",
       "\" id=\"GuardianSansCond-Regular-32\" transform=\"scale(0.015625)\"/>\n",
       "       </defs>\n",
       "       <use xlink:href=\"#GuardianSansCond-Regular-32\"/>\n",
       "       <use x=\"42.499985\" xlink:href=\"#GuardianSansCond-Regular-30\"/>\n",
       "      </g>\n",
       "     </g>\n",
       "    </g>\n",
       "    <g id=\"ytick_3\">\n",
       "     <g id=\"line2d_9\">\n",
       "      <g>\n",
       "       <use style=\"stroke:#000000;stroke-width:0.8;\" x=\"45.66875\" xlink:href=\"#mf31c67d87c\" y=\"154.330991\"/>\n",
       "      </g>\n",
       "     </g>\n",
       "     <g id=\"text_9\">\n",
       "      <!-- 40 -->\n",
       "      <g transform=\"translate(26.56 158.735366)scale(0.12 -0.12)\">\n",
       "       <defs>\n",
       "        <path d=\"M 1805 0 \n",
       "L 2330 0 \n",
       "L 2330 1107 \n",
       "L 2957 1107 \n",
       "L 2957 1562 \n",
       "L 2330 1562 \n",
       "L 2330 4435 \n",
       "L 1869 4435 \n",
       "L 70 1504 \n",
       "L 70 1107 \n",
       "L 1805 1107 \n",
       "L 1805 0 \n",
       "z\n",
       "M 608 1562 \n",
       "L 608 1581 \n",
       "L 1779 3475 \n",
       "L 1805 3475 \n",
       "L 1805 1562 \n",
       "L 608 1562 \n",
       "z\n",
       "\" id=\"GuardianSansCond-Regular-34\" transform=\"scale(0.015625)\"/>\n",
       "       </defs>\n",
       "       <use xlink:href=\"#GuardianSansCond-Regular-34\"/>\n",
       "       <use x=\"47.399994\" xlink:href=\"#GuardianSansCond-Regular-30\"/>\n",
       "      </g>\n",
       "     </g>\n",
       "    </g>\n",
       "    <g id=\"ytick_4\">\n",
       "     <g id=\"line2d_10\">\n",
       "      <g>\n",
       "       <use style=\"stroke:#000000;stroke-width:0.8;\" x=\"45.66875\" xlink:href=\"#mf31c67d87c\" y=\"110.891237\"/>\n",
       "      </g>\n",
       "     </g>\n",
       "     <g id=\"text_10\">\n",
       "      <!-- 60 -->\n",
       "      <g transform=\"translate(26.38 115.295612)scale(0.12 -0.12)\">\n",
       "       <defs>\n",
       "        <path d=\"M 1632 384 \n",
       "C 1082 384 845 915 845 1837 \n",
       "L 845 2054 \n",
       "C 992 2150 1254 2278 1594 2278 \n",
       "C 2086 2278 2323 1984 2323 1357 \n",
       "C 2323 742 2086 384 1632 384 \n",
       "z\n",
       "M 1632 -70 \n",
       "C 2438 -70 2886 544 2886 1408 \n",
       "C 2886 2234 2490 2746 1754 2746 \n",
       "C 1363 2746 1056 2611 845 2445 \n",
       "C 877 3853 1440 4038 2029 4038 \n",
       "C 2291 4038 2554 3974 2688 3930 \n",
       "L 2688 4352 \n",
       "C 2547 4442 2272 4499 1958 4499 \n",
       "C 1043 4499 275 3981 275 2208 \n",
       "L 275 1843 \n",
       "C 275 691 717 -70 1632 -70 \n",
       "z\n",
       "\" id=\"GuardianSansCond-Regular-36\" transform=\"scale(0.015625)\"/>\n",
       "       </defs>\n",
       "       <use xlink:href=\"#GuardianSansCond-Regular-36\"/>\n",
       "       <use x=\"48.899994\" xlink:href=\"#GuardianSansCond-Regular-30\"/>\n",
       "      </g>\n",
       "     </g>\n",
       "    </g>\n",
       "    <g id=\"ytick_5\">\n",
       "     <g id=\"line2d_11\">\n",
       "      <g>\n",
       "       <use style=\"stroke:#000000;stroke-width:0.8;\" x=\"45.66875\" xlink:href=\"#mf31c67d87c\" y=\"67.451483\"/>\n",
       "      </g>\n",
       "     </g>\n",
       "     <g id=\"text_11\">\n",
       "      <!-- 80 -->\n",
       "      <g transform=\"translate(26.32 71.855858)scale(0.12 -0.12)\">\n",
       "       <defs>\n",
       "        <path d=\"M 1581 -64 \n",
       "C 2445 -64 2931 467 2931 1139 \n",
       "C 2931 1760 2592 2074 2106 2330 \n",
       "C 2490 2541 2822 2899 2822 3424 \n",
       "C 2822 4077 2394 4499 1606 4499 \n",
       "C 819 4499 384 4013 384 3398 \n",
       "C 384 2848 678 2509 1069 2285 \n",
       "C 602 2054 230 1683 230 1082 \n",
       "C 230 384 710 -64 1581 -64 \n",
       "z\n",
       "M 1587 390 \n",
       "C 1082 390 768 678 768 1126 \n",
       "C 768 1581 1037 1894 1414 2080 \n",
       "C 2029 1792 2387 1574 2387 1082 \n",
       "C 2387 614 2054 390 1587 390 \n",
       "z\n",
       "M 1754 2522 \n",
       "C 1210 2778 928 3021 928 3430 \n",
       "C 928 3821 1171 4051 1606 4051 \n",
       "C 2067 4051 2285 3782 2285 3398 \n",
       "C 2285 3008 2099 2765 1754 2522 \n",
       "z\n",
       "\" id=\"GuardianSansCond-Regular-38\" transform=\"scale(0.015625)\"/>\n",
       "       </defs>\n",
       "       <use xlink:href=\"#GuardianSansCond-Regular-38\"/>\n",
       "       <use x=\"49.399994\" xlink:href=\"#GuardianSansCond-Regular-30\"/>\n",
       "      </g>\n",
       "     </g>\n",
       "    </g>\n",
       "    <g id=\"ytick_6\">\n",
       "     <g id=\"line2d_12\">\n",
       "      <g>\n",
       "       <use style=\"stroke:#000000;stroke-width:0.8;\" x=\"45.66875\" xlink:href=\"#mf31c67d87c\" y=\"24.011728\"/>\n",
       "      </g>\n",
       "     </g>\n",
       "     <g id=\"text_12\">\n",
       "      <!-- 100 -->\n",
       "      <g transform=\"translate(22.373125 28.416103)scale(0.12 -0.12)\">\n",
       "       <defs>\n",
       "        <path d=\"M 832 0 \n",
       "L 1363 0 \n",
       "L 1363 4474 \n",
       "L 1171 4474 \n",
       "L 141 4083 \n",
       "L 141 3776 \n",
       "L 832 3846 \n",
       "L 832 0 \n",
       "z\n",
       "\" id=\"GuardianSansCond-Regular-31\" transform=\"scale(0.015625)\"/>\n",
       "       </defs>\n",
       "       <use xlink:href=\"#GuardianSansCond-Regular-31\"/>\n",
       "       <use x=\"28.799988\" xlink:href=\"#GuardianSansCond-Regular-30\"/>\n",
       "       <use x=\"82.299973\" xlink:href=\"#GuardianSansCond-Regular-30\"/>\n",
       "      </g>\n",
       "     </g>\n",
       "    </g>\n",
       "    <g id=\"text_13\">\n",
       "     <!-- Class probability (%) -->\n",
       "     <g transform=\"translate(16.00875 175.635187)rotate(-90)scale(0.12 -0.12)\">\n",
       "      <defs>\n",
       "       <path d=\"M 1882 -64 \n",
       "C 2304 -64 2637 38 2874 186 \n",
       "L 2874 640 \n",
       "C 2643 518 2342 397 1946 397 \n",
       "C 1114 397 806 986 806 2042 \n",
       "L 806 2445 \n",
       "C 806 3648 1267 4038 1920 4038 \n",
       "C 2278 4038 2541 3955 2822 3840 \n",
       "L 2822 4288 \n",
       "C 2618 4410 2336 4499 1952 4499 \n",
       "C 1005 4499 237 3994 237 2387 \n",
       "L 237 2042 \n",
       "C 237 563 851 -64 1882 -64 \n",
       "z\n",
       "\" id=\"GuardianSansCond-Regular-43\" transform=\"scale(0.015625)\"/>\n",
       "       <path id=\"GuardianSansCond-Regular-20\" transform=\"scale(0.015625)\"/>\n",
       "       <path d=\"M 1382 -64 \n",
       "C 2317 -64 2784 531 2784 1619 \n",
       "L 2784 1843 \n",
       "C 2784 2995 2285 3334 1702 3334 \n",
       "C 1338 3334 1075 3219 896 3104 \n",
       "L 870 3104 \n",
       "L 870 4698 \n",
       "L 346 4698 \n",
       "L 346 102 \n",
       "C 557 19 1005 -64 1382 -64 \n",
       "z\n",
       "M 1408 378 \n",
       "C 1165 378 979 416 870 454 \n",
       "L 870 2733 \n",
       "C 992 2790 1216 2893 1491 2893 \n",
       "C 2003 2893 2246 2650 2246 1818 \n",
       "L 2246 1549 \n",
       "C 2246 627 1875 378 1408 378 \n",
       "z\n",
       "\" id=\"GuardianSansCond-Regular-62\" transform=\"scale(0.015625)\"/>\n",
       "       <path d=\"M 1222 -38 \n",
       "C 1466 -38 1619 26 1722 90 \n",
       "L 1722 442 \n",
       "C 1632 416 1517 390 1382 390 \n",
       "C 1107 390 1005 480 1005 781 \n",
       "L 1005 2848 \n",
       "L 1683 2848 \n",
       "L 1683 3283 \n",
       "L 1005 3283 \n",
       "L 1005 4051 \n",
       "L 486 4051 \n",
       "L 486 3283 \n",
       "L 96 3283 \n",
       "L 96 2848 \n",
       "L 486 2848 \n",
       "L 486 710 \n",
       "C 486 160 774 -38 1222 -38 \n",
       "z\n",
       "\" id=\"GuardianSansCond-Regular-74\" transform=\"scale(0.015625)\"/>\n",
       "       <path d=\"M 1318 -768 \n",
       "L 1760 -768 \n",
       "C 1267 -166 826 877 826 1869 \n",
       "L 826 2086 \n",
       "C 826 3117 1267 4102 1760 4698 \n",
       "L 1318 4698 \n",
       "C 800 4160 275 3187 275 2029 \n",
       "L 275 1882 \n",
       "C 275 723 800 -237 1318 -768 \n",
       "z\n",
       "\" id=\"GuardianSansCond-Regular-28\" transform=\"scale(0.015625)\"/>\n",
       "       <path d=\"M 755 -256 \n",
       "L 1210 -256 \n",
       "L 3770 4563 \n",
       "L 3309 4563 \n",
       "L 755 -256 \n",
       "z\n",
       "M 1082 2176 \n",
       "C 1677 2176 1984 2637 1984 3315 \n",
       "L 1984 3411 \n",
       "C 1984 4109 1664 4499 1075 4499 \n",
       "C 493 4499 173 4064 173 3392 \n",
       "L 173 3290 \n",
       "C 173 2560 493 2176 1082 2176 \n",
       "z\n",
       "M 1088 2547 \n",
       "C 794 2547 640 2739 640 3264 \n",
       "L 640 3437 \n",
       "C 640 3942 800 4134 1082 4134 \n",
       "C 1357 4134 1517 3936 1517 3430 \n",
       "L 1517 3258 \n",
       "C 1517 2739 1376 2547 1088 2547 \n",
       "z\n",
       "M 3501 -58 \n",
       "C 4090 -58 4403 403 4403 1082 \n",
       "L 4403 1178 \n",
       "C 4403 1875 4083 2266 3494 2266 \n",
       "C 2912 2266 2592 1830 2592 1158 \n",
       "L 2592 1056 \n",
       "C 2592 326 2912 -58 3501 -58 \n",
       "z\n",
       "M 3507 307 \n",
       "C 3213 307 3059 506 3059 1030 \n",
       "L 3059 1203 \n",
       "C 3059 1709 3219 1901 3501 1901 \n",
       "C 3776 1901 3936 1702 3936 1197 \n",
       "L 3936 1024 \n",
       "C 3936 506 3795 307 3507 307 \n",
       "z\n",
       "\" id=\"GuardianSansCond-Regular-25\" transform=\"scale(0.015625)\"/>\n",
       "       <path d=\"M 32 -768 \n",
       "L 480 -768 \n",
       "C 992 -237 1517 717 1517 1882 \n",
       "L 1517 2029 \n",
       "C 1517 3181 992 4160 480 4698 \n",
       "L 32 4698 \n",
       "C 531 4096 973 3053 973 2035 \n",
       "L 973 1818 \n",
       "C 973 813 531 -166 32 -768 \n",
       "z\n",
       "\" id=\"GuardianSansCond-Regular-29\" transform=\"scale(0.015625)\"/>\n",
       "      </defs>\n",
       "      <use xlink:href=\"#GuardianSansCond-Regular-43\"/>\n",
       "      <use x=\"47.399994\" xlink:href=\"#GuardianSansCond-Regular-6c\"/>\n",
       "      <use x=\"66.699982\" xlink:href=\"#GuardianSansCond-Regular-61\"/>\n",
       "      <use x=\"107.599976\" xlink:href=\"#GuardianSansCond-Regular-73\"/>\n",
       "      <use x=\"142.09996\" xlink:href=\"#GuardianSansCond-Regular-73\"/>\n",
       "      <use x=\"176.599945\" xlink:href=\"#GuardianSansCond-Regular-20\"/>\n",
       "      <use x=\"192.399933\" xlink:href=\"#GuardianSansCond-Regular-70\"/>\n",
       "      <use x=\"238.999924\" xlink:href=\"#GuardianSansCond-Regular-72\"/>\n",
       "      <use x=\"267.799911\" xlink:href=\"#GuardianSansCond-Regular-6f\"/>\n",
       "      <use x=\"313.399902\" xlink:href=\"#GuardianSansCond-Regular-62\"/>\n",
       "      <use x=\"359.999893\" xlink:href=\"#GuardianSansCond-Regular-61\"/>\n",
       "      <use x=\"400.899887\" xlink:href=\"#GuardianSansCond-Regular-62\"/>\n",
       "      <use x=\"447.499878\" xlink:href=\"#GuardianSansCond-Regular-69\"/>\n",
       "      <use x=\"466.799866\" xlink:href=\"#GuardianSansCond-Regular-6c\"/>\n",
       "      <use x=\"486.099854\" xlink:href=\"#GuardianSansCond-Regular-69\"/>\n",
       "      <use x=\"505.399841\" xlink:href=\"#GuardianSansCond-Regular-74\"/>\n",
       "      <use x=\"534.399826\" xlink:href=\"#GuardianSansCond-Regular-79\"/>\n",
       "      <use x=\"575.79982\" xlink:href=\"#GuardianSansCond-Regular-20\"/>\n",
       "      <use x=\"591.599808\" xlink:href=\"#GuardianSansCond-Regular-28\"/>\n",
       "      <use x=\"619.599792\" xlink:href=\"#GuardianSansCond-Regular-25\"/>\n",
       "      <use x=\"691.099777\" xlink:href=\"#GuardianSansCond-Regular-29\"/>\n",
       "     </g>\n",
       "    </g>\n",
       "   </g>\n",
       "   <g id=\"patch_9\">\n",
       "    <path d=\"M 45.66875 241.2105 \n",
       "L 45.66875 23.7705 \n",
       "\" style=\"fill:none;stroke:#000000;stroke-linecap:square;stroke-linejoin:miter;stroke-width:0.8;\"/>\n",
       "   </g>\n",
       "   <g id=\"patch_10\">\n",
       "    <path d=\"M 380.46875 241.2105 \n",
       "L 380.46875 23.7705 \n",
       "\" style=\"fill:none;stroke:#000000;stroke-linecap:square;stroke-linejoin:miter;stroke-width:0.8;\"/>\n",
       "   </g>\n",
       "   <g id=\"patch_11\">\n",
       "    <path d=\"M 45.66875 241.2105 \n",
       "L 380.46875 241.2105 \n",
       "\" style=\"fill:none;stroke:#000000;stroke-linecap:square;stroke-linejoin:miter;stroke-width:0.8;\"/>\n",
       "   </g>\n",
       "   <g id=\"patch_12\">\n",
       "    <path d=\"M 45.66875 23.7705 \n",
       "L 380.46875 23.7705 \n",
       "\" style=\"fill:none;stroke:#000000;stroke-linecap:square;stroke-linejoin:miter;stroke-width:0.8;\"/>\n",
       "   </g>\n",
       "   <g id=\"text_14\">\n",
       "    <!-- \"I saw a movie today and it was really good.\" -->\n",
       "    <g transform=\"translate(102.0965 17.7705)scale(0.144 -0.144)\">\n",
       "     <defs>\n",
       "      <path d=\"M 339 3264 \n",
       "L 768 3264 \n",
       "L 832 4435 \n",
       "L 275 4435 \n",
       "L 339 3264 \n",
       "z\n",
       "M 1222 3264 \n",
       "L 1651 3264 \n",
       "L 1715 4435 \n",
       "L 1158 4435 \n",
       "L 1222 3264 \n",
       "z\n",
       "\" id=\"GuardianSansCond-Regular-22\" transform=\"scale(0.015625)\"/>\n",
       "      <path d=\"M 429 0 \n",
       "L 966 0 \n",
       "L 966 4435 \n",
       "L 429 4435 \n",
       "L 429 0 \n",
       "z\n",
       "\" id=\"GuardianSansCond-Regular-49\" transform=\"scale(0.015625)\"/>\n",
       "      <path d=\"M 858 0 \n",
       "L 1402 0 \n",
       "L 1818 1696 \n",
       "C 1920 2099 1984 2426 1984 2426 \n",
       "L 2003 2426 \n",
       "C 2003 2426 2074 2093 2170 1696 \n",
       "L 2586 0 \n",
       "L 3136 0 \n",
       "L 3898 3283 \n",
       "L 3398 3283 \n",
       "L 3002 1344 \n",
       "C 2931 966 2874 704 2874 704 \n",
       "L 2854 704 \n",
       "C 2854 704 2803 954 2707 1350 \n",
       "L 2253 3283 \n",
       "L 1773 3283 \n",
       "L 1325 1350 \n",
       "C 1242 979 1178 704 1178 704 \n",
       "L 1158 704 \n",
       "C 1158 704 1107 973 1030 1350 \n",
       "L 627 3283 \n",
       "L 83 3283 \n",
       "L 858 0 \n",
       "z\n",
       "\" id=\"GuardianSansCond-Regular-77\" transform=\"scale(0.015625)\"/>\n",
       "      <path d=\"M 346 0 \n",
       "L 870 0 \n",
       "L 870 2688 \n",
       "C 1050 2790 1267 2886 1523 2886 \n",
       "C 1856 2886 1971 2758 1971 2464 \n",
       "L 1971 0 \n",
       "L 2490 0 \n",
       "L 2490 2688 \n",
       "C 2682 2797 2912 2886 3136 2886 \n",
       "C 3488 2886 3590 2746 3590 2464 \n",
       "L 3590 0 \n",
       "L 4115 0 \n",
       "L 4115 2528 \n",
       "C 4115 3104 3821 3334 3347 3334 \n",
       "C 2995 3334 2688 3187 2419 2995 \n",
       "L 2394 2995 \n",
       "C 2266 3226 2061 3334 1722 3334 \n",
       "C 1395 3334 1088 3181 870 3021 \n",
       "L 845 3021 \n",
       "L 845 3283 \n",
       "L 346 3283 \n",
       "L 346 0 \n",
       "z\n",
       "\" id=\"GuardianSansCond-Regular-6d\" transform=\"scale(0.015625)\"/>\n",
       "      <path d=\"M 397 0 \n",
       "L 986 0 \n",
       "L 986 621 \n",
       "L 397 621 \n",
       "L 397 0 \n",
       "z\n",
       "\" id=\"GuardianSansCond-Regular-2e\" transform=\"scale(0.015625)\"/>\n",
       "     </defs>\n",
       "     <use xlink:href=\"#GuardianSansCond-Regular-22\"/>\n",
       "     <use x=\"31.199997\" xlink:href=\"#GuardianSansCond-Regular-49\"/>\n",
       "     <use x=\"52.899994\" xlink:href=\"#GuardianSansCond-Regular-20\"/>\n",
       "     <use x=\"68.699982\" xlink:href=\"#GuardianSansCond-Regular-73\"/>\n",
       "     <use x=\"103.199966\" xlink:href=\"#GuardianSansCond-Regular-61\"/>\n",
       "     <use x=\"144.09996\" xlink:href=\"#GuardianSansCond-Regular-77\"/>\n",
       "     <use x=\"206.299957\" xlink:href=\"#GuardianSansCond-Regular-20\"/>\n",
       "     <use x=\"222.099945\" xlink:href=\"#GuardianSansCond-Regular-61\"/>\n",
       "     <use x=\"262.999939\" xlink:href=\"#GuardianSansCond-Regular-20\"/>\n",
       "     <use x=\"278.799927\" xlink:href=\"#GuardianSansCond-Regular-6d\"/>\n",
       "     <use x=\"348.299911\" xlink:href=\"#GuardianSansCond-Regular-6f\"/>\n",
       "     <use x=\"393.899902\" xlink:href=\"#GuardianSansCond-Regular-76\"/>\n",
       "     <use x=\"435.799896\" xlink:href=\"#GuardianSansCond-Regular-69\"/>\n",
       "     <use x=\"455.099884\" xlink:href=\"#GuardianSansCond-Regular-65\"/>\n",
       "     <use x=\"497.799881\" xlink:href=\"#GuardianSansCond-Regular-20\"/>\n",
       "     <use x=\"513.599869\" xlink:href=\"#GuardianSansCond-Regular-74\"/>\n",
       "     <use x=\"542.599854\" xlink:href=\"#GuardianSansCond-Regular-6f\"/>\n",
       "     <use x=\"588.199844\" xlink:href=\"#GuardianSansCond-Regular-64\"/>\n",
       "     <use x=\"634.799835\" xlink:href=\"#GuardianSansCond-Regular-61\"/>\n",
       "     <use x=\"675.699829\" xlink:href=\"#GuardianSansCond-Regular-79\"/>\n",
       "     <use x=\"717.099823\" xlink:href=\"#GuardianSansCond-Regular-20\"/>\n",
       "     <use x=\"732.899811\" xlink:href=\"#GuardianSansCond-Regular-61\"/>\n",
       "     <use x=\"773.799805\" xlink:href=\"#GuardianSansCond-Regular-6e\"/>\n",
       "     <use x=\"819.899796\" xlink:href=\"#GuardianSansCond-Regular-64\"/>\n",
       "     <use x=\"866.499786\" xlink:href=\"#GuardianSansCond-Regular-20\"/>\n",
       "     <use x=\"882.299774\" xlink:href=\"#GuardianSansCond-Regular-69\"/>\n",
       "     <use x=\"901.599762\" xlink:href=\"#GuardianSansCond-Regular-74\"/>\n",
       "     <use x=\"930.599747\" xlink:href=\"#GuardianSansCond-Regular-20\"/>\n",
       "     <use x=\"946.399734\" xlink:href=\"#GuardianSansCond-Regular-77\"/>\n",
       "     <use x=\"1008.599731\" xlink:href=\"#GuardianSansCond-Regular-61\"/>\n",
       "     <use x=\"1049.499725\" xlink:href=\"#GuardianSansCond-Regular-73\"/>\n",
       "     <use x=\"1083.99971\" xlink:href=\"#GuardianSansCond-Regular-20\"/>\n",
       "     <use x=\"1099.799698\" xlink:href=\"#GuardianSansCond-Regular-72\"/>\n",
       "     <use x=\"1128.599686\" xlink:href=\"#GuardianSansCond-Regular-65\"/>\n",
       "     <use x=\"1171.299683\" xlink:href=\"#GuardianSansCond-Regular-61\"/>\n",
       "     <use x=\"1212.199677\" xlink:href=\"#GuardianSansCond-Regular-6c\"/>\n",
       "     <use x=\"1231.499664\" xlink:href=\"#GuardianSansCond-Regular-6c\"/>\n",
       "     <use x=\"1250.799652\" xlink:href=\"#GuardianSansCond-Regular-79\"/>\n",
       "     <use x=\"1292.199646\" xlink:href=\"#GuardianSansCond-Regular-20\"/>\n",
       "     <use x=\"1307.999634\" xlink:href=\"#GuardianSansCond-Regular-67\"/>\n",
       "     <use x=\"1350.699631\" xlink:href=\"#GuardianSansCond-Regular-6f\"/>\n",
       "     <use x=\"1396.299622\" xlink:href=\"#GuardianSansCond-Regular-6f\"/>\n",
       "     <use x=\"1441.899612\" xlink:href=\"#GuardianSansCond-Regular-64\"/>\n",
       "     <use x=\"1488.499603\" xlink:href=\"#GuardianSansCond-Regular-2e\"/>\n",
       "     <use x=\"1510.099594\" xlink:href=\"#GuardianSansCond-Regular-22\"/>\n",
       "    </g>\n",
       "   </g>\n",
       "  </g>\n",
       " </g>\n",
       " <defs>\n",
       "  <clipPath id=\"p0277c6ab7c\">\n",
       "   <rect height=\"217.44\" width=\"334.8\" x=\"45.66875\" y=\"23.7705\"/>\n",
       "  </clipPath>\n",
       " </defs>\n",
       "</svg>\n"
      ],
      "text/plain": [
       "<Figure size 432x288 with 1 Axes>"
      ]
     },
     "metadata": {
      "needs_background": "light"
     },
     "output_type": "display_data"
    }
   ],
   "source": [
    "preds_df = pd.DataFrame(preds[0])\n",
    "plt.bar(labels, 100 * preds_df[\"score\"], color='C0')\n",
    "plt.title(f'\"{custom_tweet}\"')\n",
    "plt.ylabel(\"Class probability (%)\")\n",
    "plt.show()"
   ]
  },
  {
   "cell_type": "markdown",
   "metadata": {},
   "source": [
    "## Conclusion"
   ]
  },
  {
   "cell_type": "markdown",
   "metadata": {},
   "source": [
    "Congratulations, you now know how to train a transformer model to classify the emotions in tweets! We have seen two complementary approaches based on features and fine-tuning, and investigated their strengths and weaknesses. \n",
    "\n",
    "However, this is just the first step in building a real-world application with transformer models, and we have a lot more ground to cover. Here's a list of challenges you're likely to experience in your NLP journey:\n",
    "\n",
    "My boss wants my model in production yesterday!::\n",
    "In most applications, your model doesn't just sit somewhere gathering dust - you want to make sure it's serving predictions! When a model is pushed to the Hub, an inference endpoint is automatically created that can be called with HTTP requests. We recommend checking out the [documentation](https://api-inference.huggingface.co/docs/python/html/index.html) of the Inference API if you want to learn more. \n",
    "\n",
    "My users want faster predictions!::\n",
    "We've already seen one approach to this problem: using DistilBERT. In <<chapter_compression>> we'll dive into knowledge distillation (the process by which DistilBERT was created), along with other tricks to speed up your transformer models.\n",
    "\n",
    "\n",
    "Can your model also do X?::\n",
    "As we've alluded to in this chapter, transformers are extremely versatile. In the rest of the book we will be exploring a range of tasks, like question answering and named entity recognition, all using the same basic architecture.\n",
    "\n",
    "None of my texts are in English!::\n",
    "It turns out that transformers also come in a multilingual variety, and we'll use them in <<chapter_ner>> to tackle several languages at once.\n",
    "\n",
    "I don't have any labels!::\n",
    "If there is very little labeled data available, fine-tuning may not be an option. In <<chapter_fewlabels>>, we'll explore some techniques to deal with this situation.\n",
    "\n",
    "Now that we've seen what's involved in training and sharing a transformer, in the next chapter we'll explore implementing our very own transformer model from scratch."
   ]
  },
  {
   "cell_type": "code",
   "execution_count": null,
   "metadata": {},
   "outputs": [],
   "source": []
  }
 ],
 "metadata": {
  "kernelspec": {
   "display_name": "Python 3 (ipykernel)",
   "language": "python",
   "name": "python3"
  },
  "language_info": {
   "codemirror_mode": {
    "name": "ipython",
    "version": 3
   },
   "file_extension": ".py",
   "mimetype": "text/x-python",
   "name": "python",
   "nbconvert_exporter": "python",
   "pygments_lexer": "ipython3",
   "version": "3.11.2"
  }
 },
 "nbformat": 4,
 "nbformat_minor": 4
}
